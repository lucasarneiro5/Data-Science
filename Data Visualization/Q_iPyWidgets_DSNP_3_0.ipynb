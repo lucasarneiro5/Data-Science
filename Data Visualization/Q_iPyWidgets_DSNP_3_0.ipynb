{
  "nbformat": 4,
  "nbformat_minor": 0,
  "metadata": {
    "colab": {
      "name": "iPyWidgets - DSNP 3.0",
      "provenance": []
    },
    "kernelspec": {
      "name": "python3",
      "display_name": "Python 3"
    },
    "language_info": {
      "name": "python"
    },
    "widgets": {
      "application/vnd.jupyter.widget-state+json": {
        "6d2d02f48b774b8e99fcf7157f74af3f": {
          "model_module": "@jupyter-widgets/controls",
          "model_name": "VBoxModel",
          "model_module_version": "1.5.0",
          "state": {
            "_view_name": "VBoxView",
            "_dom_classes": [
              "widget-interact"
            ],
            "_model_name": "VBoxModel",
            "_view_module": "@jupyter-widgets/controls",
            "_model_module_version": "1.5.0",
            "_view_count": null,
            "_view_module_version": "1.5.0",
            "box_style": "",
            "layout": "IPY_MODEL_e513cf1ca9464da9a8213c2ba6074ca9",
            "_model_module": "@jupyter-widgets/controls",
            "children": [
              "IPY_MODEL_55058d75f4244297b85f4cf68c8a4dad",
              "IPY_MODEL_b692033af7ec467bbb7680c67ee11acf"
            ]
          }
        },
        "e513cf1ca9464da9a8213c2ba6074ca9": {
          "model_module": "@jupyter-widgets/base",
          "model_name": "LayoutModel",
          "model_module_version": "1.2.0",
          "state": {
            "_view_name": "LayoutView",
            "grid_template_rows": null,
            "right": null,
            "justify_content": null,
            "_view_module": "@jupyter-widgets/base",
            "overflow": null,
            "_model_module_version": "1.2.0",
            "_view_count": null,
            "flex_flow": null,
            "width": null,
            "min_width": null,
            "border": null,
            "align_items": null,
            "bottom": null,
            "_model_module": "@jupyter-widgets/base",
            "top": null,
            "grid_column": null,
            "overflow_y": null,
            "overflow_x": null,
            "grid_auto_flow": null,
            "grid_area": null,
            "grid_template_columns": null,
            "flex": null,
            "_model_name": "LayoutModel",
            "justify_items": null,
            "grid_row": null,
            "max_height": null,
            "align_content": null,
            "visibility": null,
            "align_self": null,
            "height": null,
            "min_height": null,
            "padding": null,
            "grid_auto_rows": null,
            "grid_gap": null,
            "max_width": null,
            "order": null,
            "_view_module_version": "1.2.0",
            "grid_template_areas": null,
            "object_position": null,
            "object_fit": null,
            "grid_auto_columns": null,
            "margin": null,
            "display": null,
            "left": null
          }
        },
        "55058d75f4244297b85f4cf68c8a4dad": {
          "model_module": "@jupyter-widgets/controls",
          "model_name": "IntSliderModel",
          "model_module_version": "1.5.0",
          "state": {
            "_view_name": "IntSliderView",
            "style": "IPY_MODEL_892d36a2425c481c80c6a1d8e08da948",
            "_dom_classes": [],
            "description": "x",
            "step": 1,
            "_model_name": "IntSliderModel",
            "orientation": "horizontal",
            "max": 10,
            "_view_module": "@jupyter-widgets/controls",
            "_model_module_version": "1.5.0",
            "value": 2,
            "_view_count": null,
            "disabled": false,
            "_view_module_version": "1.5.0",
            "min": -5,
            "continuous_update": true,
            "readout_format": "d",
            "description_tooltip": null,
            "readout": true,
            "_model_module": "@jupyter-widgets/controls",
            "layout": "IPY_MODEL_e75812b3c230428f89ab07959adaf589"
          }
        },
        "b692033af7ec467bbb7680c67ee11acf": {
          "model_module": "@jupyter-widgets/output",
          "model_name": "OutputModel",
          "model_module_version": "1.0.0",
          "state": {
            "_view_name": "OutputView",
            "msg_id": "",
            "_dom_classes": [],
            "_model_name": "OutputModel",
            "outputs": [
              {
                "output_type": "display_data",
                "data": {
                  "image/png": "iVBORw0KGgoAAAANSUhEUgAAAXkAAAD8CAYAAACSCdTiAAAABHNCSVQICAgIfAhkiAAAAAlwSFlzAAALEgAACxIB0t1+/AAAADh0RVh0U29mdHdhcmUAbWF0cGxvdGxpYiB2ZXJzaW9uMy4yLjIsIGh0dHA6Ly9tYXRwbG90bGliLm9yZy+WH4yJAAAQzUlEQVR4nO3df2xdZ33H8fe3SduUpMRF5BexvWQ0pQuldcGUQtE2aIGyIcImKGEaFKgUIZUNEBK0VBqatkqdmNiY+CEiYCtaRakKVSPWQWnXaeIPSlMaA0nolvVH7DTQlMYJJKxpku/+uKeJk9qxr8+9vvZz3y/Jyr3nXN/n6Yn96cnHzzmOzESSVKbTOj0BSVL7GPKSVDBDXpIKZshLUsEMeUkqmCEvSQWrHfIRsSAifhQRQxGxNSL+utq+OiLuj4gdEfHNiDij/nQlSc1oxZn8M8AbM/MiYAC4MiIuBf4O+IfMPBfYC1zTgrEkSU2oHfLZ8Jvq6enVRwJvBG6vtt8MvKPuWJKk5sxvxZtExDzgQeBc4AvA/wKjmXm4eskIsHKCz90AbABYuHDhq84///xWTEmSusaDDz74VGYuGW9fS0I+M48AAxHRA9wBTDmpM3MjsBFgcHAwN2/e3IopSVLXiIjHJ9rX0tU1mTkK3Ae8FuiJiOf+J9IL7GrlWJKkybVidc2S6gyeiDgLeBOwnUbYv7N62dXAnXXHkiQ1pxV1zQrg5qqXPw24LTO/ExHbgFsj4m+Bh4CvtmAsSVITaod8Zv4EuHic7Y8Al9R9f0nS9HnFqyQVzJCXpIIZ8pJUMENekgpmyEtSwQx5SSqYIS9JBTPkJalghrwkFcyQl6SCGfKSVDBDXpIKZshLUsEMeUkqmCEvSQUz5CWpYIa8JBXMkJekghnyklQwQ16SCmbIS1LBDHlJKpghL0kFM+QlqWCGvCQVzJCXpIIZ8pJUsNohHxF9EXFfRGyLiK0R8ZFq+4si4vsR8T/Vn+fUn64kqRmtOJM/DHw8M9cClwLXRsRa4Drg3sxcA9xbPZckzaDaIZ+ZuzPzx9XjXwPbgZXAOuDm6mU3A++oO5YkqTkt7eQjYhVwMXA/sCwzd1e7fgEsa+VYkqTJtSzkI2IR8C3go5m5f+y+zEwgJ/i8DRGxOSI279mzp1XTkSTRopCPiNNpBPwtmfntavMvI2JFtX8F8OR4n5uZGzNzMDMHlyxZ0orpSJIqrVhdE8BXge2Z+dkxuzYBV1ePrwburDuWJKk581vwHpcB7wV+GhFbqm2fAm4CbouIa4DHgataMJYkqQm1Qz4zfwDEBLsvr/v+kqTp84pXSZoFjh4dd21Kba2oayRJTfi/Z4+wbfd+tuwcZctw4+Pdr+7j2jec2/KxDHlJaqPM5NGnDhwL8y3Do2zfvZ9njzTO3Je/cAEDfT28dMmitoxvyEtSCz194BBDw6M8VAX60PAo+377LAAvOGMeF/Yu5prX/y4DfYsZ6DuH5YsXtHU+hrwkTdN4tcvOpw8CcFrAecvO5q0XLGegr4eB/h7WLD2beadNtE6lPQx5SZqCsbXLUBXo28apXf7sNf0M9PXwipWLWXhm5yO28zOQpFlottUu02XIS+p6c6F2mS5DXlJXea52GRoZPRbqc6F2ma65O3NJmoKp1y49DPT1zNraZboMeUnFKLl2mS5DXtKc1G21y3R133+xpDlpKrXLB1+/mov7emb1apeZZshLmnWsXVrHkJfUUdYu7eWRkjSjJqtdXrHS2qWVDHlJbfPM4SNsfeJ47TI0Msrjv7J2mUmGvKSWyEwe+9VBtgzvPWXtsv7VVe3Su5hF1i5t5xGWNC3WLnODIS9pUs8cPsK2J/af8IsvrF3mBkNe0gmarV0u7HW1y2zm34zU5fYeOMSWMcsXh0ZGGT1o7VIKQ17qIlOpXa58ubVLSQx5qVDPq11G9rH9if0cOnIUsHbpFv6NSoWYSu3ygdevsnbpMoa8NAdNtXa5qLpH+nnLrF26lSEvzXKT1S7LXnimFxlpQn4lSLPM3gOHTjhDt3ZRHS0J+Yj4GvA24MnMvKDa9iLgm8Aq4DHgqszc24rxpFJMpXZ5y9rlDPQ3apc1Sxcxf95pHZ615pJWncn/C/B54Otjtl0H3JuZN0XEddXzT7ZoPGnOmewiI2sXtUNLvoIy878iYtVJm9cBf1g9vhn4Twx5dZGp1C4fvGz1sTXpKxaf1eEZq0TtPE1Ylpm7q8e/AJaN96KI2ABsAOjv72/jdKT2OVXtEgHnLbV2UWfMyL8FMzMjIifYtxHYCDA4ODjua6TZpJnVLhf1LebC3h5rF3VMO7/yfhkRKzJzd0SsAJ5s41hS25zqIqOzTp/HK3oX84HLVlm7aFZqZ8hvAq4Gbqr+vLONY0ktcXLtMjQ8ymPWLprDWrWE8hs0fsj64ogYAT5NI9xvi4hrgMeBq1oxltQqmcnjvzp4LNAfGh4dt3Z5t6tdNIe1anXNeybYdXkr3l9qhSnd28XaRYXxtERFeubwEbbv/jVbdu49dqZu7aJuZMhrzrN2kSbmV7rmnLG1y9BI44eje61dpHEZ8prVplK7vNnaRZqQIa9ZY6q1y1Wv7qt+k5EXGUmT8TtEHeNFRlL7GfKaEWMvMho6xWqX47/JyNpFagVDXi03We2y9GxrF2mm+J2l2pqpXS7q62HF4gVE+PtGpZlgyKspk612WbN0EW9eu4yBvnOsXaRZwJDXhKxdpLnP70gds/fAIYZGRk+4A+NeaxdpTjPku9RULjJ6k7WLNOcZ8l3g5Nply/Ao26xdpK7gd3KBRg+e9AukT1G7DPT3sPyF1i5SqQz5Oe7k2mVoZB+PPnUAOPHeLl5kJHUnQ34Oea52GRoZ5aGdE9cu7xrstXaRBBjys5q1i6S6DPlZYrLaZc3SRa52kdQ0Q74DrF0kzRSTYwZMWrusXMz7n6tdvMhIUgsZ8i02lXu7WLtImimGfA2T1S5LjtUufVxc/QLpsxec3uFZS+omhnwTrF0kzTWG/ASaWe1yUd9iXrbsbGsXSbOOIU+jdtn5dOPeLqeqXd75ql5rF0lzSleGvLWLpG7R9pCPiCuBzwHzgK9k5k3tHnOsQ4ePsn33/hNC3YuMJHWLtoZ8RMwDvgC8CRgBHoiITZm5rR3jTVa7LLV2kdRl2n0mfwmwIzMfAYiIW4F1QEtD/oHHnuaL9+1gaGQfTx84BFi7SBK0P+RXAsNjno8Arxn7gojYAGwA6O/vn9Ygzx45yq7R33LF7y21dpGkMTr+g9fM3AhsBBgcHMzpvMfrXvpi7v7YH7R0XpJUgnaf6u4C+sY87622SZJmQLtD/gFgTUSsjogzgPXApjaPKUmqtLWuyczDEfFh4Hs0llB+LTO3tnNMSdJxbe/kM/Mu4K52jyNJej6Xn0hSwQx5SSqYIS9JBTPkJalghrwkFcyQl6SCGfKSVDBDXpIKZshLUsEMeUkqmCEvSQUz5CWpYIa8JBXMkJekghnyklQwQ16SCmbIS1LBDHlJKpghL0kFM+QlqWCGvCQVzJCXpIIZ8pJUMENekgpmyEtSwQx5SSqYIS9JBasV8hHxrojYGhFHI2LwpH3XR8SOiHg4It5Sb5qSpOmYX/Pzfwb8KfDlsRsjYi2wHng58BLgnog4LzOP1BxPktSEWmfymbk9Mx8eZ9c64NbMfCYzHwV2AJfUGUuS1Lx2dfIrgeExz0eqbc8TERsiYnNEbN6zZ0+bpiNJ3WnSuiYi7gGWj7Prhsy8s+4EMnMjsBFgcHAw676fJOm4SUM+M6+YxvvuAvrGPO+ttkmSZlC76ppNwPqIODMiVgNrgB+1aSxJ0gTqLqH8k4gYAV4L/FtEfA8gM7cCtwHbgO8C17qyRpJmXq0llJl5B3DHBPtuBG6s8/6SpHq84lWSCmbIS1LBDHlJKpghL0kFM+QlqWCGvCQVzJCXpIIZ8pJUMENekgpmyEtSwQx5SSqYIS9JBTPkJalghrwkFcyQl6SCGfKSVDBDXpIKZshLUsEMeUkqmCEvSQUz5CWpYIa8JBXMkJekghnyklQwQ16SCmbIS1LBDHlJKlitkI+Iz0TEzyPiJxFxR0T0jNl3fUTsiIiHI+It9acqSWpW3TP57wMXZOaFwH8D1wNExFpgPfBy4ErgixExr+ZYkqQm1Qr5zLw7Mw9XT38I9FaP1wG3ZuYzmfkosAO4pM5YkqTmtbKT/yDw79XjlcDwmH0j1TZJ0gyaP9kLIuIeYPk4u27IzDur19wAHAZuaXYCEbEB2ADQ39/f7KdLkk5h0pDPzCtOtT8i3g+8Dbg8M7PavAvoG/Oy3mrbeO+/EdgIMDg4mOO9RpI0PXVX11wJfAJ4e2YeHLNrE7A+Is6MiNXAGuBHdcaSJDVv0jP5SXweOBP4fkQA/DAzP5SZWyPiNmAbjRrn2sw8UnMsSVKTaoV8Zp57in03AjfWeX9JUj1e8SpJBTPkJalghrwkFcyQl6SCGfKSVDBDXpIKZshLUsEMeUkqmCEvSQUz5CWpYIa8JBXMkJekghnyklQwQ16SCmbIS1LBDHlJKpghL0kFM+QlqWCGvCQVzJCXpIIZ8pJUMENekgpmyEtSwQx5SSqYIS9JBTPkJalghrwkFcyQl6SC1Qr5iPibiPhJRGyJiLsj4iXV9oiIf4qIHdX+V7ZmupKkZtQ9k/9MZl6YmQPAd4C/qra/FVhTfWwAvlRzHEnSNNQK+czcP+bpQiCrx+uAr2fDD4GeiFhRZyxJUvPm132DiLgReB+wD3hDtXklMDzmZSPVtt3jfP4GGmf7AL+JiIenOZUXA09N83NL5PE4kcfjOI/FiUo4Hr8z0Y7IzIn2NV4QcQ+wfJxdN2TmnWNedz2wIDM/HRHfAW7KzB9U++4FPpmZm6cz+6mIiM2ZOdiu959rPB4n8ngc57E4UenHY9Iz+cy8YorvdQtwF/BpYBfQN2Zfb7VNkjSD6q6uWTPm6Trg59XjTcD7qlU2lwL7MvN5VY0kqb3qdvI3RcTLgKPA48CHqu13AX8E7AAOAh+oOc5UbJyBMeYSj8eJPB7HeSxOVPTxmLSTlyTNXV7xKkkFM+QlqWBFhHxEXBkRD1e3Ubiu0/PppIjoi4j7ImJbRGyNiI90ek6dFhHzIuKhamlvV4uInoi4PSJ+HhHbI+K1nZ5Tp0TEx6rvkZ9FxDciYkGn59QOcz7kI2Ie8AUat1JYC7wnItZ2dlYddRj4eGauBS4Fru3y4wHwEWB7pycxS3wO+G5mng9cRJcel4hYCfwlMJiZFwDzgPWdnVV7zPmQBy4BdmTmI5l5CLiVxnLOrpSZuzPzx9XjX9P4Jl7Z2Vl1TkT0An8MfKXTc+m0iFgM/D7wVYDMPJSZo52dVUfNB86KiPnAC4AnOjyftigh5Ce6hULXi4hVwMXA/Z2dSUf9I/AJGst8u91qYA/wz1V99ZWIWNjpSXVCZu4C/h7YSeN2K/sy8+7Ozqo9Sgh5jSMiFgHfAj560o3kukZEvA14MjMf7PRcZon5wCuBL2XmxcABoCt/hhUR59D4F/9q4CXAwoj4887Oqj1KCHlvoXCSiDidRsDfkpnf7vR8Ougy4O0R8RiNGu+NEfGvnZ1SR40AI5n53L/sbqcR+t3oCuDRzNyTmc8C3wZe1+E5tUUJIf8AsCYiVkfEGTR+eLKpw3PqmIgIGp3r9sz8bKfn00mZeX1m9mbmKhpfF/+RmUWerU1FZv4CGK6uUge4HNjWwSl10k7g0oh4QfU9czmF/hC69q2GOy0zD0fEh4Hv0fgJ+dcyc2uHp9VJlwHvBX4aEVuqbZ/KzLs6OCfNHn8B3FKdED3CzNxyZNbJzPsj4nbgxzRWpD1Eobc38LYGklSwEuoaSdIEDHlJKpghL0kFM+QlqWCGvCQVzJCXpIIZ8pJUsP8HxcDfzdCt8bcAAAAASUVORK5CYII=\n",
                  "text/plain": "<Figure size 432x288 with 1 Axes>"
                },
                "metadata": {
                  "needs_background": "light"
                }
              }
            ],
            "_view_module": "@jupyter-widgets/output",
            "_model_module_version": "1.0.0",
            "_view_count": null,
            "_view_module_version": "1.0.0",
            "layout": "IPY_MODEL_a32f04555a2d47f78bdc4710a5a82161",
            "_model_module": "@jupyter-widgets/output"
          }
        },
        "892d36a2425c481c80c6a1d8e08da948": {
          "model_module": "@jupyter-widgets/controls",
          "model_name": "SliderStyleModel",
          "model_module_version": "1.5.0",
          "state": {
            "_view_name": "StyleView",
            "handle_color": null,
            "_model_name": "SliderStyleModel",
            "description_width": "",
            "_view_module": "@jupyter-widgets/base",
            "_model_module_version": "1.5.0",
            "_view_count": null,
            "_view_module_version": "1.2.0",
            "_model_module": "@jupyter-widgets/controls"
          }
        },
        "e75812b3c230428f89ab07959adaf589": {
          "model_module": "@jupyter-widgets/base",
          "model_name": "LayoutModel",
          "model_module_version": "1.2.0",
          "state": {
            "_view_name": "LayoutView",
            "grid_template_rows": null,
            "right": null,
            "justify_content": null,
            "_view_module": "@jupyter-widgets/base",
            "overflow": null,
            "_model_module_version": "1.2.0",
            "_view_count": null,
            "flex_flow": null,
            "width": null,
            "min_width": null,
            "border": null,
            "align_items": null,
            "bottom": null,
            "_model_module": "@jupyter-widgets/base",
            "top": null,
            "grid_column": null,
            "overflow_y": null,
            "overflow_x": null,
            "grid_auto_flow": null,
            "grid_area": null,
            "grid_template_columns": null,
            "flex": null,
            "_model_name": "LayoutModel",
            "justify_items": null,
            "grid_row": null,
            "max_height": null,
            "align_content": null,
            "visibility": null,
            "align_self": null,
            "height": null,
            "min_height": null,
            "padding": null,
            "grid_auto_rows": null,
            "grid_gap": null,
            "max_width": null,
            "order": null,
            "_view_module_version": "1.2.0",
            "grid_template_areas": null,
            "object_position": null,
            "object_fit": null,
            "grid_auto_columns": null,
            "margin": null,
            "display": null,
            "left": null
          }
        },
        "a32f04555a2d47f78bdc4710a5a82161": {
          "model_module": "@jupyter-widgets/base",
          "model_name": "LayoutModel",
          "model_module_version": "1.2.0",
          "state": {
            "_view_name": "LayoutView",
            "grid_template_rows": null,
            "right": null,
            "justify_content": null,
            "_view_module": "@jupyter-widgets/base",
            "overflow": null,
            "_model_module_version": "1.2.0",
            "_view_count": null,
            "flex_flow": null,
            "width": null,
            "min_width": null,
            "border": null,
            "align_items": null,
            "bottom": null,
            "_model_module": "@jupyter-widgets/base",
            "top": null,
            "grid_column": null,
            "overflow_y": null,
            "overflow_x": null,
            "grid_auto_flow": null,
            "grid_area": null,
            "grid_template_columns": null,
            "flex": null,
            "_model_name": "LayoutModel",
            "justify_items": null,
            "grid_row": null,
            "max_height": null,
            "align_content": null,
            "visibility": null,
            "align_self": null,
            "height": null,
            "min_height": null,
            "padding": null,
            "grid_auto_rows": null,
            "grid_gap": null,
            "max_width": null,
            "order": null,
            "_view_module_version": "1.2.0",
            "grid_template_areas": null,
            "object_position": null,
            "object_fit": null,
            "grid_auto_columns": null,
            "margin": null,
            "display": null,
            "left": null
          }
        },
        "4c6ccc35adc6429ebb07649e694e26aa": {
          "model_module": "@jupyter-widgets/controls",
          "model_name": "VBoxModel",
          "model_module_version": "1.5.0",
          "state": {
            "_view_name": "VBoxView",
            "_dom_classes": [
              "widget-interact"
            ],
            "_model_name": "VBoxModel",
            "_view_module": "@jupyter-widgets/controls",
            "_model_module_version": "1.5.0",
            "_view_count": null,
            "_view_module_version": "1.5.0",
            "box_style": "",
            "layout": "IPY_MODEL_c059db2bd8214d808978693f169dc304",
            "_model_module": "@jupyter-widgets/controls",
            "children": [
              "IPY_MODEL_12215e5d883a4e0794866d103a6790d0",
              "IPY_MODEL_e66e96a739e54d728ef288c06b2ba388"
            ]
          }
        },
        "c059db2bd8214d808978693f169dc304": {
          "model_module": "@jupyter-widgets/base",
          "model_name": "LayoutModel",
          "model_module_version": "1.2.0",
          "state": {
            "_view_name": "LayoutView",
            "grid_template_rows": null,
            "right": null,
            "justify_content": null,
            "_view_module": "@jupyter-widgets/base",
            "overflow": null,
            "_model_module_version": "1.2.0",
            "_view_count": null,
            "flex_flow": null,
            "width": null,
            "min_width": null,
            "border": null,
            "align_items": null,
            "bottom": null,
            "_model_module": "@jupyter-widgets/base",
            "top": null,
            "grid_column": null,
            "overflow_y": null,
            "overflow_x": null,
            "grid_auto_flow": null,
            "grid_area": null,
            "grid_template_columns": null,
            "flex": null,
            "_model_name": "LayoutModel",
            "justify_items": null,
            "grid_row": null,
            "max_height": null,
            "align_content": null,
            "visibility": null,
            "align_self": null,
            "height": null,
            "min_height": null,
            "padding": null,
            "grid_auto_rows": null,
            "grid_gap": null,
            "max_width": null,
            "order": null,
            "_view_module_version": "1.2.0",
            "grid_template_areas": null,
            "object_position": null,
            "object_fit": null,
            "grid_auto_columns": null,
            "margin": null,
            "display": null,
            "left": null
          }
        },
        "12215e5d883a4e0794866d103a6790d0": {
          "model_module": "@jupyter-widgets/controls",
          "model_name": "CheckboxModel",
          "model_module_version": "1.5.0",
          "state": {
            "_view_name": "CheckboxView",
            "style": "IPY_MODEL_3261de41ad1a484fa7b8344ab3100a07",
            "_dom_classes": [],
            "description": "x",
            "_model_name": "CheckboxModel",
            "_view_module": "@jupyter-widgets/controls",
            "_model_module_version": "1.5.0",
            "value": true,
            "_view_count": null,
            "disabled": false,
            "_view_module_version": "1.5.0",
            "indent": true,
            "description_tooltip": null,
            "_model_module": "@jupyter-widgets/controls",
            "layout": "IPY_MODEL_066c4ae52ea34acd93d7a08aac129667"
          }
        },
        "e66e96a739e54d728ef288c06b2ba388": {
          "model_module": "@jupyter-widgets/output",
          "model_name": "OutputModel",
          "model_module_version": "1.0.0",
          "state": {
            "_view_name": "OutputView",
            "msg_id": "",
            "_dom_classes": [],
            "_model_name": "OutputModel",
            "outputs": [
              {
                "output_type": "display_data",
                "data": {
                  "image/png": "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\n",
                  "text/plain": "<Figure size 432x288 with 1 Axes>"
                },
                "metadata": {
                  "needs_background": "light"
                }
              }
            ],
            "_view_module": "@jupyter-widgets/output",
            "_model_module_version": "1.0.0",
            "_view_count": null,
            "_view_module_version": "1.0.0",
            "layout": "IPY_MODEL_3ef7718ae5fa435aaf0693ab13a9f4f9",
            "_model_module": "@jupyter-widgets/output"
          }
        },
        "3261de41ad1a484fa7b8344ab3100a07": {
          "model_module": "@jupyter-widgets/controls",
          "model_name": "DescriptionStyleModel",
          "model_module_version": "1.5.0",
          "state": {
            "_view_name": "StyleView",
            "_model_name": "DescriptionStyleModel",
            "description_width": "",
            "_view_module": "@jupyter-widgets/base",
            "_model_module_version": "1.5.0",
            "_view_count": null,
            "_view_module_version": "1.2.0",
            "_model_module": "@jupyter-widgets/controls"
          }
        },
        "066c4ae52ea34acd93d7a08aac129667": {
          "model_module": "@jupyter-widgets/base",
          "model_name": "LayoutModel",
          "model_module_version": "1.2.0",
          "state": {
            "_view_name": "LayoutView",
            "grid_template_rows": null,
            "right": null,
            "justify_content": null,
            "_view_module": "@jupyter-widgets/base",
            "overflow": null,
            "_model_module_version": "1.2.0",
            "_view_count": null,
            "flex_flow": null,
            "width": null,
            "min_width": null,
            "border": null,
            "align_items": null,
            "bottom": null,
            "_model_module": "@jupyter-widgets/base",
            "top": null,
            "grid_column": null,
            "overflow_y": null,
            "overflow_x": null,
            "grid_auto_flow": null,
            "grid_area": null,
            "grid_template_columns": null,
            "flex": null,
            "_model_name": "LayoutModel",
            "justify_items": null,
            "grid_row": null,
            "max_height": null,
            "align_content": null,
            "visibility": null,
            "align_self": null,
            "height": null,
            "min_height": null,
            "padding": null,
            "grid_auto_rows": null,
            "grid_gap": null,
            "max_width": null,
            "order": null,
            "_view_module_version": "1.2.0",
            "grid_template_areas": null,
            "object_position": null,
            "object_fit": null,
            "grid_auto_columns": null,
            "margin": null,
            "display": null,
            "left": null
          }
        },
        "3ef7718ae5fa435aaf0693ab13a9f4f9": {
          "model_module": "@jupyter-widgets/base",
          "model_name": "LayoutModel",
          "model_module_version": "1.2.0",
          "state": {
            "_view_name": "LayoutView",
            "grid_template_rows": null,
            "right": null,
            "justify_content": null,
            "_view_module": "@jupyter-widgets/base",
            "overflow": null,
            "_model_module_version": "1.2.0",
            "_view_count": null,
            "flex_flow": null,
            "width": null,
            "min_width": null,
            "border": null,
            "align_items": null,
            "bottom": null,
            "_model_module": "@jupyter-widgets/base",
            "top": null,
            "grid_column": null,
            "overflow_y": null,
            "overflow_x": null,
            "grid_auto_flow": null,
            "grid_area": null,
            "grid_template_columns": null,
            "flex": null,
            "_model_name": "LayoutModel",
            "justify_items": null,
            "grid_row": null,
            "max_height": null,
            "align_content": null,
            "visibility": null,
            "align_self": null,
            "height": null,
            "min_height": null,
            "padding": null,
            "grid_auto_rows": null,
            "grid_gap": null,
            "max_width": null,
            "order": null,
            "_view_module_version": "1.2.0",
            "grid_template_areas": null,
            "object_position": null,
            "object_fit": null,
            "grid_auto_columns": null,
            "margin": null,
            "display": null,
            "left": null
          }
        },
        "d8a66adcbed84d1fab6cd24a648a1250": {
          "model_module": "@jupyter-widgets/controls",
          "model_name": "VBoxModel",
          "model_module_version": "1.5.0",
          "state": {
            "_view_name": "VBoxView",
            "_dom_classes": [
              "widget-interact"
            ],
            "_model_name": "VBoxModel",
            "_view_module": "@jupyter-widgets/controls",
            "_model_module_version": "1.5.0",
            "_view_count": null,
            "_view_module_version": "1.5.0",
            "box_style": "",
            "layout": "IPY_MODEL_76b9ccd146c74a1c82a9a3de97817757",
            "_model_module": "@jupyter-widgets/controls",
            "children": [
              "IPY_MODEL_9cb9735f31574cddbd9246b1d822eee6",
              "IPY_MODEL_22f8024544b24ce8a364285f9c9f4748"
            ]
          }
        },
        "76b9ccd146c74a1c82a9a3de97817757": {
          "model_module": "@jupyter-widgets/base",
          "model_name": "LayoutModel",
          "model_module_version": "1.2.0",
          "state": {
            "_view_name": "LayoutView",
            "grid_template_rows": null,
            "right": null,
            "justify_content": null,
            "_view_module": "@jupyter-widgets/base",
            "overflow": null,
            "_model_module_version": "1.2.0",
            "_view_count": null,
            "flex_flow": null,
            "width": null,
            "min_width": null,
            "border": null,
            "align_items": null,
            "bottom": null,
            "_model_module": "@jupyter-widgets/base",
            "top": null,
            "grid_column": null,
            "overflow_y": null,
            "overflow_x": null,
            "grid_auto_flow": null,
            "grid_area": null,
            "grid_template_columns": null,
            "flex": null,
            "_model_name": "LayoutModel",
            "justify_items": null,
            "grid_row": null,
            "max_height": null,
            "align_content": null,
            "visibility": null,
            "align_self": null,
            "height": null,
            "min_height": null,
            "padding": null,
            "grid_auto_rows": null,
            "grid_gap": null,
            "max_width": null,
            "order": null,
            "_view_module_version": "1.2.0",
            "grid_template_areas": null,
            "object_position": null,
            "object_fit": null,
            "grid_auto_columns": null,
            "margin": null,
            "display": null,
            "left": null
          }
        },
        "9cb9735f31574cddbd9246b1d822eee6": {
          "model_module": "@jupyter-widgets/controls",
          "model_name": "TextModel",
          "model_module_version": "1.5.0",
          "state": {
            "_view_name": "TextView",
            "style": "IPY_MODEL_66ce51c45d164f87adcae37c2e48f750",
            "_dom_classes": [],
            "description": "x",
            "_model_name": "TextModel",
            "placeholder": "​",
            "_view_module": "@jupyter-widgets/controls",
            "_model_module_version": "1.5.0",
            "value": "Sigmoidal",
            "_view_count": null,
            "disabled": false,
            "_view_module_version": "1.5.0",
            "continuous_update": true,
            "description_tooltip": null,
            "_model_module": "@jupyter-widgets/controls",
            "layout": "IPY_MODEL_bb6181de8d364c1ba5feca83c54917e2"
          }
        },
        "22f8024544b24ce8a364285f9c9f4748": {
          "model_module": "@jupyter-widgets/output",
          "model_name": "OutputModel",
          "model_module_version": "1.0.0",
          "state": {
            "_view_name": "OutputView",
            "msg_id": "",
            "_dom_classes": [],
            "_model_name": "OutputModel",
            "outputs": [
              {
                "output_type": "display_data",
                "data": {
                  "image/png": "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\n",
                  "text/plain": "<Figure size 432x288 with 1 Axes>"
                },
                "metadata": {
                  "needs_background": "light"
                }
              }
            ],
            "_view_module": "@jupyter-widgets/output",
            "_model_module_version": "1.0.0",
            "_view_count": null,
            "_view_module_version": "1.0.0",
            "layout": "IPY_MODEL_05a2570195304be6b3c703f8a8c5a7c7",
            "_model_module": "@jupyter-widgets/output"
          }
        },
        "66ce51c45d164f87adcae37c2e48f750": {
          "model_module": "@jupyter-widgets/controls",
          "model_name": "DescriptionStyleModel",
          "model_module_version": "1.5.0",
          "state": {
            "_view_name": "StyleView",
            "_model_name": "DescriptionStyleModel",
            "description_width": "",
            "_view_module": "@jupyter-widgets/base",
            "_model_module_version": "1.5.0",
            "_view_count": null,
            "_view_module_version": "1.2.0",
            "_model_module": "@jupyter-widgets/controls"
          }
        },
        "bb6181de8d364c1ba5feca83c54917e2": {
          "model_module": "@jupyter-widgets/base",
          "model_name": "LayoutModel",
          "model_module_version": "1.2.0",
          "state": {
            "_view_name": "LayoutView",
            "grid_template_rows": null,
            "right": null,
            "justify_content": null,
            "_view_module": "@jupyter-widgets/base",
            "overflow": null,
            "_model_module_version": "1.2.0",
            "_view_count": null,
            "flex_flow": null,
            "width": null,
            "min_width": null,
            "border": null,
            "align_items": null,
            "bottom": null,
            "_model_module": "@jupyter-widgets/base",
            "top": null,
            "grid_column": null,
            "overflow_y": null,
            "overflow_x": null,
            "grid_auto_flow": null,
            "grid_area": null,
            "grid_template_columns": null,
            "flex": null,
            "_model_name": "LayoutModel",
            "justify_items": null,
            "grid_row": null,
            "max_height": null,
            "align_content": null,
            "visibility": null,
            "align_self": null,
            "height": null,
            "min_height": null,
            "padding": null,
            "grid_auto_rows": null,
            "grid_gap": null,
            "max_width": null,
            "order": null,
            "_view_module_version": "1.2.0",
            "grid_template_areas": null,
            "object_position": null,
            "object_fit": null,
            "grid_auto_columns": null,
            "margin": null,
            "display": null,
            "left": null
          }
        },
        "05a2570195304be6b3c703f8a8c5a7c7": {
          "model_module": "@jupyter-widgets/base",
          "model_name": "LayoutModel",
          "model_module_version": "1.2.0",
          "state": {
            "_view_name": "LayoutView",
            "grid_template_rows": null,
            "right": null,
            "justify_content": null,
            "_view_module": "@jupyter-widgets/base",
            "overflow": null,
            "_model_module_version": "1.2.0",
            "_view_count": null,
            "flex_flow": null,
            "width": null,
            "min_width": null,
            "border": null,
            "align_items": null,
            "bottom": null,
            "_model_module": "@jupyter-widgets/base",
            "top": null,
            "grid_column": null,
            "overflow_y": null,
            "overflow_x": null,
            "grid_auto_flow": null,
            "grid_area": null,
            "grid_template_columns": null,
            "flex": null,
            "_model_name": "LayoutModel",
            "justify_items": null,
            "grid_row": null,
            "max_height": null,
            "align_content": null,
            "visibility": null,
            "align_self": null,
            "height": null,
            "min_height": null,
            "padding": null,
            "grid_auto_rows": null,
            "grid_gap": null,
            "max_width": null,
            "order": null,
            "_view_module_version": "1.2.0",
            "grid_template_areas": null,
            "object_position": null,
            "object_fit": null,
            "grid_auto_columns": null,
            "margin": null,
            "display": null,
            "left": null
          }
        },
        "9a79c1c809454c758f2479367a7fc953": {
          "model_module": "@jupyter-widgets/controls",
          "model_name": "VBoxModel",
          "model_module_version": "1.5.0",
          "state": {
            "_view_name": "VBoxView",
            "_dom_classes": [
              "widget-interact"
            ],
            "_model_name": "VBoxModel",
            "_view_module": "@jupyter-widgets/controls",
            "_model_module_version": "1.5.0",
            "_view_count": null,
            "_view_module_version": "1.5.0",
            "box_style": "",
            "layout": "IPY_MODEL_3c8d38feff264c7b95674ac11652de25",
            "_model_module": "@jupyter-widgets/controls",
            "children": [
              "IPY_MODEL_9d6d69701fa242e8b67809a3fc8aecff",
              "IPY_MODEL_6490333a075e41d48e65e7830cbca68d",
              "IPY_MODEL_72e72a6f9ab04534b1652cbfdc562fc1"
            ]
          }
        },
        "3c8d38feff264c7b95674ac11652de25": {
          "model_module": "@jupyter-widgets/base",
          "model_name": "LayoutModel",
          "model_module_version": "1.2.0",
          "state": {
            "_view_name": "LayoutView",
            "grid_template_rows": null,
            "right": null,
            "justify_content": null,
            "_view_module": "@jupyter-widgets/base",
            "overflow": null,
            "_model_module_version": "1.2.0",
            "_view_count": null,
            "flex_flow": null,
            "width": null,
            "min_width": null,
            "border": null,
            "align_items": null,
            "bottom": null,
            "_model_module": "@jupyter-widgets/base",
            "top": null,
            "grid_column": null,
            "overflow_y": null,
            "overflow_x": null,
            "grid_auto_flow": null,
            "grid_area": null,
            "grid_template_columns": null,
            "flex": null,
            "_model_name": "LayoutModel",
            "justify_items": null,
            "grid_row": null,
            "max_height": null,
            "align_content": null,
            "visibility": null,
            "align_self": null,
            "height": null,
            "min_height": null,
            "padding": null,
            "grid_auto_rows": null,
            "grid_gap": null,
            "max_width": null,
            "order": null,
            "_view_module_version": "1.2.0",
            "grid_template_areas": null,
            "object_position": null,
            "object_fit": null,
            "grid_auto_columns": null,
            "margin": null,
            "display": null,
            "left": null
          }
        },
        "9d6d69701fa242e8b67809a3fc8aecff": {
          "model_module": "@jupyter-widgets/controls",
          "model_name": "IntSliderModel",
          "model_module_version": "1.5.0",
          "state": {
            "_view_name": "IntSliderView",
            "style": "IPY_MODEL_8871cd234ed641ba8aea47b4860d7cae",
            "_dom_classes": [],
            "description": "a",
            "step": 1,
            "_model_name": "IntSliderModel",
            "orientation": "horizontal",
            "max": 3,
            "_view_module": "@jupyter-widgets/controls",
            "_model_module_version": "1.5.0",
            "value": 1,
            "_view_count": null,
            "disabled": false,
            "_view_module_version": "1.5.0",
            "min": -1,
            "continuous_update": true,
            "readout_format": "d",
            "description_tooltip": null,
            "readout": true,
            "_model_module": "@jupyter-widgets/controls",
            "layout": "IPY_MODEL_9ba8b2fe4ba8424b99fb9b778f5ce348"
          }
        },
        "6490333a075e41d48e65e7830cbca68d": {
          "model_module": "@jupyter-widgets/controls",
          "model_name": "IntSliderModel",
          "model_module_version": "1.5.0",
          "state": {
            "_view_name": "IntSliderView",
            "style": "IPY_MODEL_8d75fb67704b4d64ae569181374a560b",
            "_dom_classes": [],
            "description": "b",
            "step": 1,
            "_model_name": "IntSliderModel",
            "orientation": "horizontal",
            "max": 9,
            "_view_module": "@jupyter-widgets/controls",
            "_model_module_version": "1.5.0",
            "value": 3,
            "_view_count": null,
            "disabled": false,
            "_view_module_version": "1.5.0",
            "min": -3,
            "continuous_update": true,
            "readout_format": "d",
            "description_tooltip": null,
            "readout": true,
            "_model_module": "@jupyter-widgets/controls",
            "layout": "IPY_MODEL_7bc1f288110c40688c4d90421cbd9261"
          }
        },
        "72e72a6f9ab04534b1652cbfdc562fc1": {
          "model_module": "@jupyter-widgets/output",
          "model_name": "OutputModel",
          "model_module_version": "1.0.0",
          "state": {
            "_view_name": "OutputView",
            "msg_id": "",
            "_dom_classes": [],
            "_model_name": "OutputModel",
            "outputs": [
              {
                "output_type": "display_data",
                "data": {
                  "image/png": "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\n",
                  "text/plain": "<Figure size 432x288 with 1 Axes>"
                },
                "metadata": {
                  "needs_background": "light"
                }
              }
            ],
            "_view_module": "@jupyter-widgets/output",
            "_model_module_version": "1.0.0",
            "_view_count": null,
            "_view_module_version": "1.0.0",
            "layout": "IPY_MODEL_1feff3b8925440a097137a36ae506b3c",
            "_model_module": "@jupyter-widgets/output"
          }
        },
        "8871cd234ed641ba8aea47b4860d7cae": {
          "model_module": "@jupyter-widgets/controls",
          "model_name": "SliderStyleModel",
          "model_module_version": "1.5.0",
          "state": {
            "_view_name": "StyleView",
            "handle_color": null,
            "_model_name": "SliderStyleModel",
            "description_width": "",
            "_view_module": "@jupyter-widgets/base",
            "_model_module_version": "1.5.0",
            "_view_count": null,
            "_view_module_version": "1.2.0",
            "_model_module": "@jupyter-widgets/controls"
          }
        },
        "9ba8b2fe4ba8424b99fb9b778f5ce348": {
          "model_module": "@jupyter-widgets/base",
          "model_name": "LayoutModel",
          "model_module_version": "1.2.0",
          "state": {
            "_view_name": "LayoutView",
            "grid_template_rows": null,
            "right": null,
            "justify_content": null,
            "_view_module": "@jupyter-widgets/base",
            "overflow": null,
            "_model_module_version": "1.2.0",
            "_view_count": null,
            "flex_flow": null,
            "width": null,
            "min_width": null,
            "border": null,
            "align_items": null,
            "bottom": null,
            "_model_module": "@jupyter-widgets/base",
            "top": null,
            "grid_column": null,
            "overflow_y": null,
            "overflow_x": null,
            "grid_auto_flow": null,
            "grid_area": null,
            "grid_template_columns": null,
            "flex": null,
            "_model_name": "LayoutModel",
            "justify_items": null,
            "grid_row": null,
            "max_height": null,
            "align_content": null,
            "visibility": null,
            "align_self": null,
            "height": null,
            "min_height": null,
            "padding": null,
            "grid_auto_rows": null,
            "grid_gap": null,
            "max_width": null,
            "order": null,
            "_view_module_version": "1.2.0",
            "grid_template_areas": null,
            "object_position": null,
            "object_fit": null,
            "grid_auto_columns": null,
            "margin": null,
            "display": null,
            "left": null
          }
        },
        "8d75fb67704b4d64ae569181374a560b": {
          "model_module": "@jupyter-widgets/controls",
          "model_name": "SliderStyleModel",
          "model_module_version": "1.5.0",
          "state": {
            "_view_name": "StyleView",
            "handle_color": null,
            "_model_name": "SliderStyleModel",
            "description_width": "",
            "_view_module": "@jupyter-widgets/base",
            "_model_module_version": "1.5.0",
            "_view_count": null,
            "_view_module_version": "1.2.0",
            "_model_module": "@jupyter-widgets/controls"
          }
        },
        "7bc1f288110c40688c4d90421cbd9261": {
          "model_module": "@jupyter-widgets/base",
          "model_name": "LayoutModel",
          "model_module_version": "1.2.0",
          "state": {
            "_view_name": "LayoutView",
            "grid_template_rows": null,
            "right": null,
            "justify_content": null,
            "_view_module": "@jupyter-widgets/base",
            "overflow": null,
            "_model_module_version": "1.2.0",
            "_view_count": null,
            "flex_flow": null,
            "width": null,
            "min_width": null,
            "border": null,
            "align_items": null,
            "bottom": null,
            "_model_module": "@jupyter-widgets/base",
            "top": null,
            "grid_column": null,
            "overflow_y": null,
            "overflow_x": null,
            "grid_auto_flow": null,
            "grid_area": null,
            "grid_template_columns": null,
            "flex": null,
            "_model_name": "LayoutModel",
            "justify_items": null,
            "grid_row": null,
            "max_height": null,
            "align_content": null,
            "visibility": null,
            "align_self": null,
            "height": null,
            "min_height": null,
            "padding": null,
            "grid_auto_rows": null,
            "grid_gap": null,
            "max_width": null,
            "order": null,
            "_view_module_version": "1.2.0",
            "grid_template_areas": null,
            "object_position": null,
            "object_fit": null,
            "grid_auto_columns": null,
            "margin": null,
            "display": null,
            "left": null
          }
        },
        "1feff3b8925440a097137a36ae506b3c": {
          "model_module": "@jupyter-widgets/base",
          "model_name": "LayoutModel",
          "model_module_version": "1.2.0",
          "state": {
            "_view_name": "LayoutView",
            "grid_template_rows": null,
            "right": null,
            "justify_content": null,
            "_view_module": "@jupyter-widgets/base",
            "overflow": null,
            "_model_module_version": "1.2.0",
            "_view_count": null,
            "flex_flow": null,
            "width": null,
            "min_width": null,
            "border": null,
            "align_items": null,
            "bottom": null,
            "_model_module": "@jupyter-widgets/base",
            "top": null,
            "grid_column": null,
            "overflow_y": null,
            "overflow_x": null,
            "grid_auto_flow": null,
            "grid_area": null,
            "grid_template_columns": null,
            "flex": null,
            "_model_name": "LayoutModel",
            "justify_items": null,
            "grid_row": null,
            "max_height": null,
            "align_content": null,
            "visibility": null,
            "align_self": null,
            "height": null,
            "min_height": null,
            "padding": null,
            "grid_auto_rows": null,
            "grid_gap": null,
            "max_width": null,
            "order": null,
            "_view_module_version": "1.2.0",
            "grid_template_areas": null,
            "object_position": null,
            "object_fit": null,
            "grid_auto_columns": null,
            "margin": null,
            "display": null,
            "left": null
          }
        },
        "617598a9926f4340ab5f10e15cfa97a3": {
          "model_module": "@jupyter-widgets/controls",
          "model_name": "VBoxModel",
          "model_module_version": "1.5.0",
          "state": {
            "_view_name": "VBoxView",
            "_dom_classes": [
              "widget-interact"
            ],
            "_model_name": "VBoxModel",
            "_view_module": "@jupyter-widgets/controls",
            "_model_module_version": "1.5.0",
            "_view_count": null,
            "_view_module_version": "1.5.0",
            "box_style": "",
            "layout": "IPY_MODEL_cb24661163b541edafa890ad6e873863",
            "_model_module": "@jupyter-widgets/controls",
            "children": [
              "IPY_MODEL_03e78b4a574c4a4f909c6a176e4d4ac3",
              "IPY_MODEL_a4f261d997eb44a894ec705d91dfa150"
            ]
          }
        },
        "cb24661163b541edafa890ad6e873863": {
          "model_module": "@jupyter-widgets/base",
          "model_name": "LayoutModel",
          "model_module_version": "1.2.0",
          "state": {
            "_view_name": "LayoutView",
            "grid_template_rows": null,
            "right": null,
            "justify_content": null,
            "_view_module": "@jupyter-widgets/base",
            "overflow": null,
            "_model_module_version": "1.2.0",
            "_view_count": null,
            "flex_flow": null,
            "width": null,
            "min_width": null,
            "border": null,
            "align_items": null,
            "bottom": null,
            "_model_module": "@jupyter-widgets/base",
            "top": null,
            "grid_column": null,
            "overflow_y": null,
            "overflow_x": null,
            "grid_auto_flow": null,
            "grid_area": null,
            "grid_template_columns": null,
            "flex": null,
            "_model_name": "LayoutModel",
            "justify_items": null,
            "grid_row": null,
            "max_height": null,
            "align_content": null,
            "visibility": null,
            "align_self": null,
            "height": null,
            "min_height": null,
            "padding": null,
            "grid_auto_rows": null,
            "grid_gap": null,
            "max_width": null,
            "order": null,
            "_view_module_version": "1.2.0",
            "grid_template_areas": null,
            "object_position": null,
            "object_fit": null,
            "grid_auto_columns": null,
            "margin": null,
            "display": null,
            "left": null
          }
        },
        "03e78b4a574c4a4f909c6a176e4d4ac3": {
          "model_module": "@jupyter-widgets/controls",
          "model_name": "IntSliderModel",
          "model_module_version": "1.5.0",
          "state": {
            "_view_name": "IntSliderView",
            "style": "IPY_MODEL_3c9e003e341148648da92500f6a19afd",
            "_dom_classes": [],
            "description": "a",
            "step": 1,
            "_model_name": "IntSliderModel",
            "orientation": "horizontal",
            "max": 3,
            "_view_module": "@jupyter-widgets/controls",
            "_model_module_version": "1.5.0",
            "value": 1,
            "_view_count": null,
            "disabled": false,
            "_view_module_version": "1.5.0",
            "min": -1,
            "continuous_update": true,
            "readout_format": "d",
            "description_tooltip": null,
            "readout": true,
            "_model_module": "@jupyter-widgets/controls",
            "layout": "IPY_MODEL_af035bc4bac944eaa6c8383eb8f8f55c"
          }
        },
        "a4f261d997eb44a894ec705d91dfa150": {
          "model_module": "@jupyter-widgets/output",
          "model_name": "OutputModel",
          "model_module_version": "1.0.0",
          "state": {
            "_view_name": "OutputView",
            "msg_id": "",
            "_dom_classes": [],
            "_model_name": "OutputModel",
            "outputs": [
              {
                "output_type": "display_data",
                "data": {
                  "image/png": "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\n",
                  "text/plain": "<Figure size 432x288 with 1 Axes>"
                },
                "metadata": {
                  "needs_background": "light"
                }
              }
            ],
            "_view_module": "@jupyter-widgets/output",
            "_model_module_version": "1.0.0",
            "_view_count": null,
            "_view_module_version": "1.0.0",
            "layout": "IPY_MODEL_3c199b54c1ac4e488526a021b8ca149c",
            "_model_module": "@jupyter-widgets/output"
          }
        },
        "3c9e003e341148648da92500f6a19afd": {
          "model_module": "@jupyter-widgets/controls",
          "model_name": "SliderStyleModel",
          "model_module_version": "1.5.0",
          "state": {
            "_view_name": "StyleView",
            "handle_color": null,
            "_model_name": "SliderStyleModel",
            "description_width": "",
            "_view_module": "@jupyter-widgets/base",
            "_model_module_version": "1.5.0",
            "_view_count": null,
            "_view_module_version": "1.2.0",
            "_model_module": "@jupyter-widgets/controls"
          }
        },
        "af035bc4bac944eaa6c8383eb8f8f55c": {
          "model_module": "@jupyter-widgets/base",
          "model_name": "LayoutModel",
          "model_module_version": "1.2.0",
          "state": {
            "_view_name": "LayoutView",
            "grid_template_rows": null,
            "right": null,
            "justify_content": null,
            "_view_module": "@jupyter-widgets/base",
            "overflow": null,
            "_model_module_version": "1.2.0",
            "_view_count": null,
            "flex_flow": null,
            "width": null,
            "min_width": null,
            "border": null,
            "align_items": null,
            "bottom": null,
            "_model_module": "@jupyter-widgets/base",
            "top": null,
            "grid_column": null,
            "overflow_y": null,
            "overflow_x": null,
            "grid_auto_flow": null,
            "grid_area": null,
            "grid_template_columns": null,
            "flex": null,
            "_model_name": "LayoutModel",
            "justify_items": null,
            "grid_row": null,
            "max_height": null,
            "align_content": null,
            "visibility": null,
            "align_self": null,
            "height": null,
            "min_height": null,
            "padding": null,
            "grid_auto_rows": null,
            "grid_gap": null,
            "max_width": null,
            "order": null,
            "_view_module_version": "1.2.0",
            "grid_template_areas": null,
            "object_position": null,
            "object_fit": null,
            "grid_auto_columns": null,
            "margin": null,
            "display": null,
            "left": null
          }
        },
        "3c199b54c1ac4e488526a021b8ca149c": {
          "model_module": "@jupyter-widgets/base",
          "model_name": "LayoutModel",
          "model_module_version": "1.2.0",
          "state": {
            "_view_name": "LayoutView",
            "grid_template_rows": null,
            "right": null,
            "justify_content": null,
            "_view_module": "@jupyter-widgets/base",
            "overflow": null,
            "_model_module_version": "1.2.0",
            "_view_count": null,
            "flex_flow": null,
            "width": null,
            "min_width": null,
            "border": null,
            "align_items": null,
            "bottom": null,
            "_model_module": "@jupyter-widgets/base",
            "top": null,
            "grid_column": null,
            "overflow_y": null,
            "overflow_x": null,
            "grid_auto_flow": null,
            "grid_area": null,
            "grid_template_columns": null,
            "flex": null,
            "_model_name": "LayoutModel",
            "justify_items": null,
            "grid_row": null,
            "max_height": null,
            "align_content": null,
            "visibility": null,
            "align_self": null,
            "height": null,
            "min_height": null,
            "padding": null,
            "grid_auto_rows": null,
            "grid_gap": null,
            "max_width": null,
            "order": null,
            "_view_module_version": "1.2.0",
            "grid_template_areas": null,
            "object_position": null,
            "object_fit": null,
            "grid_auto_columns": null,
            "margin": null,
            "display": null,
            "left": null
          }
        },
        "5e455bffbfce47f78bcea24bc0f801a1": {
          "model_module": "@jupyter-widgets/controls",
          "model_name": "VBoxModel",
          "model_module_version": "1.5.0",
          "state": {
            "_view_name": "VBoxView",
            "_dom_classes": [
              "widget-interact"
            ],
            "_model_name": "VBoxModel",
            "_view_module": "@jupyter-widgets/controls",
            "_model_module_version": "1.5.0",
            "_view_count": null,
            "_view_module_version": "1.5.0",
            "box_style": "",
            "layout": "IPY_MODEL_c8717030fb654109bf276c4059e1a22a",
            "_model_module": "@jupyter-widgets/controls",
            "children": [
              "IPY_MODEL_b9e9fbc8090a4dbbbf803c0668c99a30",
              "IPY_MODEL_eb6451bfbd924c638eb475146bb1654f"
            ]
          }
        },
        "c8717030fb654109bf276c4059e1a22a": {
          "model_module": "@jupyter-widgets/base",
          "model_name": "LayoutModel",
          "model_module_version": "1.2.0",
          "state": {
            "_view_name": "LayoutView",
            "grid_template_rows": null,
            "right": null,
            "justify_content": null,
            "_view_module": "@jupyter-widgets/base",
            "overflow": null,
            "_model_module_version": "1.2.0",
            "_view_count": null,
            "flex_flow": null,
            "width": null,
            "min_width": null,
            "border": null,
            "align_items": null,
            "bottom": null,
            "_model_module": "@jupyter-widgets/base",
            "top": null,
            "grid_column": null,
            "overflow_y": null,
            "overflow_x": null,
            "grid_auto_flow": null,
            "grid_area": null,
            "grid_template_columns": null,
            "flex": null,
            "_model_name": "LayoutModel",
            "justify_items": null,
            "grid_row": null,
            "max_height": null,
            "align_content": null,
            "visibility": null,
            "align_self": null,
            "height": null,
            "min_height": null,
            "padding": null,
            "grid_auto_rows": null,
            "grid_gap": null,
            "max_width": null,
            "order": null,
            "_view_module_version": "1.2.0",
            "grid_template_areas": null,
            "object_position": null,
            "object_fit": null,
            "grid_auto_columns": null,
            "margin": null,
            "display": null,
            "left": null
          }
        },
        "b9e9fbc8090a4dbbbf803c0668c99a30": {
          "model_module": "@jupyter-widgets/controls",
          "model_name": "IntSliderModel",
          "model_module_version": "1.5.0",
          "state": {
            "_view_name": "IntSliderView",
            "style": "IPY_MODEL_963bf540fd6f4a4eb686b8a5090c0c96",
            "_dom_classes": [],
            "description": "a",
            "step": 1,
            "_model_name": "IntSliderModel",
            "orientation": "horizontal",
            "max": 3,
            "_view_module": "@jupyter-widgets/controls",
            "_model_module_version": "1.5.0",
            "value": 1,
            "_view_count": null,
            "disabled": false,
            "_view_module_version": "1.5.0",
            "min": -1,
            "continuous_update": true,
            "readout_format": "d",
            "description_tooltip": null,
            "readout": true,
            "_model_module": "@jupyter-widgets/controls",
            "layout": "IPY_MODEL_88a0c7c29dc94522937db3b7a79c509c"
          }
        },
        "eb6451bfbd924c638eb475146bb1654f": {
          "model_module": "@jupyter-widgets/output",
          "model_name": "OutputModel",
          "model_module_version": "1.0.0",
          "state": {
            "_view_name": "OutputView",
            "msg_id": "",
            "_dom_classes": [],
            "_model_name": "OutputModel",
            "outputs": [
              {
                "output_type": "display_data",
                "data": {
                  "image/png": "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\n",
                  "text/plain": "<Figure size 432x288 with 1 Axes>"
                },
                "metadata": {
                  "needs_background": "light"
                }
              }
            ],
            "_view_module": "@jupyter-widgets/output",
            "_model_module_version": "1.0.0",
            "_view_count": null,
            "_view_module_version": "1.0.0",
            "layout": "IPY_MODEL_df60aeecfd7b43a4b0cf83663725e5e5",
            "_model_module": "@jupyter-widgets/output"
          }
        },
        "963bf540fd6f4a4eb686b8a5090c0c96": {
          "model_module": "@jupyter-widgets/controls",
          "model_name": "SliderStyleModel",
          "model_module_version": "1.5.0",
          "state": {
            "_view_name": "StyleView",
            "handle_color": null,
            "_model_name": "SliderStyleModel",
            "description_width": "",
            "_view_module": "@jupyter-widgets/base",
            "_model_module_version": "1.5.0",
            "_view_count": null,
            "_view_module_version": "1.2.0",
            "_model_module": "@jupyter-widgets/controls"
          }
        },
        "88a0c7c29dc94522937db3b7a79c509c": {
          "model_module": "@jupyter-widgets/base",
          "model_name": "LayoutModel",
          "model_module_version": "1.2.0",
          "state": {
            "_view_name": "LayoutView",
            "grid_template_rows": null,
            "right": null,
            "justify_content": null,
            "_view_module": "@jupyter-widgets/base",
            "overflow": null,
            "_model_module_version": "1.2.0",
            "_view_count": null,
            "flex_flow": null,
            "width": null,
            "min_width": null,
            "border": null,
            "align_items": null,
            "bottom": null,
            "_model_module": "@jupyter-widgets/base",
            "top": null,
            "grid_column": null,
            "overflow_y": null,
            "overflow_x": null,
            "grid_auto_flow": null,
            "grid_area": null,
            "grid_template_columns": null,
            "flex": null,
            "_model_name": "LayoutModel",
            "justify_items": null,
            "grid_row": null,
            "max_height": null,
            "align_content": null,
            "visibility": null,
            "align_self": null,
            "height": null,
            "min_height": null,
            "padding": null,
            "grid_auto_rows": null,
            "grid_gap": null,
            "max_width": null,
            "order": null,
            "_view_module_version": "1.2.0",
            "grid_template_areas": null,
            "object_position": null,
            "object_fit": null,
            "grid_auto_columns": null,
            "margin": null,
            "display": null,
            "left": null
          }
        },
        "df60aeecfd7b43a4b0cf83663725e5e5": {
          "model_module": "@jupyter-widgets/base",
          "model_name": "LayoutModel",
          "model_module_version": "1.2.0",
          "state": {
            "_view_name": "LayoutView",
            "grid_template_rows": null,
            "right": null,
            "justify_content": null,
            "_view_module": "@jupyter-widgets/base",
            "overflow": null,
            "_model_module_version": "1.2.0",
            "_view_count": null,
            "flex_flow": null,
            "width": null,
            "min_width": null,
            "border": null,
            "align_items": null,
            "bottom": null,
            "_model_module": "@jupyter-widgets/base",
            "top": null,
            "grid_column": null,
            "overflow_y": null,
            "overflow_x": null,
            "grid_auto_flow": null,
            "grid_area": null,
            "grid_template_columns": null,
            "flex": null,
            "_model_name": "LayoutModel",
            "justify_items": null,
            "grid_row": null,
            "max_height": null,
            "align_content": null,
            "visibility": null,
            "align_self": null,
            "height": null,
            "min_height": null,
            "padding": null,
            "grid_auto_rows": null,
            "grid_gap": null,
            "max_width": null,
            "order": null,
            "_view_module_version": "1.2.0",
            "grid_template_areas": null,
            "object_position": null,
            "object_fit": null,
            "grid_auto_columns": null,
            "margin": null,
            "display": null,
            "left": null
          }
        },
        "cb9af44214df495fbbd1becdc1590747": {
          "model_module": "@jupyter-widgets/controls",
          "model_name": "VBoxModel",
          "model_module_version": "1.5.0",
          "state": {
            "_view_name": "VBoxView",
            "_dom_classes": [
              "widget-interact"
            ],
            "_model_name": "VBoxModel",
            "_view_module": "@jupyter-widgets/controls",
            "_model_module_version": "1.5.0",
            "_view_count": null,
            "_view_module_version": "1.5.0",
            "box_style": "",
            "layout": "IPY_MODEL_5ecfca95904f47a4b1ababf6774438ac",
            "_model_module": "@jupyter-widgets/controls",
            "children": [
              "IPY_MODEL_3788a5ce91fc4c9d812d904c3563a2c6",
              "IPY_MODEL_cc121fc8c93045b488baabe61fda0a64"
            ]
          }
        },
        "5ecfca95904f47a4b1ababf6774438ac": {
          "model_module": "@jupyter-widgets/base",
          "model_name": "LayoutModel",
          "model_module_version": "1.2.0",
          "state": {
            "_view_name": "LayoutView",
            "grid_template_rows": null,
            "right": null,
            "justify_content": null,
            "_view_module": "@jupyter-widgets/base",
            "overflow": null,
            "_model_module_version": "1.2.0",
            "_view_count": null,
            "flex_flow": null,
            "width": null,
            "min_width": null,
            "border": null,
            "align_items": null,
            "bottom": null,
            "_model_module": "@jupyter-widgets/base",
            "top": null,
            "grid_column": null,
            "overflow_y": null,
            "overflow_x": null,
            "grid_auto_flow": null,
            "grid_area": null,
            "grid_template_columns": null,
            "flex": null,
            "_model_name": "LayoutModel",
            "justify_items": null,
            "grid_row": null,
            "max_height": null,
            "align_content": null,
            "visibility": null,
            "align_self": null,
            "height": null,
            "min_height": null,
            "padding": null,
            "grid_auto_rows": null,
            "grid_gap": null,
            "max_width": null,
            "order": null,
            "_view_module_version": "1.2.0",
            "grid_template_areas": null,
            "object_position": null,
            "object_fit": null,
            "grid_auto_columns": null,
            "margin": null,
            "display": null,
            "left": null
          }
        },
        "3788a5ce91fc4c9d812d904c3563a2c6": {
          "model_module": "@jupyter-widgets/controls",
          "model_name": "DropdownModel",
          "model_module_version": "1.5.0",
          "state": {
            "_options_labels": [
              "Red",
              "Blue",
              "Green"
            ],
            "_view_name": "DropdownView",
            "style": "IPY_MODEL_2dea6c8525bb40f88262bd69835aee54",
            "_dom_classes": [],
            "description": "color",
            "_model_name": "DropdownModel",
            "index": 0,
            "_view_module": "@jupyter-widgets/controls",
            "_model_module_version": "1.5.0",
            "_view_count": null,
            "disabled": false,
            "_view_module_version": "1.5.0",
            "description_tooltip": null,
            "_model_module": "@jupyter-widgets/controls",
            "layout": "IPY_MODEL_6d65c0f3a1274f04943bd818ab5fe234"
          }
        },
        "cc121fc8c93045b488baabe61fda0a64": {
          "model_module": "@jupyter-widgets/output",
          "model_name": "OutputModel",
          "model_module_version": "1.0.0",
          "state": {
            "_view_name": "OutputView",
            "msg_id": "",
            "_dom_classes": [],
            "_model_name": "OutputModel",
            "outputs": [
              {
                "output_type": "display_data",
                "data": {
                  "image/png": "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\n",
                  "text/plain": "<Figure size 432x288 with 1 Axes>"
                },
                "metadata": {
                  "needs_background": "light"
                }
              }
            ],
            "_view_module": "@jupyter-widgets/output",
            "_model_module_version": "1.0.0",
            "_view_count": null,
            "_view_module_version": "1.0.0",
            "layout": "IPY_MODEL_9b7011e7952b4df2bffb5ff1b3fe29d9",
            "_model_module": "@jupyter-widgets/output"
          }
        },
        "2dea6c8525bb40f88262bd69835aee54": {
          "model_module": "@jupyter-widgets/controls",
          "model_name": "DescriptionStyleModel",
          "model_module_version": "1.5.0",
          "state": {
            "_view_name": "StyleView",
            "_model_name": "DescriptionStyleModel",
            "description_width": "",
            "_view_module": "@jupyter-widgets/base",
            "_model_module_version": "1.5.0",
            "_view_count": null,
            "_view_module_version": "1.2.0",
            "_model_module": "@jupyter-widgets/controls"
          }
        },
        "6d65c0f3a1274f04943bd818ab5fe234": {
          "model_module": "@jupyter-widgets/base",
          "model_name": "LayoutModel",
          "model_module_version": "1.2.0",
          "state": {
            "_view_name": "LayoutView",
            "grid_template_rows": null,
            "right": null,
            "justify_content": null,
            "_view_module": "@jupyter-widgets/base",
            "overflow": null,
            "_model_module_version": "1.2.0",
            "_view_count": null,
            "flex_flow": null,
            "width": null,
            "min_width": null,
            "border": null,
            "align_items": null,
            "bottom": null,
            "_model_module": "@jupyter-widgets/base",
            "top": null,
            "grid_column": null,
            "overflow_y": null,
            "overflow_x": null,
            "grid_auto_flow": null,
            "grid_area": null,
            "grid_template_columns": null,
            "flex": null,
            "_model_name": "LayoutModel",
            "justify_items": null,
            "grid_row": null,
            "max_height": null,
            "align_content": null,
            "visibility": null,
            "align_self": null,
            "height": null,
            "min_height": null,
            "padding": null,
            "grid_auto_rows": null,
            "grid_gap": null,
            "max_width": null,
            "order": null,
            "_view_module_version": "1.2.0",
            "grid_template_areas": null,
            "object_position": null,
            "object_fit": null,
            "grid_auto_columns": null,
            "margin": null,
            "display": null,
            "left": null
          }
        },
        "9b7011e7952b4df2bffb5ff1b3fe29d9": {
          "model_module": "@jupyter-widgets/base",
          "model_name": "LayoutModel",
          "model_module_version": "1.2.0",
          "state": {
            "_view_name": "LayoutView",
            "grid_template_rows": null,
            "right": null,
            "justify_content": null,
            "_view_module": "@jupyter-widgets/base",
            "overflow": null,
            "_model_module_version": "1.2.0",
            "_view_count": null,
            "flex_flow": null,
            "width": null,
            "min_width": null,
            "border": null,
            "align_items": null,
            "bottom": null,
            "_model_module": "@jupyter-widgets/base",
            "top": null,
            "grid_column": null,
            "overflow_y": null,
            "overflow_x": null,
            "grid_auto_flow": null,
            "grid_area": null,
            "grid_template_columns": null,
            "flex": null,
            "_model_name": "LayoutModel",
            "justify_items": null,
            "grid_row": null,
            "max_height": null,
            "align_content": null,
            "visibility": null,
            "align_self": null,
            "height": null,
            "min_height": null,
            "padding": null,
            "grid_auto_rows": null,
            "grid_gap": null,
            "max_width": null,
            "order": null,
            "_view_module_version": "1.2.0",
            "grid_template_areas": null,
            "object_position": null,
            "object_fit": null,
            "grid_auto_columns": null,
            "margin": null,
            "display": null,
            "left": null
          }
        },
        "5e62fe6a9ff646b8aa4a3e6bc49a1d0f": {
          "model_module": "@jupyter-widgets/controls",
          "model_name": "VBoxModel",
          "model_module_version": "1.5.0",
          "state": {
            "_view_name": "VBoxView",
            "_dom_classes": [
              "widget-interact"
            ],
            "_model_name": "VBoxModel",
            "_view_module": "@jupyter-widgets/controls",
            "_model_module_version": "1.5.0",
            "_view_count": null,
            "_view_module_version": "1.5.0",
            "box_style": "",
            "layout": "IPY_MODEL_756c71bbbdb14567ba9744e4c226f591",
            "_model_module": "@jupyter-widgets/controls",
            "children": [
              "IPY_MODEL_9c65e75fbc494903837204de31a1b015",
              "IPY_MODEL_4199dd01574a4acc932863ec51371664"
            ]
          }
        },
        "756c71bbbdb14567ba9744e4c226f591": {
          "model_module": "@jupyter-widgets/base",
          "model_name": "LayoutModel",
          "model_module_version": "1.2.0",
          "state": {
            "_view_name": "LayoutView",
            "grid_template_rows": null,
            "right": null,
            "justify_content": null,
            "_view_module": "@jupyter-widgets/base",
            "overflow": null,
            "_model_module_version": "1.2.0",
            "_view_count": null,
            "flex_flow": null,
            "width": null,
            "min_width": null,
            "border": null,
            "align_items": null,
            "bottom": null,
            "_model_module": "@jupyter-widgets/base",
            "top": null,
            "grid_column": null,
            "overflow_y": null,
            "overflow_x": null,
            "grid_auto_flow": null,
            "grid_area": null,
            "grid_template_columns": null,
            "flex": null,
            "_model_name": "LayoutModel",
            "justify_items": null,
            "grid_row": null,
            "max_height": null,
            "align_content": null,
            "visibility": null,
            "align_self": null,
            "height": null,
            "min_height": null,
            "padding": null,
            "grid_auto_rows": null,
            "grid_gap": null,
            "max_width": null,
            "order": null,
            "_view_module_version": "1.2.0",
            "grid_template_areas": null,
            "object_position": null,
            "object_fit": null,
            "grid_auto_columns": null,
            "margin": null,
            "display": null,
            "left": null
          }
        },
        "9c65e75fbc494903837204de31a1b015": {
          "model_module": "@jupyter-widgets/controls",
          "model_name": "DropdownModel",
          "model_module_version": "1.5.0",
          "state": {
            "_options_labels": [
              "One",
              "Two",
              "Three"
            ],
            "_view_name": "DropdownView",
            "style": "IPY_MODEL_64731e0cef874d4481d1fffe1ff3af60",
            "_dom_classes": [],
            "description": "b",
            "_model_name": "DropdownModel",
            "index": 0,
            "_view_module": "@jupyter-widgets/controls",
            "_model_module_version": "1.5.0",
            "_view_count": null,
            "disabled": false,
            "_view_module_version": "1.5.0",
            "description_tooltip": null,
            "_model_module": "@jupyter-widgets/controls",
            "layout": "IPY_MODEL_8d0f11a185d84bc4885d54ed7dc44423"
          }
        },
        "4199dd01574a4acc932863ec51371664": {
          "model_module": "@jupyter-widgets/output",
          "model_name": "OutputModel",
          "model_module_version": "1.0.0",
          "state": {
            "_view_name": "OutputView",
            "msg_id": "",
            "_dom_classes": [],
            "_model_name": "OutputModel",
            "outputs": [
              {
                "output_type": "display_data",
                "data": {
                  "image/png": "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\n",
                  "text/plain": "<Figure size 432x288 with 1 Axes>"
                },
                "metadata": {
                  "needs_background": "light"
                }
              }
            ],
            "_view_module": "@jupyter-widgets/output",
            "_model_module_version": "1.0.0",
            "_view_count": null,
            "_view_module_version": "1.0.0",
            "layout": "IPY_MODEL_2d434ec1643a45c0931429e89346b10b",
            "_model_module": "@jupyter-widgets/output"
          }
        },
        "64731e0cef874d4481d1fffe1ff3af60": {
          "model_module": "@jupyter-widgets/controls",
          "model_name": "DescriptionStyleModel",
          "model_module_version": "1.5.0",
          "state": {
            "_view_name": "StyleView",
            "_model_name": "DescriptionStyleModel",
            "description_width": "",
            "_view_module": "@jupyter-widgets/base",
            "_model_module_version": "1.5.0",
            "_view_count": null,
            "_view_module_version": "1.2.0",
            "_model_module": "@jupyter-widgets/controls"
          }
        },
        "8d0f11a185d84bc4885d54ed7dc44423": {
          "model_module": "@jupyter-widgets/base",
          "model_name": "LayoutModel",
          "model_module_version": "1.2.0",
          "state": {
            "_view_name": "LayoutView",
            "grid_template_rows": null,
            "right": null,
            "justify_content": null,
            "_view_module": "@jupyter-widgets/base",
            "overflow": null,
            "_model_module_version": "1.2.0",
            "_view_count": null,
            "flex_flow": null,
            "width": null,
            "min_width": null,
            "border": null,
            "align_items": null,
            "bottom": null,
            "_model_module": "@jupyter-widgets/base",
            "top": null,
            "grid_column": null,
            "overflow_y": null,
            "overflow_x": null,
            "grid_auto_flow": null,
            "grid_area": null,
            "grid_template_columns": null,
            "flex": null,
            "_model_name": "LayoutModel",
            "justify_items": null,
            "grid_row": null,
            "max_height": null,
            "align_content": null,
            "visibility": null,
            "align_self": null,
            "height": null,
            "min_height": null,
            "padding": null,
            "grid_auto_rows": null,
            "grid_gap": null,
            "max_width": null,
            "order": null,
            "_view_module_version": "1.2.0",
            "grid_template_areas": null,
            "object_position": null,
            "object_fit": null,
            "grid_auto_columns": null,
            "margin": null,
            "display": null,
            "left": null
          }
        },
        "2d434ec1643a45c0931429e89346b10b": {
          "model_module": "@jupyter-widgets/base",
          "model_name": "LayoutModel",
          "model_module_version": "1.2.0",
          "state": {
            "_view_name": "LayoutView",
            "grid_template_rows": null,
            "right": null,
            "justify_content": null,
            "_view_module": "@jupyter-widgets/base",
            "overflow": null,
            "_model_module_version": "1.2.0",
            "_view_count": null,
            "flex_flow": null,
            "width": null,
            "min_width": null,
            "border": null,
            "align_items": null,
            "bottom": null,
            "_model_module": "@jupyter-widgets/base",
            "top": null,
            "grid_column": null,
            "overflow_y": null,
            "overflow_x": null,
            "grid_auto_flow": null,
            "grid_area": null,
            "grid_template_columns": null,
            "flex": null,
            "_model_name": "LayoutModel",
            "justify_items": null,
            "grid_row": null,
            "max_height": null,
            "align_content": null,
            "visibility": null,
            "align_self": null,
            "height": null,
            "min_height": null,
            "padding": null,
            "grid_auto_rows": null,
            "grid_gap": null,
            "max_width": null,
            "order": null,
            "_view_module_version": "1.2.0",
            "grid_template_areas": null,
            "object_position": null,
            "object_fit": null,
            "grid_auto_columns": null,
            "margin": null,
            "display": null,
            "left": null
          }
        },
        "f62857c4460c47d993a465fa14a176dc": {
          "model_module": "@jupyter-widgets/controls",
          "model_name": "VBoxModel",
          "model_module_version": "1.5.0",
          "state": {
            "_view_name": "VBoxView",
            "_dom_classes": [
              "widget-interact"
            ],
            "_model_name": "VBoxModel",
            "_view_module": "@jupyter-widgets/controls",
            "_model_module_version": "1.5.0",
            "_view_count": null,
            "_view_module_version": "1.5.0",
            "box_style": "",
            "layout": "IPY_MODEL_7b301e6e69ea49249daacddd3dea0e49",
            "_model_module": "@jupyter-widgets/controls",
            "children": [
              "IPY_MODEL_06936d186b1b46ffa11e4c22245edee4",
              "IPY_MODEL_3248ea39bd9c4b0db8cbe0831c8c5c3d"
            ]
          }
        },
        "7b301e6e69ea49249daacddd3dea0e49": {
          "model_module": "@jupyter-widgets/base",
          "model_name": "LayoutModel",
          "model_module_version": "1.2.0",
          "state": {
            "_view_name": "LayoutView",
            "grid_template_rows": null,
            "right": null,
            "justify_content": null,
            "_view_module": "@jupyter-widgets/base",
            "overflow": null,
            "_model_module_version": "1.2.0",
            "_view_count": null,
            "flex_flow": null,
            "width": null,
            "min_width": null,
            "border": null,
            "align_items": null,
            "bottom": null,
            "_model_module": "@jupyter-widgets/base",
            "top": null,
            "grid_column": null,
            "overflow_y": null,
            "overflow_x": null,
            "grid_auto_flow": null,
            "grid_area": null,
            "grid_template_columns": null,
            "flex": null,
            "_model_name": "LayoutModel",
            "justify_items": null,
            "grid_row": null,
            "max_height": null,
            "align_content": null,
            "visibility": null,
            "align_self": null,
            "height": null,
            "min_height": null,
            "padding": null,
            "grid_auto_rows": null,
            "grid_gap": null,
            "max_width": null,
            "order": null,
            "_view_module_version": "1.2.0",
            "grid_template_areas": null,
            "object_position": null,
            "object_fit": null,
            "grid_auto_columns": null,
            "margin": null,
            "display": null,
            "left": null
          }
        },
        "06936d186b1b46ffa11e4c22245edee4": {
          "model_module": "@jupyter-widgets/controls",
          "model_name": "DropdownModel",
          "model_module_version": "1.5.0",
          "state": {
            "_options_labels": [
              "Vermelho",
              "Azul",
              "Verde"
            ],
            "_view_name": "DropdownView",
            "style": "IPY_MODEL_94965be8f7b441e1aabe870fe707bad0",
            "_dom_classes": [],
            "description": "color",
            "_model_name": "DropdownModel",
            "index": 0,
            "_view_module": "@jupyter-widgets/controls",
            "_model_module_version": "1.5.0",
            "_view_count": null,
            "disabled": false,
            "_view_module_version": "1.5.0",
            "description_tooltip": null,
            "_model_module": "@jupyter-widgets/controls",
            "layout": "IPY_MODEL_5f197df663a1424e92c7eb417fa3a93c"
          }
        },
        "3248ea39bd9c4b0db8cbe0831c8c5c3d": {
          "model_module": "@jupyter-widgets/output",
          "model_name": "OutputModel",
          "model_module_version": "1.0.0",
          "state": {
            "_view_name": "OutputView",
            "msg_id": "",
            "_dom_classes": [],
            "_model_name": "OutputModel",
            "outputs": [
              {
                "output_type": "display_data",
                "data": {
                  "image/png": "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\n",
                  "text/plain": "<Figure size 432x288 with 1 Axes>"
                },
                "metadata": {
                  "needs_background": "light"
                }
              }
            ],
            "_view_module": "@jupyter-widgets/output",
            "_model_module_version": "1.0.0",
            "_view_count": null,
            "_view_module_version": "1.0.0",
            "layout": "IPY_MODEL_17369b62a5b940de996330a1b3630bbb",
            "_model_module": "@jupyter-widgets/output"
          }
        },
        "94965be8f7b441e1aabe870fe707bad0": {
          "model_module": "@jupyter-widgets/controls",
          "model_name": "DescriptionStyleModel",
          "model_module_version": "1.5.0",
          "state": {
            "_view_name": "StyleView",
            "_model_name": "DescriptionStyleModel",
            "description_width": "",
            "_view_module": "@jupyter-widgets/base",
            "_model_module_version": "1.5.0",
            "_view_count": null,
            "_view_module_version": "1.2.0",
            "_model_module": "@jupyter-widgets/controls"
          }
        },
        "5f197df663a1424e92c7eb417fa3a93c": {
          "model_module": "@jupyter-widgets/base",
          "model_name": "LayoutModel",
          "model_module_version": "1.2.0",
          "state": {
            "_view_name": "LayoutView",
            "grid_template_rows": null,
            "right": null,
            "justify_content": null,
            "_view_module": "@jupyter-widgets/base",
            "overflow": null,
            "_model_module_version": "1.2.0",
            "_view_count": null,
            "flex_flow": null,
            "width": null,
            "min_width": null,
            "border": null,
            "align_items": null,
            "bottom": null,
            "_model_module": "@jupyter-widgets/base",
            "top": null,
            "grid_column": null,
            "overflow_y": null,
            "overflow_x": null,
            "grid_auto_flow": null,
            "grid_area": null,
            "grid_template_columns": null,
            "flex": null,
            "_model_name": "LayoutModel",
            "justify_items": null,
            "grid_row": null,
            "max_height": null,
            "align_content": null,
            "visibility": null,
            "align_self": null,
            "height": null,
            "min_height": null,
            "padding": null,
            "grid_auto_rows": null,
            "grid_gap": null,
            "max_width": null,
            "order": null,
            "_view_module_version": "1.2.0",
            "grid_template_areas": null,
            "object_position": null,
            "object_fit": null,
            "grid_auto_columns": null,
            "margin": null,
            "display": null,
            "left": null
          }
        },
        "17369b62a5b940de996330a1b3630bbb": {
          "model_module": "@jupyter-widgets/base",
          "model_name": "LayoutModel",
          "model_module_version": "1.2.0",
          "state": {
            "_view_name": "LayoutView",
            "grid_template_rows": null,
            "right": null,
            "justify_content": null,
            "_view_module": "@jupyter-widgets/base",
            "overflow": null,
            "_model_module_version": "1.2.0",
            "_view_count": null,
            "flex_flow": null,
            "width": null,
            "min_width": null,
            "border": null,
            "align_items": null,
            "bottom": null,
            "_model_module": "@jupyter-widgets/base",
            "top": null,
            "grid_column": null,
            "overflow_y": null,
            "overflow_x": null,
            "grid_auto_flow": null,
            "grid_area": null,
            "grid_template_columns": null,
            "flex": null,
            "_model_name": "LayoutModel",
            "justify_items": null,
            "grid_row": null,
            "max_height": null,
            "align_content": null,
            "visibility": null,
            "align_self": null,
            "height": null,
            "min_height": null,
            "padding": null,
            "grid_auto_rows": null,
            "grid_gap": null,
            "max_width": null,
            "order": null,
            "_view_module_version": "1.2.0",
            "grid_template_areas": null,
            "object_position": null,
            "object_fit": null,
            "grid_auto_columns": null,
            "margin": null,
            "display": null,
            "left": null
          }
        }
      }
    }
  },
  "cells": [
    {
      "cell_type": "markdown",
      "metadata": {
        "id": "a7SHMHbKBkoQ"
      },
      "source": [
        "<img alt=\"Colaboratory logo\" width=\"15%\" src=\"https://raw.githubusercontent.com/carlosfab/escola-data-science/master/img/novo_logo_bg_claro.png\">\n",
        "\n",
        "#### **Data Science na Prática 3.0**\n",
        "*by [sigmoidal.ai](https://sigmoidal.ai)*\n",
        "\n",
        "---"
      ]
    },
    {
      "cell_type": "markdown",
      "metadata": {
        "id": "pqHp1Vk8Bpdy"
      },
      "source": [
        "Uma coisa muito interessante que podemos trazer para os nossos plots é a interatividade. Em muitos casos, ela pode ser essencial, e pode trazer resultados impressionantes para nosso projeto.\n",
        "\n",
        "Para isso, utilizaremos a biblioteca [ipywidgets](https://ipywidgets.readthedocs.io/en/latest/).\n",
        "\n",
        "\n",
        "O framework dos widgets é construído no *Comm Framework* (abreviação para comunicação, em inglês). O *Comm Framework* é um framework que permite que o kernel envie e receba mensagens em JSON do front end.\n",
        "\n",
        "<center><img src=\"https://ipywidgets.readthedocs.io/en/latest/_images/WidgetArch.png\" height=\"400px\"></center>\n",
        "\n",
        "A função `interact` (ipywidgets.interact) automaticamente cria uma interface de usuário com controles para explorar o código e os dados interativamente. Esse é o jeito mais fácil de começar widgets do IPython.\n",
        "\n",
        "No nível mais básico, o `interact` cria automaticamente um interface de usuário que controla os argumentos de uma função, e então chama a função com aqueles argumentos que você selecionou\u0010 através da UI.\n",
        "\n",
        "Portanto, para usar o `interact` você precisa definir uma função que queira explorar.\n",
        "\n",
        "<center><img src=\"https://ipywidgets.readthedocs.io/en/stable/_images/WidgetModelView.png\" height=\"400px\"></center>\n",
        "\n",
        "Para cada tipo de argumento passado para função, um tipo apropriado de widget é criado para fazer a interação, podendo ser um checkbox, slider, dropdown menu, etc.\n",
        "\n",
        "Vamos ver como isso funciona na prática."
      ]
    },
    {
      "cell_type": "code",
      "metadata": {
        "id": "S8JpsMStZqV8"
      },
      "source": [
        "# instalando o pacote\n",
        "!pip install ipywidgets -q"
      ],
      "execution_count": 1,
      "outputs": []
    },
    {
      "cell_type": "markdown",
      "metadata": {
        "id": "7cTfM0FnGNfw"
      },
      "source": [
        "A documentação instrui que o código abaixo seja utilizado para que essas interações estejam disponíveis em Jupyter Notebooks. Entretanto, no Colab isso não é necessário. Caso você vá realizar esse tipo de plot em um Noteb\u0010ook local, utilize a função abaixo, e tome por referência a documentação, em tudo que diferir de lá nesse notebook."
      ]
    },
    {
      "cell_type": "code",
      "metadata": {
        "id": "3nT3EFibZ1A3"
      },
      "source": [
        "# jupyter nbextension enable --py widgetsnbextension"
      ],
      "execution_count": 2,
      "outputs": []
    },
    {
      "cell_type": "markdown",
      "metadata": {
        "id": "UG1UmxnnGgYE"
      },
      "source": [
        "Uma vez instalados, precisamos importar os pacotes. Aqui, importaremos algumas funções específicas do pacote, e o pacote inteiro, para facilitar nosso código."
      ]
    },
    {
      "cell_type": "code",
      "metadata": {
        "id": "TQ-tvm4qZ7d3"
      },
      "source": [
        "# importando os pacotes necessários\n",
        "import numpy as np\n",
        "import pandas as pd\n",
        "import matplotlib.pyplot as plt\n",
        "from ipywidgets import interact, fixed, interact_manual\n",
        "import ipywidgets as widgets"
      ],
      "execution_count": 3,
      "outputs": []
    },
    {
      "cell_type": "markdown",
      "metadata": {
        "id": "MSbV3a2XGttd"
      },
      "source": [
        "Abaixo, vamos criar uma função normal. Aqui, podemos ver que ao chamar a função, passamos um parâmetro, que tomará o lugar de x. Podemos alterar esse valor, e rodar a função novamente, modificando o plot.\n",
        "\n",
        "Mas, com o `ipywidgets` nós conseguimos tornar esse processo mais fácil, por meio de uma UI interativa."
      ]
    },
    {
      "cell_type": "code",
      "metadata": {
        "colab": {
          "base_uri": "https://localhost:8080/",
          "height": 269
        },
        "id": "4rHIUEdrd0VV",
        "outputId": "6b8fb901-5b1d-4705-d362-d8fe4205b71d"
      },
      "source": [
        "# criando uma função\n",
        "def f(x):\n",
        "  plt.plot(np.arange(0,10), x*np.arange(0,10))\n",
        "  plt.ylim(-30,30)\n",
        "f(0)"
      ],
      "execution_count": 4,
      "outputs": [
        {
          "output_type": "display_data",
          "data": {
            "image/png": "[encoded data removed]",
            "text/plain": [
              "<Figure size 432x288 with 1 Axes>"
            ]
          },
          "metadata": {
            "needs_background": "light"
          }
        }
      ]
    },
    {
      "cell_type": "markdown",
      "metadata": {
        "id": "gLKyMt2DG9VO"
      },
      "source": [
        "Para isso, vamos chamar a função que definimos anteriormente dentro da função interact do `ipywidget`.\n",
        "\n",
        "Vamos passar como argumento a função, e o range de parâmetros que x pode assumir. O primeiro valor será o mínimo, o segundo o máximo, e o terceiro seria nosso step.\n",
        "\n",
        "Com tudo definido, basta rodar e utilizar o slider criado. A biblioteca usar um slider, pois vê que estamos utilizando um `int`, então, entende que essa seria a melhor UI para o caso."
      ]
    },
    {
      "cell_type": "code",
      "metadata": {
        "colab": {
          "base_uri": "https://localhost:8080/",
          "height": 318,
          "referenced_widgets": [
            "6d2d02f48b774b8e99fcf7157f74af3f",
            "e513cf1ca9464da9a8213c2ba6074ca9",
            "55058d75f4244297b85f4cf68c8a4dad",
            "b692033af7ec467bbb7680c67ee11acf",
            "892d36a2425c481c80c6a1d8e08da948",
            "e75812b3c230428f89ab07959adaf589",
            "a32f04555a2d47f78bdc4710a5a82161"
          ]
        },
        "id": "m8HgWsrFjWQx",
        "outputId": "ea5b9260-05d5-4b3b-8c0b-4f84ecc9345e"
      },
      "source": [
        "# muda o slope, sabendo que é um integer, ele sabe que é slider\n",
        "def f(x):\n",
        "  plt.plot(np.arange(0,10), x*np.arange(0,10))\n",
        "  plt.ylim(-30,30)\n",
        "interact(f, x=(-5,10,1))\n"
      ],
      "execution_count": 5,
      "outputs": [
        {
          "output_type": "display_data",
          "data": {
            "application/vnd.jupyter.widget-view+json": {
              "model_id": "6d2d02f48b774b8e99fcf7157f74af3f",
              "version_minor": 0,
              "version_major": 2
            },
            "text/plain": [
              "interactive(children=(IntSlider(value=2, description='x', max=10, min=-5), Output()), _dom_classes=('widget-in…"
            ]
          },
          "metadata": {}
        },
        {
          "output_type": "execute_result",
          "data": {
            "text/plain": [
              "<function __main__.f>"
            ]
          },
          "metadata": {},
          "execution_count": 5
        }
      ]
    },
    {
      "cell_type": "markdown",
      "metadata": {
        "id": "Ungnx_hzHal2"
      },
      "source": [
        "Se passarmos um `bool` como parâmetro para x, dentro do interact, ao invés de um slider, teremos um checkbox, onde a caixa preenchida seria True, e não preenchida, False."
      ]
    },
    {
      "cell_type": "code",
      "metadata": {
        "colab": {
          "base_uri": "https://localhost:8080/",
          "height": 314,
          "referenced_widgets": [
            "4c6ccc35adc6429ebb07649e694e26aa",
            "c059db2bd8214d808978693f169dc304",
            "12215e5d883a4e0794866d103a6790d0",
            "e66e96a739e54d728ef288c06b2ba388",
            "3261de41ad1a484fa7b8344ab3100a07",
            "066c4ae52ea34acd93d7a08aac129667",
            "3ef7718ae5fa435aaf0693ab13a9f4f9"
          ]
        },
        "id": "m6GcZA3vjaKw",
        "outputId": "fbc2bd89-9add-4864-c9c7-604f0daf926a"
      },
      "source": [
        "# checkbox para booleanos#\n",
        "rands = np.random.rand(100)\n",
        "def f(x):\n",
        "  if x:\n",
        "    plt.plot(rands, 'b')\n",
        "  else:\n",
        "    plt.plot(rands, 'r')\n",
        "interact(f, x=True)"
      ],
      "execution_count": 6,
      "outputs": [
        {
          "output_type": "display_data",
          "data": {
            "application/vnd.jupyter.widget-view+json": {
              "model_id": "4c6ccc35adc6429ebb07649e694e26aa",
              "version_minor": 0,
              "version_major": 2
            },
            "text/plain": [
              "interactive(children=(Checkbox(value=True, description='x'), Output()), _dom_classes=('widget-interact',))"
            ]
          },
          "metadata": {}
        },
        {
          "output_type": "execute_result",
          "data": {
            "text/plain": [
              "<function __main__.f>"
            ]
          },
          "metadata": {},
          "execution_count": 6
        }
      ]
    },
    {
      "cell_type": "markdown",
      "metadata": {
        "id": "skI4ZJGgHkRQ"
      },
      "source": [
        "Pordemos também passar um `decorator`, algo que vai servir como decorador para o nosso plot. Nesse caso, queremos modificar o nome do título do plot, por exemplo."
      ]
    },
    {
      "cell_type": "code",
      "metadata": {
        "colab": {
          "base_uri": "https://localhost:8080/",
          "height": 313,
          "referenced_widgets": [
            "d8a66adcbed84d1fab6cd24a648a1250",
            "76b9ccd146c74a1c82a9a3de97817757",
            "9cb9735f31574cddbd9246b1d822eee6",
            "22f8024544b24ce8a364285f9c9f4748",
            "66ce51c45d164f87adcae37c2e48f750",
            "bb6181de8d364c1ba5feca83c54917e2",
            "05a2570195304be6b3c703f8a8c5a7c7"
          ]
        },
        "id": "f9otkKkVxM_a",
        "outputId": "75936fcb-3704-4429-9019-2fdef626e2ec"
      },
      "source": [
        "# decorator. Identifica a string e entrega um text box\n",
        "\n",
        "@interact(x='Sigmoidal')\n",
        "def f(x):\n",
        "  plt.title(x)\n"
      ],
      "execution_count": 7,
      "outputs": [
        {
          "output_type": "display_data",
          "data": {
            "application/vnd.jupyter.widget-view+json": {
              "model_id": "d8a66adcbed84d1fab6cd24a648a1250",
              "version_minor": 0,
              "version_major": 2
            },
            "text/plain": [
              "interactive(children=(Text(value='Sigmoidal', description='x'), Output()), _dom_classes=('widget-interact',))"
            ]
          },
          "metadata": {}
        }
      ]
    },
    {
      "cell_type": "markdown",
      "metadata": {
        "id": "0xY9p-EeHwya"
      },
      "source": [
        "Também é importante ressaltar que não estamos presos a apenas um widget por plot. Basta fazer as mudanças na função, e passar os parâmetros no interact.\n",
        "\n",
        "Aqui mostramos também que ele define um range e um step automaticamente, mas você também pode escolher passar como mostramos nos exemplos anteriores."
      ]
    },
    {
      "cell_type": "code",
      "metadata": {
        "colab": {
          "base_uri": "https://localhost:8080/",
          "height": 366,
          "referenced_widgets": [
            "9a79c1c809454c758f2479367a7fc953",
            "3c8d38feff264c7b95674ac11652de25",
            "9d6d69701fa242e8b67809a3fc8aecff",
            "6490333a075e41d48e65e7830cbca68d",
            "72e72a6f9ab04534b1652cbfdc562fc1",
            "8871cd234ed641ba8aea47b4860d7cae",
            "9ba8b2fe4ba8424b99fb9b778f5ce348",
            "8d75fb67704b4d64ae569181374a560b",
            "7bc1f288110c40688c4d90421cbd9261",
            "1feff3b8925440a097137a36ae506b3c"
          ]
        },
        "id": "s3Gv9pAhxqfX",
        "outputId": "46d7478e-d27a-4677-cd37-69f1dfcbf629"
      },
      "source": [
        "# multiplos widgets\n",
        "def f(a,b):\n",
        "  plt.plot(np.arange(0,10), a*np.power(np.arange(0,10), b))\n",
        "  plt.title(\"Lei de Potência: $x=ay^b$\")\n",
        "interact(f, a=1, b=3)"
      ],
      "execution_count": 8,
      "outputs": [
        {
          "output_type": "display_data",
          "data": {
            "application/vnd.jupyter.widget-view+json": {
              "model_id": "9a79c1c809454c758f2479367a7fc953",
              "version_minor": 0,
              "version_major": 2
            },
            "text/plain": [
              "interactive(children=(IntSlider(value=1, description='a', max=3, min=-1), IntSlider(value=3, description='b', …"
            ]
          },
          "metadata": {}
        },
        {
          "output_type": "execute_result",
          "data": {
            "text/plain": [
              "<function __main__.f>"
            ]
          },
          "metadata": {},
          "execution_count": 8
        }
      ]
    },
    {
      "cell_type": "markdown",
      "metadata": {
        "id": "g2a3geNVJQeG"
      },
      "source": [
        "Se a personalização é importante, ter valores fixos também pode ser.\n",
        "\n"
      ]
    },
    {
      "cell_type": "code",
      "metadata": {
        "colab": {
          "base_uri": "https://localhost:8080/",
          "height": 334,
          "referenced_widgets": [
            "617598a9926f4340ab5f10e15cfa97a3",
            "cb24661163b541edafa890ad6e873863",
            "03e78b4a574c4a4f909c6a176e4d4ac3",
            "a4f261d997eb44a894ec705d91dfa150",
            "3c9e003e341148648da92500f6a19afd",
            "af035bc4bac944eaa6c8383eb8f8f55c",
            "3c199b54c1ac4e488526a021b8ca149c"
          ]
        },
        "id": "IQtvGEdPyUN6",
        "outputId": "abe7b458-b3d6-4071-ace2-c66040af0a96"
      },
      "source": [
        "# valores fixos\n",
        "def f(a,b):\n",
        "  plt.plot(np.arange(0,10), a*np.power(np.arange(0,10), b))\n",
        "  plt.title(\"Lei da Potência: $x=ay^b$\")\n",
        "interact(f, a=1, b=fixed(2))"
      ],
      "execution_count": 9,
      "outputs": [
        {
          "output_type": "display_data",
          "data": {
            "application/vnd.jupyter.widget-view+json": {
              "model_id": "617598a9926f4340ab5f10e15cfa97a3",
              "version_minor": 0,
              "version_major": 2
            },
            "text/plain": [
              "interactive(children=(IntSlider(value=1, description='a', max=3, min=-1), Output()), _dom_classes=('widget-int…"
            ]
          },
          "metadata": {}
        },
        {
          "output_type": "execute_result",
          "data": {
            "text/plain": [
              "<function __main__.f>"
            ]
          },
          "metadata": {},
          "execution_count": 9
        }
      ]
    },
    {
      "cell_type": "code",
      "metadata": {
        "colab": {
          "base_uri": "https://localhost:8080/",
          "height": 334,
          "referenced_widgets": [
            "5e455bffbfce47f78bcea24bc0f801a1",
            "c8717030fb654109bf276c4059e1a22a",
            "b9e9fbc8090a4dbbbf803c0668c99a30",
            "eb6451bfbd924c638eb475146bb1654f",
            "963bf540fd6f4a4eb686b8a5090c0c96",
            "88a0c7c29dc94522937db3b7a79c509c",
            "df60aeecfd7b43a4b0cf83663725e5e5"
          ]
        },
        "id": "6NNYr9HbJV3w",
        "outputId": "a489797c-d49a-4c27-daa4-6835d8d8d424"
      },
      "source": [
        "# valores fixos, mas com o b definido\n",
        "def f(a):\n",
        "  plt.plot(np.arange(0,10), a*np.power(np.arange(0,10), 2))\n",
        "  plt.title(\"Lei da Potência: $x=ay^b$\")\n",
        "interact(f, a=1)"
      ],
      "execution_count": 10,
      "outputs": [
        {
          "output_type": "display_data",
          "data": {
            "application/vnd.jupyter.widget-view+json": {
              "model_id": "5e455bffbfce47f78bcea24bc0f801a1",
              "version_minor": 0,
              "version_major": 2
            },
            "text/plain": [
              "interactive(children=(IntSlider(value=1, description='a', max=3, min=-1), Output()), _dom_classes=('widget-int…"
            ]
          },
          "metadata": {}
        },
        {
          "output_type": "execute_result",
          "data": {
            "text/plain": [
              "<function __main__.f>"
            ]
          },
          "metadata": {},
          "execution_count": 10
        }
      ]
    },
    {
      "cell_type": "markdown",
      "metadata": {
        "id": "EMG98VJaJnMR"
      },
      "source": [
        "Para criar um menu dropdown para as interações, basta passar uma lista como parâmetro.\n",
        "\n",
        "Aqui, a nossa função vai receber o parâmetro cor através do interact.\n",
        "\n",
        "A cor vai fazer parte de uma lista de cores, que vamos passar como parâmetro dentro da função do interact."
      ]
    },
    {
      "cell_type": "code",
      "metadata": {
        "colab": {
          "base_uri": "https://localhost:8080/",
          "height": 334,
          "referenced_widgets": [
            "cb9af44214df495fbbd1becdc1590747",
            "5ecfca95904f47a4b1ababf6774438ac",
            "3788a5ce91fc4c9d812d904c3563a2c6",
            "cc121fc8c93045b488baabe61fda0a64",
            "2dea6c8525bb40f88262bd69835aee54",
            "6d65c0f3a1274f04943bd818ab5fe234",
            "9b7011e7952b4df2bffb5ff1b3fe29d9"
          ]
        },
        "id": "WD7t5zAx03ME",
        "outputId": "f7ab9008-9d92-4f86-909d-46d02a1e2f7c"
      },
      "source": [
        "# dropdown de listas\n",
        "\n",
        "def f(color):\n",
        "  plt.plot(np.arange(0,10), np.power(np.arange(0,10), 5), c=color)\n",
        "  plt.title(\"Lei da Potência: $x=ay^b$\")\n",
        "colors=['Red', 'Blue', 'Green']\n",
        "interact(f, color=colors)"
      ],
      "execution_count": 11,
      "outputs": [
        {
          "output_type": "display_data",
          "data": {
            "application/vnd.jupyter.widget-view+json": {
              "model_id": "cb9af44214df495fbbd1becdc1590747",
              "version_minor": 0,
              "version_major": 2
            },
            "text/plain": [
              "interactive(children=(Dropdown(description='color', options=('Red', 'Blue', 'Green'), value='Red'), Output()),…"
            ]
          },
          "metadata": {}
        },
        {
          "output_type": "execute_result",
          "data": {
            "text/plain": [
              "<function __main__.f>"
            ]
          },
          "metadata": {},
          "execution_count": 11
        }
      ]
    },
    {
      "cell_type": "markdown",
      "metadata": {
        "id": "0FVwCtdTKBOD"
      },
      "source": [
        "Também é possível criar um dropdown com dicionários. Poderíamos, por exemplo, ter passado uam lista de ints, e modificaríamos o plot a partir de um dropdown, da mesma forma que faríamos com um slider.\n",
        "\n",
        "Mas e se quiséssimos escrever o nome do número e fazer com que a função receba o número como int? Dicionários!\n",
        "\n",
        "Passamos as opções do dropdown como chaves e os valores que a função irá receber como valores.\n",
        "\n",
        "Então é só passar o dicionário como parâmetro dentro do interact."
      ]
    },
    {
      "cell_type": "code",
      "metadata": {
        "colab": {
          "base_uri": "https://localhost:8080/",
          "height": 334,
          "referenced_widgets": [
            "5e62fe6a9ff646b8aa4a3e6bc49a1d0f",
            "756c71bbbdb14567ba9744e4c226f591",
            "9c65e75fbc494903837204de31a1b015",
            "4199dd01574a4acc932863ec51371664",
            "64731e0cef874d4481d1fffe1ff3af60",
            "8d0f11a185d84bc4885d54ed7dc44423",
            "2d434ec1643a45c0931429e89346b10b"
          ]
        },
        "id": "wPSg6r5o1kIE",
        "outputId": "ac1ec2b3-00ea-404f-c462-f18ee01beabf"
      },
      "source": [
        "# dropdown de dicionários \n",
        "\n",
        "def f(b):\n",
        "  plt.plot(np.arange(0,10), np.power(np.arange(0,10), b))\n",
        "  plt.title(\"Power Law: $x=ay^b$\")\n",
        "powers = {'One':1, 'Two':2, 'Three':3}\n",
        "interact(f, b=powers)"
      ],
      "execution_count": 12,
      "outputs": [
        {
          "output_type": "display_data",
          "data": {
            "application/vnd.jupyter.widget-view+json": {
              "model_id": "5e62fe6a9ff646b8aa4a3e6bc49a1d0f",
              "version_minor": 0,
              "version_major": 2
            },
            "text/plain": [
              "interactive(children=(Dropdown(description='b', options={'One': 1, 'Two': 2, 'Three': 3}, value=1), Output()),…"
            ]
          },
          "metadata": {}
        },
        {
          "output_type": "execute_result",
          "data": {
            "text/plain": [
              "<function __main__.f>"
            ]
          },
          "metadata": {},
          "execution_count": 12
        }
      ]
    },
    {
      "cell_type": "code",
      "metadata": {
        "id": "7SDpvPIk25Vh",
        "colab": {
          "base_uri": "https://localhost:8080/",
          "height": 334,
          "referenced_widgets": [
            "f62857c4460c47d993a465fa14a176dc",
            "7b301e6e69ea49249daacddd3dea0e49",
            "06936d186b1b46ffa11e4c22245edee4",
            "3248ea39bd9c4b0db8cbe0831c8c5c3d",
            "94965be8f7b441e1aabe870fe707bad0",
            "5f197df663a1424e92c7eb417fa3a93c",
            "17369b62a5b940de996330a1b3630bbb"
          ]
        },
        "outputId": "ac495c11-744a-4333-d5e0-83720895581d"
      },
      "source": [
        "# dropdown de dicionários\n",
        "\n",
        "def f(color):\n",
        "  plt.plot(np.arange(0,10), np.power(np.arange(0,10), 5), c=color)\n",
        "  plt.title(\"Lei da Potência: $x=ay^b$\")\n",
        "colors={'Vermelho':'Red', 'Azul':'Blue', 'Verde':'Green'}\n",
        "interact(f, color=colors)"
      ],
      "execution_count": 13,
      "outputs": [
        {
          "output_type": "display_data",
          "data": {
            "application/vnd.jupyter.widget-view+json": {
              "model_id": "f62857c4460c47d993a465fa14a176dc",
              "version_minor": 0,
              "version_major": 2
            },
            "text/plain": [
              "interactive(children=(Dropdown(description='color', options={'Vermelho': 'Red', 'Azul': 'Blue', 'Verde': 'Gree…"
            ]
          },
          "metadata": {}
        },
        {
          "output_type": "execute_result",
          "data": {
            "text/plain": [
              "<function __main__.f>"
            ]
          },
          "metadata": {},
          "execution_count": 13
        }
      ]
    },
    {
      "cell_type": "code",
      "metadata": {
        "id": "ceneMeNJQHY2"
      },
      "source": [
        ""
      ],
      "execution_count": 13,
      "outputs": []
    }
  ]
}