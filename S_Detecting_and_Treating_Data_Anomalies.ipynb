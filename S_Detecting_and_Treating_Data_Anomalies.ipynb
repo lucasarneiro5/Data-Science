{
  "nbformat": 4,
  "nbformat_minor": 0,
  "metadata": {
    "kernelspec": {
      "display_name": "Python 3",
      "language": "python",
      "name": "python3"
    },
    "language_info": {
      "codemirror_mode": {
        "name": "ipython",
        "version": 3
      },
      "file_extension": ".py",
      "mimetype": "text/x-python",
      "name": "python",
      "nbconvert_exporter": "python",
      "pygments_lexer": "ipython3",
      "version": "3.6.0"
    },
    "colab": {
      "name": "Detecting and Treating Data Anomalies.ipynb",
      "provenance": []
    }
  },
  "cells": [
    {
      "cell_type": "markdown",
      "metadata": {
        "id": "6wQe4G5hNrQ2"
      },
      "source": [
        "# Curso Data Science do Zero - Minerando Dados"
      ]
    },
    {
      "cell_type": "markdown",
      "metadata": {
        "id": "EOEpJB3uNrQ4"
      },
      "source": [
        "## 5º Capítulo: Pre-processamento de Dados ##"
      ]
    },
    {
      "cell_type": "markdown",
      "metadata": {
        "id": "bCzIfpV9NrQ5"
      },
      "source": [
        "### Tratamento de Dados - Detecção de Anomalias"
      ]
    },
    {
      "cell_type": "markdown",
      "metadata": {
        "id": "_x2cJJVPNrQ6"
      },
      "source": [
        "##### dataset para simulação de anomalias"
      ]
    },
    {
      "cell_type": "code",
      "metadata": {
        "id": "SmBGLSYnNrQ7",
        "outputId": "f3b4bf4d-8634-4673-b5db-4f465e7a3777"
      },
      "source": [
        "import numpy\n",
        "\n",
        "dados = [10, 386, 479, 627, 20, 523, 482, 483, 542, 699, 535, 617, 577, 471, 615, 583, 441, 562, 563, 527, \n",
        "       453, 530, 433, 541, 585, 704, 443, 569, 430, 637, 331, 511, 552, 496, 484, 566, 554, 472, 335, \n",
        "       440, 579, 341, 545, 615, 548, 604, 439, 556, 442, 461, 624, 611, 444, 578, 405, 487, 490, 496, 398, \n",
        "       512, 422, 455, 449, 432, 607, 679, 434, 597, 639, 565, 415, 486, 668, 414, 665, 763, 557, 304, 404, 454, \n",
        "       689, 610, 483, 441, 657, 590, 492, 476, 437, 483, 529, 363, 711, 543,30, 1300, 1350, 1400]\n",
        "\n",
        "dados = numpy.array(dados)\n",
        "print(dados)"
      ],
      "execution_count": null,
      "outputs": [
        {
          "output_type": "stream",
          "text": [
            "[  10  386  479  627   20  523  482  483  542  699  535  617  577  471  615\n",
            "  583  441  562  563  527  453  530  433  541  585  704  443  569  430  637\n",
            "  331  511  552  496  484  566  554  472  335  440  579  341  545  615  548\n",
            "  604  439  556  442  461  624  611  444  578  405  487  490  496  398  512\n",
            "  422  455  449  432  607  679  434  597  639  565  415  486  668  414  665\n",
            "  763  557  304  404  454  689  610  483  441  657  590  492  476  437  483\n",
            "  529  363  711  543   30 1300 1350 1400]\n"
          ],
          "name": "stdout"
        }
      ]
    },
    {
      "cell_type": "markdown",
      "metadata": {
        "id": "rsQzWihVNrRF"
      },
      "source": [
        "#### visualizando os valores anômalos"
      ]
    },
    {
      "cell_type": "code",
      "metadata": {
        "id": "cWYOldchNrRG",
        "outputId": "b2f6c5cd-9975-492d-f2a5-18d4d33f3394"
      },
      "source": [
        "%matplotlib inline\n",
        "import seaborn as sns\n",
        "sns.set(style=\"whitegrid\", color_codes=True)\n",
        "sns.boxplot(data=dados);"
      ],
      "execution_count": null,
      "outputs": [
        {
          "output_type": "display_data",
          "data": {
            "image/png": "[encoded data removed]",
            "text/plain": [
              "<matplotlib.figure.Figure at 0x7f531924c2e8>"
            ]
          },
          "metadata": {
            "tags": []
          }
        }
      ]
    },
    {
      "cell_type": "markdown",
      "metadata": {
        "id": "F2cMlGE2NrRM"
      },
      "source": [
        "##### verificando o valor da média"
      ]
    },
    {
      "cell_type": "code",
      "metadata": {
        "scrolled": true,
        "id": "C4VRpFYANrRN",
        "outputId": "d76ad965-ec5f-4600-e354-b7c75fd6e809"
      },
      "source": [
        "numpy.mean(dados, axis=0)"
      ],
      "execution_count": null,
      "outputs": [
        {
          "output_type": "execute_result",
          "data": {
            "text/plain": [
              "530.36734693877554"
            ]
          },
          "metadata": {
            "tags": []
          },
          "execution_count": 15
        }
      ]
    },
    {
      "cell_type": "markdown",
      "metadata": {
        "id": "6S9Wb3yPNrRV"
      },
      "source": [
        "##### verificando o valor de desvio padrão"
      ]
    },
    {
      "cell_type": "code",
      "metadata": {
        "scrolled": true,
        "id": "AMVYtWWUNrRW",
        "outputId": "23f7281f-fff2-4a4e-d7ca-7ae6b0e9d004"
      },
      "source": [
        "numpy.std(dados, axis=0)"
      ],
      "execution_count": null,
      "outputs": [
        {
          "output_type": "execute_result",
          "data": {
            "text/plain": [
              "192.51166875607043"
            ]
          },
          "metadata": {
            "tags": []
          },
          "execution_count": 16
        }
      ]
    },
    {
      "cell_type": "markdown",
      "metadata": {
        "id": "9Sjf-NBNNrRb"
      },
      "source": [
        "##### fronteira de valor abaixo da média em duas vezes o desvio padrão"
      ]
    },
    {
      "cell_type": "code",
      "metadata": {
        "id": "VZbKMVxHNrRc"
      },
      "source": [
        "mean = numpy.mean(dados, axis=0)\n",
        "sd = numpy.std(dados, axis=0)"
      ],
      "execution_count": null,
      "outputs": []
    },
    {
      "cell_type": "code",
      "metadata": {
        "scrolled": false,
        "id": "2ICIx-UCNrRj",
        "outputId": "d02d82e5-b5b5-4a02-85e1-648d2e706e40"
      },
      "source": [
        "mean - 2 * sd"
      ],
      "execution_count": null,
      "outputs": [
        {
          "output_type": "execute_result",
          "data": {
            "text/plain": [
              "145.34400942663467"
            ]
          },
          "metadata": {
            "tags": []
          },
          "execution_count": 18
        }
      ]
    },
    {
      "cell_type": "markdown",
      "metadata": {
        "id": "E4vUnW8eNrRp"
      },
      "source": [
        "##### fronteira de valores acima da média em duas vezes o desvio padrão"
      ]
    },
    {
      "cell_type": "code",
      "metadata": {
        "scrolled": true,
        "id": "jgaQoi5tNrRq",
        "outputId": "bd235568-fc8b-4a91-cef7-d786bf64aafb"
      },
      "source": [
        "mean + 2 * sd"
      ],
      "execution_count": null,
      "outputs": [
        {
          "output_type": "execute_result",
          "data": {
            "text/plain": [
              "915.39068445091641"
            ]
          },
          "metadata": {
            "tags": []
          },
          "execution_count": 19
        }
      ]
    },
    {
      "cell_type": "markdown",
      "metadata": {
        "id": "oBQukAQmNrRv"
      },
      "source": [
        "##### listando os valores abaixo da média em duas vezes o desvio padrão"
      ]
    },
    {
      "cell_type": "code",
      "metadata": {
        "scrolled": true,
        "id": "nfG-76jjNrRw",
        "outputId": "c106e38a-3b3d-41d5-f951-49c5fe4b98f0"
      },
      "source": [
        "for x in dados:\n",
        "        if (x < mean - 2 * sd):\n",
        "            print(x)"
      ],
      "execution_count": null,
      "outputs": [
        {
          "output_type": "stream",
          "text": [
            "10\n",
            "20\n",
            "30\n"
          ],
          "name": "stdout"
        }
      ]
    },
    {
      "cell_type": "markdown",
      "metadata": {
        "id": "Axv72RbWNrR1"
      },
      "source": [
        "##### listando os valores acima da média em duas vezes o desvio padrão"
      ]
    },
    {
      "cell_type": "code",
      "metadata": {
        "scrolled": true,
        "id": "bhLEhzE-NrR2",
        "outputId": "867bb13f-2b99-4500-fda9-e94a4204abdf"
      },
      "source": [
        "for x in dados:\n",
        "        if (x > mean + 2 * sd):\n",
        "            print(x)"
      ],
      "execution_count": null,
      "outputs": [
        {
          "output_type": "stream",
          "text": [
            "1300\n",
            "1350\n",
            "1400\n"
          ],
          "name": "stdout"
        }
      ]
    },
    {
      "cell_type": "markdown",
      "metadata": {
        "id": "VoQQ2QQpNrR6"
      },
      "source": [
        "#### removendo os valores muito abaixo da média (10,20,30)"
      ]
    },
    {
      "cell_type": "code",
      "metadata": {
        "id": "LzGKUoVrNrR7",
        "outputId": "b596d772-36b3-4dd2-8d5e-a3159fb6515e"
      },
      "source": [
        "dados = [x for x in dados if (x > mean - 2 * sd)]\n",
        "print(dados)"
      ],
      "execution_count": null,
      "outputs": [
        {
          "output_type": "stream",
          "text": [
            "[386, 479, 627, 523, 482, 483, 542, 699, 535, 617, 577, 471, 615, 583, 441, 562, 563, 527, 453, 530, 433, 541, 585, 704, 443, 569, 430, 637, 331, 511, 552, 496, 484, 566, 554, 472, 335, 440, 579, 341, 545, 615, 548, 604, 439, 556, 442, 461, 624, 611, 444, 578, 405, 487, 490, 496, 398, 512, 422, 455, 449, 432, 607, 679, 434, 597, 639, 565, 415, 486, 668, 414, 665, 763, 557, 304, 404, 454, 689, 610, 483, 441, 657, 590, 492, 476, 437, 483, 529, 363, 711, 543, 1300, 1350, 1400]\n"
          ],
          "name": "stdout"
        }
      ]
    },
    {
      "cell_type": "markdown",
      "metadata": {
        "id": "7eUwTaNLNrSB"
      },
      "source": [
        "#### removendo os valores muito acima da média (1300,1350,1400)"
      ]
    },
    {
      "cell_type": "code",
      "metadata": {
        "id": "8aSAguKXNrSD",
        "outputId": "1e6e1b77-a9d2-4cd2-aaf0-dda86e6c3260"
      },
      "source": [
        "dados = [x for x in dados if (x < mean + 2 * sd)]\n",
        "print(dados)"
      ],
      "execution_count": null,
      "outputs": [
        {
          "output_type": "stream",
          "text": [
            "[386, 479, 627, 523, 482, 483, 542, 699, 535, 617, 577, 471, 615, 583, 441, 562, 563, 527, 453, 530, 433, 541, 585, 704, 443, 569, 430, 637, 331, 511, 552, 496, 484, 566, 554, 472, 335, 440, 579, 341, 545, 615, 548, 604, 439, 556, 442, 461, 624, 611, 444, 578, 405, 487, 490, 496, 398, 512, 422, 455, 449, 432, 607, 679, 434, 597, 639, 565, 415, 486, 668, 414, 665, 763, 557, 304, 404, 454, 689, 610, 483, 441, 657, 590, 492, 476, 437, 483, 529, 363, 711, 543]\n"
          ],
          "name": "stdout"
        }
      ]
    },
    {
      "cell_type": "markdown",
      "metadata": {
        "id": "d-WbKrveNrSN"
      },
      "source": [
        "#### visualizando os valores novamente"
      ]
    },
    {
      "cell_type": "code",
      "metadata": {
        "scrolled": true,
        "id": "l9NQH00cNrSO",
        "outputId": "2a5fcb88-59c0-4227-cf27-eb3dfd9e88c0"
      },
      "source": [
        "sns.boxplot(data=dados);"
      ],
      "execution_count": null,
      "outputs": [
        {
          "output_type": "display_data",
          "data": {
            "image/png": "[encoded data removed]",
            "text/plain": [
              "<matplotlib.figure.Figure at 0x7f53192e3fd0>"
            ]
          },
          "metadata": {
            "tags": []
          }
        }
      ]
    }
  ]
}