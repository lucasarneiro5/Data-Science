{
  "nbformat": 4,
  "nbformat_minor": 0,
  "metadata": {
    "kernelspec": {
      "display_name": "Python 3",
      "language": "python",
      "name": "python3"
    },
    "language_info": {
      "codemirror_mode": {
        "name": "ipython",
        "version": 3
      },
      "file_extension": ".py",
      "mimetype": "text/x-python",
      "name": "python",
      "nbconvert_exporter": "python",
      "pygments_lexer": "ipython3",
      "version": "3.6.8"
    },
    "colab": {
      "name": "Python_para_Analise_de_dados_Pandas_01.ipynb",
      "provenance": [],
      "collapsed_sections": [
        "Wg-OdbvP1g62",
        "LYf1xUIW1g7d"
      ]
    }
  },
  "cells": [
    {
      "cell_type": "markdown",
      "metadata": {
        "id": "Zvm8wiA51gv6"
      },
      "source": [
        "# Python para Análise de Dados - Pandas  "
      ]
    },
    {
      "cell_type": "markdown",
      "metadata": {
        "id": "CmVM65HX1gwI"
      },
      "source": [
        "Iremos trabalhar com base de imóveis que obtive no site **Kaggle**\n",
        "\n"
      ]
    },
    {
      "cell_type": "code",
      "metadata": {
        "id": "b3SxlYLu1gwK"
      },
      "source": [
        "# Importando o Pandas.\n",
        "import pandas as pd"
      ],
      "execution_count": null,
      "outputs": []
    },
    {
      "cell_type": "code",
      "metadata": {
        "id": "TukptdHf1gwT"
      },
      "source": [
        "# Lendo uma base de dados no formato .csv.\n",
        "# o parâmetro sep é usado para definir qual o separador entre os dados.\n",
        "# o parâmetro header informo em qual linha está minhas colunas ou se elas não existem.\n",
        "# Se não existe colunas (header=None) o pandas dará um número para cada atributo da base.\n",
        "arquivo = 'kc_house_data.csv'\n",
        "dataset = pd.read_csv(arquivo, sep=',' ,header=0)"
      ],
      "execution_count": null,
      "outputs": []
    },
    {
      "cell_type": "code",
      "metadata": {
        "id": "IMVyqDNR1gwZ"
      },
      "source": [
        "# Imprimindo o tipo da variável dataset\n",
        "# Dataframe é um estrutura de dados onde linhas podem ter colunas de diferentes tipos.\n",
        "type(dataset)"
      ],
      "execution_count": null,
      "outputs": []
    },
    {
      "cell_type": "code",
      "metadata": {
        "id": "TSMCxizJ1gwj"
      },
      "source": [
        "# Metodo head() imprime as 5 linhas iniciais do dataframe.\n",
        "dataset.head()"
      ],
      "execution_count": null,
      "outputs": []
    },
    {
      "cell_type": "code",
      "metadata": {
        "id": "ijnwLy8q1gwp"
      },
      "source": [
        "# O parâmetro index_col informa a coluna na qual o dataframe será indexado\n",
        "dataset = pd.read_csv(arquivo, sep=',', index_col='date')"
      ],
      "execution_count": null,
      "outputs": []
    },
    {
      "cell_type": "code",
      "metadata": {
        "id": "Q1q8ro8s1gxg"
      },
      "source": [
        "dataset = pd.read_csv(arquivo, sep=',', usecols=['id','date','price','bedrooms'])"
      ],
      "execution_count": null,
      "outputs": []
    },
    {
      "cell_type": "code",
      "metadata": {
        "id": "Z8XG78ZE1gyD"
      },
      "source": [
        "# Metodo head() imprime as 5 linhas iniciais do dataframe.\n",
        "dataset.head()"
      ],
      "execution_count": null,
      "outputs": []
    },
    {
      "cell_type": "code",
      "metadata": {
        "id": "fEDzkkKp1gyS"
      },
      "source": [
        "# Imprimindo a 100 primeiras linhas do dataframe.\n",
        "dataset.head(100)"
      ],
      "execution_count": null,
      "outputs": []
    },
    {
      "cell_type": "code",
      "metadata": {
        "id": "keq8JdAT1gya"
      },
      "source": [
        "# Atributo columns retorna o nome das colunas do dataframe.\n",
        "dataset.columns"
      ],
      "execution_count": null,
      "outputs": []
    },
    {
      "cell_type": "code",
      "metadata": {
        "id": "cT6fu2KE1gyk"
      },
      "source": [
        "# Método count() retorna a quantidade de linhas de todas as colunas.\n",
        "dataset.count()"
      ],
      "execution_count": null,
      "outputs": []
    },
    {
      "cell_type": "code",
      "metadata": {
        "scrolled": true,
        "id": "CwmXtO7s1gyu"
      },
      "source": [
        "# Método describe() exibe informações estatísticas da base de dados. \n",
        "# Várias informações como desvio padrão, média, valor mínimo e valor máximo de colunas.\n",
        "dataset.describe()"
      ],
      "execution_count": null,
      "outputs": []
    },
    {
      "cell_type": "code",
      "metadata": {
        "id": "WTQLnfA71gy1"
      },
      "source": [
        "# Imprime as 5 ultimas linhas .\n",
        "dataset.tail(100)"
      ],
      "execution_count": null,
      "outputs": []
    },
    {
      "cell_type": "code",
      "metadata": {
        "id": "r_ufkF7b1gy-"
      },
      "source": [
        "# Imprime uma amostra aleatória do dataset.\n",
        "dataset.sample(5)"
      ],
      "execution_count": null,
      "outputs": []
    },
    {
      "cell_type": "code",
      "metadata": {
        "id": "L5jo0rDA1gzE"
      },
      "source": [
        "# Retorna em formato de tupla a quantidade de linhas e colunas do dataset.\n",
        "dataset.shape"
      ],
      "execution_count": null,
      "outputs": []
    },
    {
      "cell_type": "code",
      "metadata": {
        "id": "isW2phjS1gzM"
      },
      "source": [
        "# Imprime informações sobre colunas e uso de memória.\n",
        "dataset.info()"
      ],
      "execution_count": null,
      "outputs": []
    },
    {
      "cell_type": "markdown",
      "metadata": {
        "id": "yiIzA_lX1gzR"
      },
      "source": [
        "### Analisando um Dataframe com Profiling **#Top**"
      ]
    },
    {
      "cell_type": "markdown",
      "metadata": {
        "id": "znHJYTPm1gzS"
      },
      "source": [
        "*Instalando o Pandas Profiling*"
      ]
    },
    {
      "cell_type": "code",
      "metadata": {
        "id": "jERW6H7A1gzT",
        "outputId": "97bc36d4-7f79-4e93-e9b1-963c40dbd09b",
        "colab": {
          "base_uri": "https://localhost:8080/",
          "height": 258
        }
      },
      "source": [
        "!pip install pandas-profiling"
      ],
      "execution_count": null,
      "outputs": [
        {
          "output_type": "stream",
          "text": [
            "Requirement already satisfied: pandas-profiling in /usr/local/lib/python3.6/dist-packages (1.4.1)\n",
            "Requirement already satisfied: matplotlib>=1.4 in /usr/local/lib/python3.6/dist-packages (from pandas-profiling) (3.1.2)\n",
            "Requirement already satisfied: jinja2>=2.8 in /usr/local/lib/python3.6/dist-packages (from pandas-profiling) (2.11.1)\n",
            "Requirement already satisfied: pandas>=0.19 in /usr/local/lib/python3.6/dist-packages (from pandas-profiling) (0.25.3)\n",
            "Requirement already satisfied: six>=1.9 in /usr/local/lib/python3.6/dist-packages (from pandas-profiling) (1.12.0)\n",
            "Requirement already satisfied: cycler>=0.10 in /usr/local/lib/python3.6/dist-packages (from matplotlib>=1.4->pandas-profiling) (0.10.0)\n",
            "Requirement already satisfied: kiwisolver>=1.0.1 in /usr/local/lib/python3.6/dist-packages (from matplotlib>=1.4->pandas-profiling) (1.1.0)\n",
            "Requirement already satisfied: numpy>=1.11 in /usr/local/lib/python3.6/dist-packages (from matplotlib>=1.4->pandas-profiling) (1.17.5)\n",
            "Requirement already satisfied: pyparsing!=2.0.4,!=2.1.2,!=2.1.6,>=2.0.1 in /usr/local/lib/python3.6/dist-packages (from matplotlib>=1.4->pandas-profiling) (2.4.6)\n",
            "Requirement already satisfied: python-dateutil>=2.1 in /usr/local/lib/python3.6/dist-packages (from matplotlib>=1.4->pandas-profiling) (2.6.1)\n",
            "Requirement already satisfied: MarkupSafe>=0.23 in /usr/local/lib/python3.6/dist-packages (from jinja2>=2.8->pandas-profiling) (1.1.1)\n",
            "Requirement already satisfied: pytz>=2017.2 in /usr/local/lib/python3.6/dist-packages (from pandas>=0.19->pandas-profiling) (2018.9)\n",
            "Requirement already satisfied: setuptools in /usr/local/lib/python3.6/dist-packages (from kiwisolver>=1.0.1->matplotlib>=1.4->pandas-profiling) (45.1.0)\n"
          ],
          "name": "stdout"
        }
      ]
    },
    {
      "cell_type": "code",
      "metadata": {
        "id": "q14ifE9f1gzX"
      },
      "source": [
        "import pandas_profiling"
      ],
      "execution_count": null,
      "outputs": []
    },
    {
      "cell_type": "markdown",
      "metadata": {
        "id": "f4pJahMc1gzl"
      },
      "source": [
        "*Lendo o arquivo de dados e construindo o dataframe chamado df*"
      ]
    },
    {
      "cell_type": "code",
      "metadata": {
        "id": "6ucMYBJM1gzn"
      },
      "source": [
        "arquivo = 'kc_house_data.csv'"
      ],
      "execution_count": null,
      "outputs": []
    },
    {
      "cell_type": "code",
      "metadata": {
        "id": "Dm9Pc1yS1gzv"
      },
      "source": [
        "df = pd.read_csv(arquivo, sep=',' ,header=0)"
      ],
      "execution_count": null,
      "outputs": []
    },
    {
      "cell_type": "markdown",
      "metadata": {
        "id": "78TBTEE_1gz1"
      },
      "source": [
        "*Usando o Profiling no jupyter notebook*"
      ]
    },
    {
      "cell_type": "code",
      "metadata": {
        "id": "RlwkON6h1gz3"
      },
      "source": [
        "# Vai dar ferramentas e estatísticas sobre o dataframe. Deixa \"False\", ideal \"True\" para grandes bancos de dados\n",
        "pandas_profiling.ProfileReport(df, check_correlation=False)"
      ],
      "execution_count": null,
      "outputs": []
    },
    {
      "cell_type": "markdown",
      "metadata": {
        "id": "cNWswBbN1g0J"
      },
      "source": [
        "* Gerando um relatorio **html**"
      ]
    },
    {
      "cell_type": "code",
      "metadata": {
        "id": "hcYqeGZO1g0M"
      },
      "source": [
        "# Do tipo \"describe\", mostra de forma mais simples e didáticas das informações estatísticas\n",
        "profile = pandas_profiling.ProfileReport(df)"
      ],
      "execution_count": null,
      "outputs": []
    },
    {
      "cell_type": "code",
      "metadata": {
        "id": "mPI4UXXM1g0Q"
      },
      "source": [
        "profile.to_file(\"report.html\")"
      ],
      "execution_count": null,
      "outputs": []
    },
    {
      "cell_type": "markdown",
      "metadata": {
        "id": "HPiMmseQ1g0T"
      },
      "source": [
        "# Trabalhando com Grandes Arquivos"
      ]
    },
    {
      "cell_type": "markdown",
      "metadata": {
        "id": "7S-oL6aq1g0U"
      },
      "source": [
        "+ Quando estamos trabalhando com _**Grandes Arquivos**_ temos um desafio um grande desafio que é gerenciar a memória.\n",
        "+ As vezes precisamos manipular uma base de dados muito grande e por isso precisamos trabalhar com arquivos de forma diferente.\n",
        "* Uma forma é ler esses arquivos de forma limitada para não consumir toda a _**memória**_ do servidor."
      ]
    },
    {
      "cell_type": "code",
      "metadata": {
        "id": "NuIcSQUi1g0V"
      },
      "source": [
        "# Lendo as 5 primeiras linhas do arquivo.\n",
        "dataset = pd.read_csv(arquivo, sep=',', nrows=5)"
      ],
      "execution_count": null,
      "outputs": []
    },
    {
      "cell_type": "code",
      "metadata": {
        "id": "IKMeQA4y1g0d"
      },
      "source": [
        "dataset.head(2)"
      ],
      "execution_count": null,
      "outputs": []
    },
    {
      "cell_type": "code",
      "metadata": {
        "id": "E7gelj291g0j"
      },
      "source": [
        "# O parâmetro chunksize define em quantas linhas cada bloco irá conter.\n",
        "chunk = pd.read_csv(arquivo, chunksize=10000)"
      ],
      "execution_count": null,
      "outputs": []
    },
    {
      "cell_type": "code",
      "metadata": {
        "id": "9oaPoMku1g0q"
      },
      "source": [
        "type(chunk)"
      ],
      "execution_count": null,
      "outputs": []
    },
    {
      "cell_type": "code",
      "metadata": {
        "id": "0sGNo8uv1g0u"
      },
      "source": [
        "# Imprimindo tamanho das partes do arquivo chunk.\n",
        "for parte in chunk:\n",
        "    print (len(parte))"
      ],
      "execution_count": null,
      "outputs": []
    },
    {
      "cell_type": "code",
      "metadata": {
        "id": "Bv4ZPMNr1g0x"
      },
      "source": [
        "# O parâmetro chunksize define em quantas linhas cada bloco irá conter.\n",
        "chunk = pd.read_csv(arquivo, chunksize=10000)"
      ],
      "execution_count": null,
      "outputs": []
    },
    {
      "cell_type": "code",
      "metadata": {
        "id": "4puqoHPv1g05"
      },
      "source": [
        "# Interese sobre cada parte do dataframe em seguida adicione o valor processado a uma nova coluna do dataset chamada 'bedrooms_size'.\n",
        "lista = []\n",
        "for parte in chunk:\n",
        "    lista.append(parte['bedrooms'] * 2)\n",
        "\n",
        "dataset['bedrooms_size'] = pd.concat(lista)"
      ],
      "execution_count": null,
      "outputs": []
    },
    {
      "cell_type": "code",
      "metadata": {
        "id": "CxUEIi6o1g0_"
      },
      "source": [
        "dataset"
      ],
      "execution_count": null,
      "outputs": []
    },
    {
      "cell_type": "markdown",
      "metadata": {
        "id": "5Icbk1mt1g1H"
      },
      "source": [
        "### Mais recursos para trabalhar com grandes bases de dados"
      ]
    },
    {
      "cell_type": "markdown",
      "metadata": {
        "id": "4gAjnTR71g1N"
      },
      "source": [
        "1.   Tente trabalhar apenas com as colunas que você vai realmente precisar.\n",
        "2.   Atente para o tipo de dado de cada coluna.\n",
        "3.   Visualize qual o separador usado para separar os dados."
      ]
    },
    {
      "cell_type": "markdown",
      "metadata": {
        "id": "Y7o5cm9T1g1O"
      },
      "source": [
        "**Dica:** Se estiver no linux use o comando head para ler as 5 primeiras linhas do arquivo:\n",
        "\n",
        "`head -n 5 dataset.csv`"
      ]
    },
    {
      "cell_type": "code",
      "metadata": {
        "id": "CUNMELQT1g1Q"
      },
      "source": [
        "!head -n 5 /home/rodrigo/kc_house_data.csv"
      ],
      "execution_count": null,
      "outputs": []
    },
    {
      "cell_type": "markdown",
      "metadata": {
        "id": "WY9BdaRz1g1W"
      },
      "source": [
        "**Dica**: Se estiver no Windows abra o prompt do **PowerShell** e use o comando abaixo:\n",
        "- gc log.txt -head 5 "
      ]
    },
    {
      "cell_type": "code",
      "metadata": {
        "id": "h0VB6NIw1g1c"
      },
      "source": [
        "import pandas as pd"
      ],
      "execution_count": null,
      "outputs": []
    },
    {
      "cell_type": "code",
      "metadata": {
        "id": "xvdBEroJ1g1l"
      },
      "source": [
        "# Lear a base com o parâmetro nrows\n",
        "df = pd.read_csv('kc_house_data.csv', sep=',', nrows=5)"
      ],
      "execution_count": null,
      "outputs": []
    },
    {
      "cell_type": "code",
      "metadata": {
        "id": "zmQXtrql1g1s"
      },
      "source": [
        "df"
      ],
      "execution_count": null,
      "outputs": []
    },
    {
      "cell_type": "markdown",
      "metadata": {
        "id": "B0CDIyfQ1g10"
      },
      "source": [
        "*Exporte o nome das colunas para usar no parâmetro usecols*"
      ]
    },
    {
      "cell_type": "code",
      "metadata": {
        "id": "W6v66ZA_1g12"
      },
      "source": [
        "df.columns.tolist()"
      ],
      "execution_count": null,
      "outputs": []
    },
    {
      "cell_type": "code",
      "metadata": {
        "id": "5p3dj1Bc1g19"
      },
      "source": [
        "df = pd.read_csv(\"kc_house_data.csv\", usecols=['id','date','price','bedrooms','bathrooms','sqft_living','sqft_lot','floors','waterfront'])"
      ],
      "execution_count": null,
      "outputs": []
    },
    {
      "cell_type": "code",
      "metadata": {
        "id": "689fhF471g2F"
      },
      "source": [
        "df.head()"
      ],
      "execution_count": null,
      "outputs": []
    },
    {
      "cell_type": "markdown",
      "metadata": {
        "id": "lZ0kCld-1g2i"
      },
      "source": [
        "*lendo as colunas por posições*"
      ]
    },
    {
      "cell_type": "code",
      "metadata": {
        "id": "rg_GqWVY1g2v"
      },
      "source": [
        "# Reduz consumo de memórias\n",
        "df = pd.read_csv(\"kc_house_data.csv\", usecols=[0,1,2,3,4,5])"
      ],
      "execution_count": null,
      "outputs": []
    },
    {
      "cell_type": "code",
      "metadata": {
        "id": "pOvrK12h1g25"
      },
      "source": [
        "df.head()"
      ],
      "execution_count": null,
      "outputs": []
    },
    {
      "cell_type": "markdown",
      "metadata": {
        "id": "DzPjoBkb1g3A"
      },
      "source": [
        "*Ler o arquivo completo e veja o uso de memória*"
      ]
    },
    {
      "cell_type": "code",
      "metadata": {
        "id": "XkCQP8sX1g3J"
      },
      "source": [
        "df = pd.read_csv('kc_house_data.csv', sep=',')"
      ],
      "execution_count": null,
      "outputs": []
    },
    {
      "cell_type": "code",
      "metadata": {
        "id": "yzdyQEGW1g3Z"
      },
      "source": [
        "df.info()"
      ],
      "execution_count": null,
      "outputs": []
    },
    {
      "cell_type": "markdown",
      "metadata": {
        "id": "Q4491Shr1g3d"
      },
      "source": [
        "*Leia todas as colunas exceto algumas..*"
      ]
    },
    {
      "cell_type": "code",
      "metadata": {
        "id": "Y-QKYxlf1g3e"
      },
      "source": [
        "data = \"kc_house_data.csv\"\n",
        "df = pd.read_csv(data, usecols = lambda column : column not in ['sqft_living','sqft_lot','floors'])"
      ],
      "execution_count": null,
      "outputs": []
    },
    {
      "cell_type": "code",
      "metadata": {
        "id": "qOU7BP-A1g3n"
      },
      "source": [
        "df.head()"
      ],
      "execution_count": null,
      "outputs": []
    },
    {
      "cell_type": "markdown",
      "metadata": {
        "id": "OwMGfI3e1g3q"
      },
      "source": [
        "### Trabalhe com os tipos de dados adequados\n"
      ]
    },
    {
      "cell_type": "markdown",
      "metadata": {
        "id": "WP6CJx3r1g3s"
      },
      "source": [
        "- Atenção para os tipos de dados **object**\n",
        "- Dados que são categóricos podem receber o tipo de dados *category*"
      ]
    },
    {
      "cell_type": "code",
      "metadata": {
        "id": "7kb4qlcD1g3u"
      },
      "source": [
        "df = pd.read_csv(\"https://raw.githubusercontent.com/datasciencedojo/datasets/master/titanic.csv\")"
      ],
      "execution_count": null,
      "outputs": []
    },
    {
      "cell_type": "code",
      "metadata": {
        "id": "KqGFFSBQ1g3x",
        "outputId": "d59099b5-ceb4-4ee8-805f-c145f9f8cc25",
        "colab": {
          "base_uri": "https://localhost:8080/",
          "height": 306
        }
      },
      "source": [
        "df.info()"
      ],
      "execution_count": null,
      "outputs": [
        {
          "output_type": "stream",
          "text": [
            "<class 'pandas.core.frame.DataFrame'>\n",
            "RangeIndex: 891 entries, 0 to 890\n",
            "Data columns (total 12 columns):\n",
            "PassengerId    891 non-null int64\n",
            "Survived       891 non-null int64\n",
            "Pclass         891 non-null int64\n",
            "Name           891 non-null object\n",
            "Sex            891 non-null object\n",
            "Age            714 non-null float64\n",
            "SibSp          891 non-null int64\n",
            "Parch          891 non-null int64\n",
            "Ticket         891 non-null object\n",
            "Fare           891 non-null float64\n",
            "Cabin          204 non-null object\n",
            "Embarked       889 non-null object\n",
            "dtypes: float64(2), int64(5), object(5)\n",
            "memory usage: 83.7+ KB\n"
          ],
          "name": "stdout"
        }
      ]
    },
    {
      "cell_type": "markdown",
      "metadata": {
        "id": "uz0TJHB41g34"
      },
      "source": [
        "*Convertendo os tipos de dados*"
      ]
    },
    {
      "cell_type": "code",
      "metadata": {
        "id": "XGJNhQsA1g37"
      },
      "source": [
        "df.Sex = df.Sex.astype('category')\n",
        "df.Embarked = df.Embarked.astype('category')\n",
        "df.Survived = df.Survived.astype('category')\n",
        "df.Pclass = df.Pclass.astype('category')\n",
        "df.PassengerId = df.PassengerId.astype('int32')\n",
        "df.Parch = df.Parch.astype('int32')\n",
        "df.SibSp = df.SibSp.astype('int32')"
      ],
      "execution_count": null,
      "outputs": []
    },
    {
      "cell_type": "markdown",
      "metadata": {
        "id": "poUzvH9m1g4I"
      },
      "source": [
        "*Veja o uso de memória*"
      ]
    },
    {
      "cell_type": "code",
      "metadata": {
        "id": "jRETy2HK1g4J",
        "outputId": "68867824-3dd1-408b-8773-c391dcee10cd",
        "colab": {
          "base_uri": "https://localhost:8080/",
          "height": 306
        }
      },
      "source": [
        "df.info()"
      ],
      "execution_count": null,
      "outputs": [
        {
          "output_type": "stream",
          "text": [
            "<class 'pandas.core.frame.DataFrame'>\n",
            "RangeIndex: 891 entries, 0 to 890\n",
            "Data columns (total 12 columns):\n",
            "PassengerId    891 non-null int32\n",
            "Survived       891 non-null category\n",
            "Pclass         891 non-null category\n",
            "Name           891 non-null object\n",
            "Sex            891 non-null category\n",
            "Age            714 non-null float64\n",
            "SibSp          891 non-null int32\n",
            "Parch          891 non-null int32\n",
            "Ticket         891 non-null object\n",
            "Fare           891 non-null float64\n",
            "Cabin          204 non-null object\n",
            "Embarked       889 non-null category\n",
            "dtypes: category(4), float64(2), int32(3), object(3)\n",
            "memory usage: 49.2+ KB\n"
          ],
          "name": "stdout"
        }
      ]
    },
    {
      "cell_type": "markdown",
      "metadata": {
        "id": "MPBpIm2B1g4P"
      },
      "source": [
        "- Quase **50%** e ganho de memória !"
      ]
    },
    {
      "cell_type": "markdown",
      "metadata": {
        "id": "TMZtbl201g4Q"
      },
      "source": [
        "*Converta colunas em tempo de leitura*"
      ]
    },
    {
      "cell_type": "code",
      "metadata": {
        "id": "ckmZip9R1g4R"
      },
      "source": [
        "# Possível já pré-converter o tipo das variaveis, formando um dicionario\n",
        "data = \"https://raw.githubusercontent.com/datasciencedojo/datasets/master/titanic.csv\"\n",
        "df = pd.read_csv(data,  dtype = {\"Embarked\" : \"category\", \"Survived\": \"category\", \"Parch\": \"int32\"})"
      ],
      "execution_count": null,
      "outputs": []
    },
    {
      "cell_type": "code",
      "metadata": {
        "id": "us4DsMTh1g4W"
      },
      "source": [
        "df.info()"
      ],
      "execution_count": null,
      "outputs": []
    },
    {
      "cell_type": "markdown",
      "metadata": {
        "id": "tYo5EiXq1g4a"
      },
      "source": [
        "# Consultando um Dataset"
      ]
    },
    {
      "cell_type": "markdown",
      "metadata": {
        "id": "qSBzhbbW1g4c"
      },
      "source": [
        "* Podemos fazer _**consultas**_ em um Dataframe, isso se assemelha a linhagem SQL.\n",
        "\n",
        "* Existem métodos interessantes para fazer consultas usando operadores lógicos (>,<,== ).\n",
        "\n",
        "* Além disso podemos fazer consultas usando instruções de agrupamento, por exemplo. \n",
        "\n",
        "* Isso da muita flexibilidade para o Cientista de dados na hora de explorar da base de dados."
      ]
    },
    {
      "cell_type": "code",
      "metadata": {
        "id": "IJHFZCpn1g4e"
      },
      "source": [
        "# Conta a quantidade de valores únicos\n",
        "pd.value_counts(dataset['bedrooms'])"
      ],
      "execution_count": null,
      "outputs": []
    },
    {
      "cell_type": "code",
      "metadata": {
        "id": "ixF-KpqL1g4i"
      },
      "source": [
        "# O método loc() é usado para visualizar informações do dataset.\n",
        "# Este método recebe uma lista por parâmetro e retorna o resultado da consulta.\n",
        "# Consulta imóveis com 3 quartos\n",
        "dataset.loc[dataset['bedrooms'] == 3]"
      ],
      "execution_count": null,
      "outputs": []
    },
    {
      "cell_type": "code",
      "metadata": {
        "id": "qcGc-C8y1g4o"
      },
      "source": [
        "# Usando o método loc() junto com o operador &\n",
        "# Consulta imóveis com 3 quartos e com o número de banheiros maior que 2\n",
        "dataset.loc[(dataset['bedrooms']==3) & (dataset['bathrooms'] > 2)]"
      ],
      "execution_count": null,
      "outputs": []
    },
    {
      "cell_type": "code",
      "metadata": {
        "id": "rzeYXhmB1g4r"
      },
      "source": [
        "# O método sort_values() ordena o dataset pela coluna 'price' em ordem descrescente.\n",
        "# Apenas o retorno da query será ordenado, não a organização do dataset.\n",
        "dataset.sort_values(by='price', ascending=False)"
      ],
      "execution_count": null,
      "outputs": []
    },
    {
      "cell_type": "code",
      "metadata": {
        "id": "NAcGaJNv1g4w"
      },
      "source": [
        "# Usando o método count() para contar o número de linhas de uma query.\n",
        "dataset[dataset['bedrooms']==4].count()"
      ],
      "execution_count": null,
      "outputs": []
    },
    {
      "cell_type": "code",
      "metadata": {
        "id": "Ugrmha781g42"
      },
      "source": [
        ""
      ],
      "execution_count": null,
      "outputs": []
    },
    {
      "cell_type": "markdown",
      "metadata": {
        "id": "f26aUgRK1g45"
      },
      "source": [
        "# Alterando o dataset"
      ]
    },
    {
      "cell_type": "code",
      "metadata": {
        "id": "Yl6lSBoC1g46"
      },
      "source": [
        "dataset.head()"
      ],
      "execution_count": null,
      "outputs": []
    },
    {
      "cell_type": "code",
      "metadata": {
        "id": "SoIqXt3l1g48"
      },
      "source": [
        "# Adicionando uma coluna ao Dataframe.\n",
        "dataset['size'] = (dataset['bedrooms'] * 20)"
      ],
      "execution_count": null,
      "outputs": []
    },
    {
      "cell_type": "code",
      "metadata": {
        "id": "_wmp7OlO1g5A"
      },
      "source": [
        "# Visualizando o conteúdo da coluna criada.\n",
        "dataset['size'].head()"
      ],
      "execution_count": null,
      "outputs": []
    },
    {
      "cell_type": "code",
      "metadata": {
        "id": "khGw7Sbx1g5D"
      },
      "source": [
        "# Criando uma função para processamento de dados.\n",
        "def categoriza(s):\n",
        "    if s >= 80:\n",
        "        return 'Big'\n",
        "    elif s >= 60:\n",
        "        return 'Medium'\n",
        "    elif s >= 40:\n",
        "        return 'Small'"
      ],
      "execution_count": null,
      "outputs": []
    },
    {
      "cell_type": "code",
      "metadata": {
        "id": "FVWECzAk1g5L"
      },
      "source": [
        "# Criando uma nova coluna a partir do processamento realizado.\n",
        "dataset['cat_size'] = dataset['size'].apply(categoriza)"
      ],
      "execution_count": null,
      "outputs": []
    },
    {
      "cell_type": "code",
      "metadata": {
        "id": "jkcXbrKP1g5Q"
      },
      "source": [
        "# Visualizando a nova coluna criada.\n",
        "dataset['cat_size'].head()"
      ],
      "execution_count": null,
      "outputs": []
    },
    {
      "cell_type": "code",
      "metadata": {
        "id": "T3x5MvcA1g5b"
      },
      "source": [
        "# Ver a distribuicao da coluna com o método value_counts.\n",
        "pd.value_counts(dataset['cat_size'])"
      ],
      "execution_count": null,
      "outputs": []
    },
    {
      "cell_type": "code",
      "metadata": {
        "id": "s5rCzVsp1g5e"
      },
      "source": [
        "# O método drop é usado para excluir dados no dataframe.\n",
        "# A opção axis=1 define que queremos excluir uma coluna e não uma linha.\n",
        "# O parâmetro inplace define que a alteração irá modificar o objeto em memória.\n",
        "\n",
        "dataset.drop(['cat_size'], axis=1, inplace=True)"
      ],
      "execution_count": null,
      "outputs": []
    },
    {
      "cell_type": "code",
      "metadata": {
        "id": "yocIUy6x1g5g"
      },
      "source": [
        "# Apagando a coluna 'size'\n",
        "dataset.drop(['size'], axis=1, inplace=True)"
      ],
      "execution_count": null,
      "outputs": []
    },
    {
      "cell_type": "code",
      "metadata": {
        "id": "r4wqyah31g5j"
      },
      "source": [
        "# Visualizando o dataset.\n",
        "dataset.head()"
      ],
      "execution_count": null,
      "outputs": []
    },
    {
      "cell_type": "markdown",
      "metadata": {
        "id": "89Xvrx5L1g5n"
      },
      "source": [
        "**Apagando linhas baseado em Condições lógicas!**"
      ]
    },
    {
      "cell_type": "code",
      "metadata": {
        "id": "r_bcGwdw1g5p"
      },
      "source": [
        "# Dropa linhas com bedrooms = 0\n",
        "dataset.drop(dataset[dataset.bedrooms==0].index ,inplace=True)"
      ],
      "execution_count": null,
      "outputs": []
    },
    {
      "cell_type": "code",
      "metadata": {
        "id": "-eJ-DDzY1g5u"
      },
      "source": [
        "# Dropa linhas com quartos maiores que 30\n",
        "dataset.drop(dataset[dataset.bedrooms>30].index ,inplace=True)"
      ],
      "execution_count": null,
      "outputs": []
    },
    {
      "cell_type": "markdown",
      "metadata": {
        "id": "x6Pxln9Z1g5z"
      },
      "source": [
        "**Percorrendo linhas de um Dataframe Pandas**"
      ]
    },
    {
      "cell_type": "markdown",
      "metadata": {
        "id": "1rmibFSZ1g51"
      },
      "source": [
        "- Método iterrows() permite percorrer por todas as linhas de um dataframe.\n",
        "- Esse método retorna um objeto **iterator** que contém o indice de cada linha e um cada linha em um dado do tipo série."
      ]
    },
    {
      "cell_type": "code",
      "metadata": {
        "id": "rS59yYyN1g53"
      },
      "source": [
        "type(dataset.iterrows())"
      ],
      "execution_count": null,
      "outputs": []
    },
    {
      "cell_type": "code",
      "metadata": {
        "id": "NOegx5Mp1g57"
      },
      "source": [
        "# Imprime a primeira linha do objeto iterator\n",
        "next(dataset.iterrows())"
      ],
      "execution_count": null,
      "outputs": []
    },
    {
      "cell_type": "code",
      "metadata": {
        "id": "QClbPakw1g6A"
      },
      "source": [
        "# Percorrendo o dataframe e imprimindo o indice e cada linha.\n",
        "for indice, linha in dataset.head(10).iterrows():\n",
        "     print(indice, linha)"
      ],
      "execution_count": null,
      "outputs": []
    },
    {
      "cell_type": "code",
      "metadata": {
        "id": "5VLLaMOZ1g6Y"
      },
      "source": [
        "# Percorrendo o dataframe e acessando colunas nomes.\n",
        "for indice, linha in dataset.head(10).iterrows():\n",
        "     print(indice, linha['bedrooms'], linha['floors'], linha['price'])"
      ],
      "execution_count": null,
      "outputs": []
    },
    {
      "cell_type": "markdown",
      "metadata": {
        "id": "VKJDut_51g6d"
      },
      "source": [
        "**Atualizando Dataframe ao percorrer linha a linha**"
      ]
    },
    {
      "cell_type": "code",
      "metadata": {
        "id": "vOv8uvgN1g6d"
      },
      "source": [
        "# Imprime os 5 primeiros valores de preços antes da atualização.\n",
        "dataset.price.head()"
      ],
      "execution_count": null,
      "outputs": []
    },
    {
      "cell_type": "code",
      "metadata": {
        "id": "P4CPIFuu1g6j"
      },
      "source": [
        "# Percorrendo e atualizando linhas de um dataframe.\n",
        "# Atualiza o valor da coluna PRICE multiplicando seu valor por 2.\n",
        "# é preciso usar o método at()\n",
        "for indice, linha in dataset.iterrows():\n",
        "    dataset.at[indice , 'price'] = linha['price'] * 2"
      ],
      "execution_count": null,
      "outputs": []
    },
    {
      "cell_type": "code",
      "metadata": {
        "id": "WWQce8zx1g6o"
      },
      "source": [
        "dataset.price.head()"
      ],
      "execution_count": null,
      "outputs": []
    },
    {
      "cell_type": "markdown",
      "metadata": {
        "id": "0GEffPwU1g6s"
      },
      "source": [
        "**Percorrendo um dataframe com o método itertuples()**"
      ]
    },
    {
      "cell_type": "markdown",
      "metadata": {
        "id": "NLiHrpon1g6s"
      },
      "source": [
        "- Retorna as linhas e índice em formato de tuplas.\n",
        "- Costuma ser mais rápido que o iterrows()"
      ]
    },
    {
      "cell_type": "code",
      "metadata": {
        "id": "2gp9h5C71g6t"
      },
      "source": [
        "# Percorre o dataframe usando itertuples()\n",
        "for linha in dataset.head().itertuples():\n",
        "    print(linha)"
      ],
      "execution_count": null,
      "outputs": []
    },
    {
      "cell_type": "code",
      "metadata": {
        "id": "MeY8dihO1g6y"
      },
      "source": [
        "# Imprime linhas chamando as colunas por nome.\n",
        "for linha in dataset.head().itertuples():\n",
        "    print(linha.id, linha.bedrooms, linha.price)"
      ],
      "execution_count": null,
      "outputs": []
    },
    {
      "cell_type": "markdown",
      "metadata": {
        "id": "Wg-OdbvP1g62"
      },
      "source": [
        "# Missing Values"
      ]
    },
    {
      "cell_type": "markdown",
      "metadata": {
        "id": "bHYdn5G-1g64"
      },
      "source": [
        "* **Missing Values** são valores faltantes em colunas, esses podem ser oriundos de falhas em cargas de dados, falhas em crawlers ou até mesmo corrupção de dados.\n",
        "\n",
        "* Missing Values podem ser um problema em várias situações, como por exemplo, algoritmos de machine learning que não trabalham bem com dados faltantes.\n",
        "\n",
        "* Estes também podem atrapalhar resultados de análises.\n",
        "\n",
        "* Vamos aprender como encontrar missing values na base de dados e como manipular esses valores."
      ]
    },
    {
      "cell_type": "code",
      "metadata": {
        "id": "ihMiHFR41g66"
      },
      "source": [
        "arquivo = '/home/rodrigo/curso/Python Para Data Análise/kc_house_data.csv'\n",
        "dataset = pd.read_csv(arquivo, sep=',', header=0)"
      ],
      "execution_count": null,
      "outputs": []
    },
    {
      "cell_type": "code",
      "metadata": {
        "id": "IVb_rD2_1g7B"
      },
      "source": [
        "# Consultando linhas com valores faltantes.\n",
        "dataset.isnull().sum()"
      ],
      "execution_count": null,
      "outputs": []
    },
    {
      "cell_type": "code",
      "metadata": {
        "id": "K0oVankD1g7I"
      },
      "source": [
        "#Com este comando removemos todas as linhas onde tenha pela menos um registro faltante em algum atributo.\n",
        "dataset.dropna(inplace=True)"
      ],
      "execution_count": null,
      "outputs": []
    },
    {
      "cell_type": "code",
      "metadata": {
        "id": "klfdlQTg1g7O"
      },
      "source": [
        "# É possível ainda, remover somente linhas que estejam com valores faltantes em todas as colunas, veja:\n",
        "dataset.dropna(how='all', inplace=True)"
      ],
      "execution_count": null,
      "outputs": []
    },
    {
      "cell_type": "code",
      "metadata": {
        "id": "kF5BeLb61g7R"
      },
      "source": [
        "#preenche com a media dos valores da coluns floors os values null\n",
        "dataset['floors'].fillna(dataset['floors'].mean(), inplace=True)"
      ],
      "execution_count": null,
      "outputs": []
    },
    {
      "cell_type": "code",
      "metadata": {
        "id": "h_tTiQv61g7X"
      },
      "source": [
        "#preenche com 1 os values null da coluna bedrooms\n",
        "dataset['bedrooms'].fillna(1, inplace=True)"
      ],
      "execution_count": null,
      "outputs": []
    },
    {
      "cell_type": "markdown",
      "metadata": {
        "id": "LYf1xUIW1g7d"
      },
      "source": [
        "# Visualização de dados"
      ]
    },
    {
      "cell_type": "code",
      "metadata": {
        "id": "QvD9-sb-1g7d"
      },
      "source": [
        "# Plota em um gŕafico de barras o preço dos imóveis\n",
        "%matplotlib notebook\n",
        "dataset['price'].plot()"
      ],
      "execution_count": null,
      "outputs": []
    },
    {
      "cell_type": "code",
      "metadata": {
        "id": "ww4wdrnf1g7i"
      },
      "source": [
        "# Plota em gráfico de dispersão o preço e o numero de quartos de imóveis\n",
        "dataset.plot(x='bedrooms',y='price',kind='scatter', title='Bedrooms x Price',color='r')"
      ],
      "execution_count": null,
      "outputs": []
    },
    {
      "cell_type": "code",
      "metadata": {
        "id": "-ufTusAA1g7l"
      },
      "source": [
        "# Plota em gráfico de dispersão o preço e o número de banheiros\n",
        "dataset.plot(x='bathrooms',y='price',kind='scatter',color='y')"
      ],
      "execution_count": null,
      "outputs": []
    }
  ]
}