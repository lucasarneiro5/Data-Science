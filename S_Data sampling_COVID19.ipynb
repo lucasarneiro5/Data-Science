{
  "nbformat": 4,
  "nbformat_minor": 0,
  "metadata": {
    "colab": {
      "name": "Técnicas Amostragem Dados - COVID19.ipynb",
      "provenance": [],
      "collapsed_sections": []
    },
    "kernelspec": {
      "name": "python3",
      "display_name": "Python 3"
    }
  },
  "cells": [
    {
      "cell_type": "markdown",
      "metadata": {
        "id": "8Fvfh3VPLZ46"
      },
      "source": [
        "### Técnicas de Amostragem de Dados."
      ]
    },
    {
      "cell_type": "markdown",
      "metadata": {
        "id": "qNBJk3sL4bT9"
      },
      "source": [
        "![alt text](https://minerandodados.com.br/wp-content/uploads/2020/05/probability-sampling-1.png)"
      ]
    },
    {
      "cell_type": "markdown",
      "metadata": {
        "id": "fb4TGwwVLowj"
      },
      "source": [
        "### Amostragem Aleatória Simples"
      ]
    },
    {
      "cell_type": "markdown",
      "metadata": {
        "id": "a1DgcOAqMX3U"
      },
      "source": [
        "Um determinado número de elementos é retirado da população de forma aleatória."
      ]
    },
    {
      "cell_type": "code",
      "metadata": {
        "id": "5I4LBIjeRmwa"
      },
      "source": [
        "import pandas as pd"
      ],
      "execution_count": null,
      "outputs": []
    },
    {
      "cell_type": "markdown",
      "metadata": {
        "id": "J0lgzkFAQT3c"
      },
      "source": [
        "Carregando a base de dados."
      ]
    },
    {
      "cell_type": "code",
      "metadata": {
        "id": "RmeJs1p2fFf4"
      },
      "source": [
        "df = pd.read_csv(\"covid19.csv\")"
      ],
      "execution_count": null,
      "outputs": []
    },
    {
      "cell_type": "code",
      "metadata": {
        "id": "Gz2FIqJsfG7e",
        "outputId": "131b67dd-0eef-4c39-b26c-12484ad7d832",
        "colab": {
          "base_uri": "https://localhost:8080/",
          "height": 340
        }
      },
      "source": [
        "df.info()"
      ],
      "execution_count": null,
      "outputs": [
        {
          "output_type": "stream",
          "text": [
            "<class 'pandas.core.frame.DataFrame'>\n",
            "RangeIndex: 50982 entries, 0 to 50981\n",
            "Data columns (total 12 columns):\n",
            " #   Column              Non-Null Count  Dtype  \n",
            "---  ------              --------------  -----  \n",
            " 0   case_id             0 non-null      float64\n",
            " 1   provincial_case_id  50982 non-null  int64  \n",
            " 2   age                 50982 non-null  object \n",
            " 3   sex                 50982 non-null  object \n",
            " 4   health_region       50982 non-null  object \n",
            " 5   province            50982 non-null  object \n",
            " 6   country             50982 non-null  object \n",
            " 7   date_report         50982 non-null  object \n",
            " 8   report_week         50982 non-null  object \n",
            " 9   has_travel_history  1150 non-null   object \n",
            " 10  locally_acquired    574 non-null    object \n",
            " 11  case_source         50982 non-null  object \n",
            "dtypes: float64(1), int64(1), object(10)\n",
            "memory usage: 4.7+ MB\n"
          ],
          "name": "stdout"
        }
      ]
    },
    {
      "cell_type": "code",
      "metadata": {
        "id": "Ik94jNFrmThx",
        "outputId": "0d047736-f888-4174-b868-9ebcd91fb35f",
        "colab": {
          "base_uri": "https://localhost:8080/",
          "height": 309
        }
      },
      "source": [
        "df.head()"
      ],
      "execution_count": null,
      "outputs": [
        {
          "output_type": "execute_result",
          "data": {
            "text/html": [
              "<div>\n",
              "<style scoped>\n",
              "    .dataframe tbody tr th:only-of-type {\n",
              "        vertical-align: middle;\n",
              "    }\n",
              "\n",
              "    .dataframe tbody tr th {\n",
              "        vertical-align: top;\n",
              "    }\n",
              "\n",
              "    .dataframe thead th {\n",
              "        text-align: right;\n",
              "    }\n",
              "</style>\n",
              "<table border=\"1\" class=\"dataframe\">\n",
              "  <thead>\n",
              "    <tr style=\"text-align: right;\">\n",
              "      <th></th>\n",
              "      <th>case_id</th>\n",
              "      <th>provincial_case_id</th>\n",
              "      <th>age</th>\n",
              "      <th>sex</th>\n",
              "      <th>health_region</th>\n",
              "      <th>province</th>\n",
              "      <th>country</th>\n",
              "      <th>date_report</th>\n",
              "      <th>report_week</th>\n",
              "      <th>has_travel_history</th>\n",
              "      <th>locally_acquired</th>\n",
              "      <th>case_source</th>\n",
              "    </tr>\n",
              "  </thead>\n",
              "  <tbody>\n",
              "    <tr>\n",
              "      <th>0</th>\n",
              "      <td>NaN</td>\n",
              "      <td>1</td>\n",
              "      <td>50-59</td>\n",
              "      <td>Male</td>\n",
              "      <td>Toronto</td>\n",
              "      <td>Ontario</td>\n",
              "      <td>Canada</td>\n",
              "      <td>2020-01-25</td>\n",
              "      <td>2020-01-19</td>\n",
              "      <td>t</td>\n",
              "      <td>NaN</td>\n",
              "      <td>(1) https://news.ontario.ca/mohltc/en/2020/01/...</td>\n",
              "    </tr>\n",
              "    <tr>\n",
              "      <th>1</th>\n",
              "      <td>NaN</td>\n",
              "      <td>2</td>\n",
              "      <td>50-59</td>\n",
              "      <td>Female</td>\n",
              "      <td>Toronto</td>\n",
              "      <td>Ontario</td>\n",
              "      <td>Canada</td>\n",
              "      <td>2020-01-27</td>\n",
              "      <td>2020-01-26</td>\n",
              "      <td>t</td>\n",
              "      <td>NaN</td>\n",
              "      <td>(1) https://news.ontario.ca/mohltc/en/2020/01/...</td>\n",
              "    </tr>\n",
              "    <tr>\n",
              "      <th>2</th>\n",
              "      <td>NaN</td>\n",
              "      <td>1</td>\n",
              "      <td>40-49</td>\n",
              "      <td>Male</td>\n",
              "      <td>Vancouver Coastal</td>\n",
              "      <td>BC</td>\n",
              "      <td>Canada</td>\n",
              "      <td>2020-01-28</td>\n",
              "      <td>2020-01-26</td>\n",
              "      <td>t</td>\n",
              "      <td>NaN</td>\n",
              "      <td>https://news.gov.bc.ca/releases/2020HLTH0015-0...</td>\n",
              "    </tr>\n",
              "    <tr>\n",
              "      <th>3</th>\n",
              "      <td>NaN</td>\n",
              "      <td>3</td>\n",
              "      <td>20-29</td>\n",
              "      <td>Female</td>\n",
              "      <td>Middlesex-London</td>\n",
              "      <td>Ontario</td>\n",
              "      <td>Canada</td>\n",
              "      <td>2020-01-31</td>\n",
              "      <td>2020-01-26</td>\n",
              "      <td>t</td>\n",
              "      <td>NaN</td>\n",
              "      <td>(1) https://news.ontario.ca/mohltc/en/2020/01/...</td>\n",
              "    </tr>\n",
              "    <tr>\n",
              "      <th>4</th>\n",
              "      <td>NaN</td>\n",
              "      <td>2</td>\n",
              "      <td>50-59</td>\n",
              "      <td>Female</td>\n",
              "      <td>Vancouver Coastal</td>\n",
              "      <td>BC</td>\n",
              "      <td>Canada</td>\n",
              "      <td>2020-02-04</td>\n",
              "      <td>2020-02-02</td>\n",
              "      <td>f</td>\n",
              "      <td>Close Contact</td>\n",
              "      <td>https://news.gov.bc.ca/releases/2020HLTH0023-0...</td>\n",
              "    </tr>\n",
              "  </tbody>\n",
              "</table>\n",
              "</div>"
            ],
            "text/plain": [
              "   case_id  ...                                        case_source\n",
              "0      NaN  ...  (1) https://news.ontario.ca/mohltc/en/2020/01/...\n",
              "1      NaN  ...  (1) https://news.ontario.ca/mohltc/en/2020/01/...\n",
              "2      NaN  ...  https://news.gov.bc.ca/releases/2020HLTH0015-0...\n",
              "3      NaN  ...  (1) https://news.ontario.ca/mohltc/en/2020/01/...\n",
              "4      NaN  ...  https://news.gov.bc.ca/releases/2020HLTH0023-0...\n",
              "\n",
              "[5 rows x 12 columns]"
            ]
          },
          "metadata": {
            "tags": []
          },
          "execution_count": 5
        }
      ]
    },
    {
      "cell_type": "markdown",
      "metadata": {
        "id": "z-G07fdhSXF5"
      },
      "source": [
        "Criando uma amostra com apenas 1000 registros a partir do conjunto de dados.\n"
      ]
    },
    {
      "cell_type": "code",
      "metadata": {
        "id": "BFs7XrThmdKC"
      },
      "source": [
        "df_sample = df.sample(n=1000)"
      ],
      "execution_count": null,
      "outputs": []
    },
    {
      "cell_type": "code",
      "metadata": {
        "id": "GQ5gvUeWmra3",
        "outputId": "5ce075e0-b798-44ab-c705-d38fd1a98447",
        "colab": {
          "base_uri": "https://localhost:8080/",
          "height": 340
        }
      },
      "source": [
        "df_sample.info()"
      ],
      "execution_count": null,
      "outputs": [
        {
          "output_type": "stream",
          "text": [
            "<class 'pandas.core.frame.DataFrame'>\n",
            "Int64Index: 1000 entries, 40013 to 29170\n",
            "Data columns (total 12 columns):\n",
            " #   Column              Non-Null Count  Dtype  \n",
            "---  ------              --------------  -----  \n",
            " 0   case_id             0 non-null      float64\n",
            " 1   provincial_case_id  1000 non-null   int64  \n",
            " 2   age                 1000 non-null   object \n",
            " 3   sex                 1000 non-null   object \n",
            " 4   health_region       1000 non-null   object \n",
            " 5   province            1000 non-null   object \n",
            " 6   country             1000 non-null   object \n",
            " 7   date_report         1000 non-null   object \n",
            " 8   report_week         1000 non-null   object \n",
            " 9   has_travel_history  14 non-null     object \n",
            " 10  locally_acquired    8 non-null      object \n",
            " 11  case_source         1000 non-null   object \n",
            "dtypes: float64(1), int64(1), object(10)\n",
            "memory usage: 101.6+ KB\n"
          ],
          "name": "stdout"
        }
      ]
    },
    {
      "cell_type": "markdown",
      "metadata": {
        "id": "vsFaOx8DSpd5"
      },
      "source": [
        "Especificando o tamanho da amostra através do percentual."
      ]
    },
    {
      "cell_type": "code",
      "metadata": {
        "id": "v10yzQ62myO3"
      },
      "source": [
        "df_sample = df.sample(frac=0.10)"
      ],
      "execution_count": null,
      "outputs": []
    },
    {
      "cell_type": "code",
      "metadata": {
        "id": "b3yIx8F4nLZB",
        "outputId": "6ee84fab-bf1c-4a20-fc47-5f7e2c7d6e91",
        "colab": {
          "base_uri": "https://localhost:8080/",
          "height": 340
        }
      },
      "source": [
        "df_sample.info()"
      ],
      "execution_count": null,
      "outputs": [
        {
          "output_type": "stream",
          "text": [
            "<class 'pandas.core.frame.DataFrame'>\n",
            "Int64Index: 5098 entries, 8526 to 22436\n",
            "Data columns (total 12 columns):\n",
            " #   Column              Non-Null Count  Dtype  \n",
            "---  ------              --------------  -----  \n",
            " 0   case_id             0 non-null      float64\n",
            " 1   provincial_case_id  5098 non-null   int64  \n",
            " 2   age                 5098 non-null   object \n",
            " 3   sex                 5098 non-null   object \n",
            " 4   health_region       5098 non-null   object \n",
            " 5   province            5098 non-null   object \n",
            " 6   country             5098 non-null   object \n",
            " 7   date_report         5098 non-null   object \n",
            " 8   report_week         5098 non-null   object \n",
            " 9   has_travel_history  104 non-null    object \n",
            " 10  locally_acquired    55 non-null     object \n",
            " 11  case_source         5098 non-null   object \n",
            "dtypes: float64(1), int64(1), object(10)\n",
            "memory usage: 517.8+ KB\n"
          ],
          "name": "stdout"
        }
      ]
    },
    {
      "cell_type": "markdown",
      "metadata": {
        "id": "q8mlpPNlnyKH"
      },
      "source": [
        "### Amostragem Aleatória Estratificada"
      ]
    },
    {
      "cell_type": "markdown",
      "metadata": {
        "id": "Cz01uin0kglN"
      },
      "source": [
        "Importando o método train_test_split para fazer a amostragem."
      ]
    },
    {
      "cell_type": "code",
      "metadata": {
        "id": "amb4n4-QnNkm"
      },
      "source": [
        "from sklearn.model_selection import train_test_split"
      ],
      "execution_count": null,
      "outputs": []
    },
    {
      "cell_type": "markdown",
      "metadata": {
        "id": "AV5QAucKkp1E"
      },
      "source": [
        "Contagem de registro."
      ]
    },
    {
      "cell_type": "code",
      "metadata": {
        "id": "Ok5wDONA0-0j",
        "outputId": "2c32edd8-795c-49ab-e8a4-94b624b94c64",
        "colab": {
          "base_uri": "https://localhost:8080/",
          "height": 255
        }
      },
      "source": [
        "df['province'].value_counts()"
      ],
      "execution_count": null,
      "outputs": [
        {
          "output_type": "execute_result",
          "data": {
            "text/plain": [
              "Quebec           25757\n",
              "Ontario          16337\n",
              "Alberta           4850\n",
              "BC                2053\n",
              "Nova Scotia        915\n",
              "Saskatchewan       366\n",
              "Manitoba           272\n",
              "NL                 258\n",
              "New Brunswick      118\n",
              "PEI                 27\n",
              "Repatriated         13\n",
              "Yukon               11\n",
              "NWT                  5\n",
              "Name: province, dtype: int64"
            ]
          },
          "metadata": {
            "tags": []
          },
          "execution_count": 13
        }
      ]
    },
    {
      "cell_type": "markdown",
      "metadata": {
        "id": "WHXV3ALwkwfL"
      },
      "source": [
        "Gerando a amostragem estratificada."
      ]
    },
    {
      "cell_type": "code",
      "metadata": {
        "id": "XGn5usALoUyQ"
      },
      "source": [
        "X_train, X_test, y_train, y_test = train_test_split(df.drop('province',axis=1),\n",
        "                                                    df['province'],\n",
        "                                                    stratify=df['province'],\n",
        "                                                    test_size=0.20)"
      ],
      "execution_count": null,
      "outputs": []
    },
    {
      "cell_type": "markdown",
      "metadata": {
        "id": "_EDqMJx2lOfO"
      },
      "source": [
        "Verificando a forma dos dados."
      ]
    },
    {
      "cell_type": "code",
      "metadata": {
        "id": "dpNu_ePpo-X-",
        "outputId": "6f570712-c09d-43cc-edd6-65fa4ffe2188",
        "colab": {
          "base_uri": "https://localhost:8080/",
          "height": 34
        }
      },
      "source": [
        "y_test.shape"
      ],
      "execution_count": null,
      "outputs": [
        {
          "output_type": "execute_result",
          "data": {
            "text/plain": [
              "(10197,)"
            ]
          },
          "metadata": {
            "tags": []
          },
          "execution_count": 16
        }
      ]
    },
    {
      "cell_type": "markdown",
      "metadata": {
        "id": "qvX0d8bWlRE0"
      },
      "source": [
        "Verificando a contagem de registros."
      ]
    },
    {
      "cell_type": "code",
      "metadata": {
        "id": "WFqfcsEBpH9P",
        "outputId": "ee8bf334-6a0a-4fd8-deca-7ab0ef3b2b5f",
        "colab": {
          "base_uri": "https://localhost:8080/",
          "height": 255
        }
      },
      "source": [
        "y_test.value_counts()"
      ],
      "execution_count": null,
      "outputs": [
        {
          "output_type": "execute_result",
          "data": {
            "text/plain": [
              "Quebec           5152\n",
              "Ontario          3267\n",
              "Alberta           970\n",
              "BC                411\n",
              "Nova Scotia       183\n",
              "Saskatchewan       73\n",
              "Manitoba           54\n",
              "NL                 52\n",
              "New Brunswick      24\n",
              "PEI                 5\n",
              "Repatriated         3\n",
              "Yukon               2\n",
              "NWT                 1\n",
              "Name: province, dtype: int64"
            ]
          },
          "metadata": {
            "tags": []
          },
          "execution_count": 17
        }
      ]
    },
    {
      "cell_type": "markdown",
      "metadata": {
        "id": "HZET77MBrDel"
      },
      "source": [
        "### Amostragem Sistemática"
      ]
    },
    {
      "cell_type": "markdown",
      "metadata": {
        "id": "sVwNulpA1LDC"
      },
      "source": [
        "Gerando a semente aleatória"
      ]
    },
    {
      "cell_type": "code",
      "metadata": {
        "id": "abH5IjjqYv1K"
      },
      "source": [
        "import numpy as np"
      ],
      "execution_count": null,
      "outputs": []
    },
    {
      "cell_type": "code",
      "metadata": {
        "id": "REDl5D35rKOD"
      },
      "source": [
        "semente = np.random.choice(10, 1) # Choose randomic number between 1 and 10"
      ],
      "execution_count": null,
      "outputs": []
    },
    {
      "cell_type": "code",
      "metadata": {
        "id": "arKzYpmVu-dH",
        "outputId": "e58af5f2-33f6-47ff-e2a7-0ae09e49ccd0",
        "colab": {
          "base_uri": "https://localhost:8080/",
          "height": 34
        }
      },
      "source": [
        "semente"
      ],
      "execution_count": null,
      "outputs": [
        {
          "output_type": "execute_result",
          "data": {
            "text/plain": [
              "array([2])"
            ]
          },
          "metadata": {
            "tags": []
          },
          "execution_count": 22
        }
      ]
    },
    {
      "cell_type": "markdown",
      "metadata": {
        "id": "SODPWATH1RAi"
      },
      "source": [
        "Gerando índices a partir da semente."
      ]
    },
    {
      "cell_type": "code",
      "metadata": {
        "id": "MJ6amAD5twXb"
      },
      "source": [
        "indices = np.arange(0,100,semente)"
      ],
      "execution_count": null,
      "outputs": []
    },
    {
      "cell_type": "code",
      "metadata": {
        "id": "RNbqVkWwurcd",
        "outputId": "4a96d29f-2149-4ba4-a011-4c0d3fbddb05",
        "colab": {
          "base_uri": "https://localhost:8080/",
          "height": 68
        }
      },
      "source": [
        "indices"
      ],
      "execution_count": null,
      "outputs": [
        {
          "output_type": "execute_result",
          "data": {
            "text/plain": [
              "array([ 0,  2,  4,  6,  8, 10, 12, 14, 16, 18, 20, 22, 24, 26, 28, 30, 32,\n",
              "       34, 36, 38, 40, 42, 44, 46, 48, 50, 52, 54, 56, 58, 60, 62, 64, 66,\n",
              "       68, 70, 72, 74, 76, 78, 80, 82, 84, 86, 88, 90, 92, 94, 96, 98])"
            ]
          },
          "metadata": {
            "tags": []
          },
          "execution_count": 24
        }
      ]
    },
    {
      "cell_type": "code",
      "metadata": {
        "id": "oVRuDczF7mMq",
        "outputId": "abd53ae1-b44a-4a59-d468-7a4137d05a6e",
        "colab": {
          "base_uri": "https://localhost:8080/",
          "height": 34
        }
      },
      "source": [
        "len(indices)"
      ],
      "execution_count": null,
      "outputs": [
        {
          "output_type": "execute_result",
          "data": {
            "text/plain": [
              "50"
            ]
          },
          "metadata": {
            "tags": []
          },
          "execution_count": 28
        }
      ]
    },
    {
      "cell_type": "markdown",
      "metadata": {
        "id": "urBtlDic1zHp"
      },
      "source": [
        "Gerando a amostra a partir dos índices."
      ]
    },
    {
      "cell_type": "code",
      "metadata": {
        "id": "6o-8NkAxvFm-"
      },
      "source": [
        "amostra = df.loc[indices,:] # It'll find all of informations from index in 'indices'"
      ],
      "execution_count": null,
      "outputs": []
    },
    {
      "cell_type": "markdown",
      "metadata": {
        "id": "b897rARNxxNy"
      },
      "source": [
        "Verificando os dados da amostra."
      ]
    },
    {
      "cell_type": "code",
      "metadata": {
        "id": "SOfeexNVvOdv",
        "outputId": "c3c377ea-775f-4809-e1ff-edf9a9fbf64a",
        "colab": {
          "base_uri": "https://localhost:8080/",
          "height": 1000
        }
      },
      "source": [
        "amostra"
      ],
      "execution_count": null,
      "outputs": [
        {
          "output_type": "execute_result",
          "data": {
            "text/html": [
              "<div>\n",
              "<style scoped>\n",
              "    .dataframe tbody tr th:only-of-type {\n",
              "        vertical-align: middle;\n",
              "    }\n",
              "\n",
              "    .dataframe tbody tr th {\n",
              "        vertical-align: top;\n",
              "    }\n",
              "\n",
              "    .dataframe thead th {\n",
              "        text-align: right;\n",
              "    }\n",
              "</style>\n",
              "<table border=\"1\" class=\"dataframe\">\n",
              "  <thead>\n",
              "    <tr style=\"text-align: right;\">\n",
              "      <th></th>\n",
              "      <th>case_id</th>\n",
              "      <th>provincial_case_id</th>\n",
              "      <th>age</th>\n",
              "      <th>sex</th>\n",
              "      <th>health_region</th>\n",
              "      <th>province</th>\n",
              "      <th>country</th>\n",
              "      <th>date_report</th>\n",
              "      <th>report_week</th>\n",
              "      <th>has_travel_history</th>\n",
              "      <th>locally_acquired</th>\n",
              "      <th>case_source</th>\n",
              "    </tr>\n",
              "  </thead>\n",
              "  <tbody>\n",
              "    <tr>\n",
              "      <th>0</th>\n",
              "      <td>NaN</td>\n",
              "      <td>1</td>\n",
              "      <td>50-59</td>\n",
              "      <td>Male</td>\n",
              "      <td>Toronto</td>\n",
              "      <td>Ontario</td>\n",
              "      <td>Canada</td>\n",
              "      <td>2020-01-25</td>\n",
              "      <td>2020-01-19</td>\n",
              "      <td>t</td>\n",
              "      <td>NaN</td>\n",
              "      <td>(1) https://news.ontario.ca/mohltc/en/2020/01/...</td>\n",
              "    </tr>\n",
              "    <tr>\n",
              "      <th>2</th>\n",
              "      <td>NaN</td>\n",
              "      <td>1</td>\n",
              "      <td>40-49</td>\n",
              "      <td>Male</td>\n",
              "      <td>Vancouver Coastal</td>\n",
              "      <td>BC</td>\n",
              "      <td>Canada</td>\n",
              "      <td>2020-01-28</td>\n",
              "      <td>2020-01-26</td>\n",
              "      <td>t</td>\n",
              "      <td>NaN</td>\n",
              "      <td>https://news.gov.bc.ca/releases/2020HLTH0015-0...</td>\n",
              "    </tr>\n",
              "    <tr>\n",
              "      <th>4</th>\n",
              "      <td>NaN</td>\n",
              "      <td>2</td>\n",
              "      <td>50-59</td>\n",
              "      <td>Female</td>\n",
              "      <td>Vancouver Coastal</td>\n",
              "      <td>BC</td>\n",
              "      <td>Canada</td>\n",
              "      <td>2020-02-04</td>\n",
              "      <td>2020-02-02</td>\n",
              "      <td>f</td>\n",
              "      <td>Close Contact</td>\n",
              "      <td>https://news.gov.bc.ca/releases/2020HLTH0023-0...</td>\n",
              "    </tr>\n",
              "    <tr>\n",
              "      <th>6</th>\n",
              "      <td>NaN</td>\n",
              "      <td>4</td>\n",
              "      <td>30-39</td>\n",
              "      <td>Female</td>\n",
              "      <td>Vancouver Coastal</td>\n",
              "      <td>BC</td>\n",
              "      <td>Canada</td>\n",
              "      <td>2020-02-06</td>\n",
              "      <td>2020-02-02</td>\n",
              "      <td>t</td>\n",
              "      <td>NaN</td>\n",
              "      <td>https://news.gov.bc.ca/releases/2020HLTH0025-0...</td>\n",
              "    </tr>\n",
              "    <tr>\n",
              "      <th>8</th>\n",
              "      <td>NaN</td>\n",
              "      <td>6</td>\n",
              "      <td>30-39</td>\n",
              "      <td>Female</td>\n",
              "      <td>Fraser</td>\n",
              "      <td>BC</td>\n",
              "      <td>Canada</td>\n",
              "      <td>2020-02-20</td>\n",
              "      <td>2020-02-16</td>\n",
              "      <td>t</td>\n",
              "      <td>NaN</td>\n",
              "      <td>(1) https://news.gov.bc.ca/releases/2020HLTH00...</td>\n",
              "    </tr>\n",
              "    <tr>\n",
              "      <th>10</th>\n",
              "      <td>NaN</td>\n",
              "      <td>5</td>\n",
              "      <td>60-69</td>\n",
              "      <td>Female</td>\n",
              "      <td>Toronto</td>\n",
              "      <td>Ontario</td>\n",
              "      <td>Canada</td>\n",
              "      <td>2020-02-26</td>\n",
              "      <td>2020-02-23</td>\n",
              "      <td>t</td>\n",
              "      <td>NaN</td>\n",
              "      <td>(1) https://news.ontario.ca/mohltc/en/2020/02/...</td>\n",
              "    </tr>\n",
              "    <tr>\n",
              "      <th>12</th>\n",
              "      <td>NaN</td>\n",
              "      <td>6</td>\n",
              "      <td>60-69</td>\n",
              "      <td>Male</td>\n",
              "      <td>Toronto</td>\n",
              "      <td>Ontario</td>\n",
              "      <td>Canada</td>\n",
              "      <td>2020-02-27</td>\n",
              "      <td>2020-02-23</td>\n",
              "      <td>f</td>\n",
              "      <td>Close Contact</td>\n",
              "      <td>(1) https://news.ontario.ca/mohltc/en/2020/02/...</td>\n",
              "    </tr>\n",
              "    <tr>\n",
              "      <th>14</th>\n",
              "      <td>NaN</td>\n",
              "      <td>7</td>\n",
              "      <td>50-59</td>\n",
              "      <td>Male</td>\n",
              "      <td>Toronto</td>\n",
              "      <td>Ontario</td>\n",
              "      <td>Canada</td>\n",
              "      <td>2020-02-28</td>\n",
              "      <td>2020-02-23</td>\n",
              "      <td>t</td>\n",
              "      <td>NaN</td>\n",
              "      <td>https://news.ontario.ca/mohltc/en/2020/02/onta...</td>\n",
              "    </tr>\n",
              "    <tr>\n",
              "      <th>16</th>\n",
              "      <td>NaN</td>\n",
              "      <td>9</td>\n",
              "      <td>30-39</td>\n",
              "      <td>Female</td>\n",
              "      <td>York</td>\n",
              "      <td>Ontario</td>\n",
              "      <td>Canada</td>\n",
              "      <td>2020-02-29</td>\n",
              "      <td>2020-02-23</td>\n",
              "      <td>t</td>\n",
              "      <td>NaN</td>\n",
              "      <td>https://news.ontario.ca/mohltc/en/2020/02/onta...</td>\n",
              "    </tr>\n",
              "    <tr>\n",
              "      <th>18</th>\n",
              "      <td>NaN</td>\n",
              "      <td>11</td>\n",
              "      <td>60-69</td>\n",
              "      <td>Male</td>\n",
              "      <td>Durham</td>\n",
              "      <td>Ontario</td>\n",
              "      <td>Canada</td>\n",
              "      <td>2020-02-29</td>\n",
              "      <td>2020-02-23</td>\n",
              "      <td>f</td>\n",
              "      <td>Close Contact</td>\n",
              "      <td>https://news.ontario.ca/mohltc/en/2020/02/onta...</td>\n",
              "    </tr>\n",
              "    <tr>\n",
              "      <th>20</th>\n",
              "      <td>NaN</td>\n",
              "      <td>12</td>\n",
              "      <td>50-59</td>\n",
              "      <td>Male</td>\n",
              "      <td>York</td>\n",
              "      <td>Ontario</td>\n",
              "      <td>Canada</td>\n",
              "      <td>2020-03-01</td>\n",
              "      <td>2020-03-01</td>\n",
              "      <td>t</td>\n",
              "      <td>NaN</td>\n",
              "      <td>(1) https://news.ontario.ca/mohltc/en/2020/03/...</td>\n",
              "    </tr>\n",
              "    <tr>\n",
              "      <th>22</th>\n",
              "      <td>NaN</td>\n",
              "      <td>14</td>\n",
              "      <td>60-69</td>\n",
              "      <td>Male</td>\n",
              "      <td>Toronto</td>\n",
              "      <td>Ontario</td>\n",
              "      <td>Canada</td>\n",
              "      <td>2020-03-01</td>\n",
              "      <td>2020-03-01</td>\n",
              "      <td>t</td>\n",
              "      <td>NaN</td>\n",
              "      <td>https://news.ontario.ca/mohltc/en/2020/03/onta...</td>\n",
              "    </tr>\n",
              "    <tr>\n",
              "      <th>24</th>\n",
              "      <td>NaN</td>\n",
              "      <td>16</td>\n",
              "      <td>60-69</td>\n",
              "      <td>Female</td>\n",
              "      <td>York</td>\n",
              "      <td>Ontario</td>\n",
              "      <td>Canada</td>\n",
              "      <td>2020-03-03</td>\n",
              "      <td>2020-03-01</td>\n",
              "      <td>t</td>\n",
              "      <td>NaN</td>\n",
              "      <td>https://toronto.ctvnews.ca/three-new-cases-of-...</td>\n",
              "    </tr>\n",
              "    <tr>\n",
              "      <th>26</th>\n",
              "      <td>NaN</td>\n",
              "      <td>18</td>\n",
              "      <td>60-69</td>\n",
              "      <td>Male</td>\n",
              "      <td>Toronto</td>\n",
              "      <td>Ontario</td>\n",
              "      <td>Canada</td>\n",
              "      <td>2020-03-03</td>\n",
              "      <td>2020-03-01</td>\n",
              "      <td>t</td>\n",
              "      <td>NaN</td>\n",
              "      <td>https://toronto.ctvnews.ca/three-new-cases-of-...</td>\n",
              "    </tr>\n",
              "    <tr>\n",
              "      <th>28</th>\n",
              "      <td>NaN</td>\n",
              "      <td>20</td>\n",
              "      <td>50-59</td>\n",
              "      <td>Male</td>\n",
              "      <td>Toronto</td>\n",
              "      <td>Ontario</td>\n",
              "      <td>Canada</td>\n",
              "      <td>2020-03-03</td>\n",
              "      <td>2020-03-01</td>\n",
              "      <td>t</td>\n",
              "      <td>NaN</td>\n",
              "      <td>(1) https://news.ontario.ca/mohltc/en/2020/03/...</td>\n",
              "    </tr>\n",
              "    <tr>\n",
              "      <th>30</th>\n",
              "      <td>NaN</td>\n",
              "      <td>10</td>\n",
              "      <td>60-69</td>\n",
              "      <td>Male</td>\n",
              "      <td>Vancouver Coastal</td>\n",
              "      <td>BC</td>\n",
              "      <td>Canada</td>\n",
              "      <td>2020-03-03</td>\n",
              "      <td>2020-03-01</td>\n",
              "      <td>t</td>\n",
              "      <td>NaN</td>\n",
              "      <td>https://news.gov.bc.ca/releases/2020HLTH0058-0...</td>\n",
              "    </tr>\n",
              "    <tr>\n",
              "      <th>32</th>\n",
              "      <td>NaN</td>\n",
              "      <td>12</td>\n",
              "      <td>30-39</td>\n",
              "      <td>Female</td>\n",
              "      <td>Vancouver Coastal</td>\n",
              "      <td>BC</td>\n",
              "      <td>Canada</td>\n",
              "      <td>2020-03-03</td>\n",
              "      <td>2020-03-01</td>\n",
              "      <td>t</td>\n",
              "      <td>NaN</td>\n",
              "      <td>https://news.gov.bc.ca/releases/2020HLTH0058-0...</td>\n",
              "    </tr>\n",
              "    <tr>\n",
              "      <th>34</th>\n",
              "      <td>NaN</td>\n",
              "      <td>2</td>\n",
              "      <td>70-79</td>\n",
              "      <td>Male</td>\n",
              "      <td>Laurentides</td>\n",
              "      <td>Quebec</td>\n",
              "      <td>Canada</td>\n",
              "      <td>2020-03-05</td>\n",
              "      <td>2020-03-01</td>\n",
              "      <td>t</td>\n",
              "      <td>NaN</td>\n",
              "      <td>(1) https://www.msss.gouv.qc.ca/ministere/sall...</td>\n",
              "    </tr>\n",
              "    <tr>\n",
              "      <th>36</th>\n",
              "      <td>NaN</td>\n",
              "      <td>22</td>\n",
              "      <td>60-69</td>\n",
              "      <td>Male</td>\n",
              "      <td>Toronto</td>\n",
              "      <td>Ontario</td>\n",
              "      <td>Canada</td>\n",
              "      <td>2020-03-05</td>\n",
              "      <td>2020-03-01</td>\n",
              "      <td>t</td>\n",
              "      <td>NaN</td>\n",
              "      <td>https://news.ontario.ca/mohltc/en/2020/03/onta...</td>\n",
              "    </tr>\n",
              "    <tr>\n",
              "      <th>38</th>\n",
              "      <td>NaN</td>\n",
              "      <td>14</td>\n",
              "      <td>20-29</td>\n",
              "      <td>Male</td>\n",
              "      <td>Vancouver Coastal</td>\n",
              "      <td>BC</td>\n",
              "      <td>Canada</td>\n",
              "      <td>2020-03-05</td>\n",
              "      <td>2020-03-01</td>\n",
              "      <td>f</td>\n",
              "      <td>Close Contact</td>\n",
              "      <td>https://news.gov.bc.ca/releases/2020HLTH0062-0...</td>\n",
              "    </tr>\n",
              "    <tr>\n",
              "      <th>40</th>\n",
              "      <td>NaN</td>\n",
              "      <td>16</td>\n",
              "      <td>50-59</td>\n",
              "      <td>Female</td>\n",
              "      <td>Vancouver Coastal</td>\n",
              "      <td>BC</td>\n",
              "      <td>Canada</td>\n",
              "      <td>2020-03-05</td>\n",
              "      <td>2020-03-01</td>\n",
              "      <td>f</td>\n",
              "      <td>Close Contact</td>\n",
              "      <td>https://news.gov.bc.ca/releases/2020HLTH0062-0...</td>\n",
              "    </tr>\n",
              "    <tr>\n",
              "      <th>42</th>\n",
              "      <td>NaN</td>\n",
              "      <td>18</td>\n",
              "      <td>50-59</td>\n",
              "      <td>Female</td>\n",
              "      <td>Vancouver Coastal</td>\n",
              "      <td>BC</td>\n",
              "      <td>Canada</td>\n",
              "      <td>2020-03-05</td>\n",
              "      <td>2020-03-01</td>\n",
              "      <td>t</td>\n",
              "      <td>NaN</td>\n",
              "      <td>https://news.gov.bc.ca/releases/2020HLTH0062-0...</td>\n",
              "    </tr>\n",
              "    <tr>\n",
              "      <th>44</th>\n",
              "      <td>NaN</td>\n",
              "      <td>20</td>\n",
              "      <td>50-59</td>\n",
              "      <td>Female</td>\n",
              "      <td>Fraser</td>\n",
              "      <td>BC</td>\n",
              "      <td>Canada</td>\n",
              "      <td>2020-03-05</td>\n",
              "      <td>2020-03-01</td>\n",
              "      <td>t</td>\n",
              "      <td>NaN</td>\n",
              "      <td>https://news.gov.bc.ca/releases/2020HLTH0062-0...</td>\n",
              "    </tr>\n",
              "    <tr>\n",
              "      <th>46</th>\n",
              "      <td>NaN</td>\n",
              "      <td>1</td>\n",
              "      <td>50-59</td>\n",
              "      <td>Female</td>\n",
              "      <td>Calgary</td>\n",
              "      <td>Alberta</td>\n",
              "      <td>Canada</td>\n",
              "      <td>2020-03-05</td>\n",
              "      <td>2020-03-01</td>\n",
              "      <td>t</td>\n",
              "      <td>NaN</td>\n",
              "      <td>https://edmonton.ctvnews.ca/alberta-s-first-pr...</td>\n",
              "    </tr>\n",
              "    <tr>\n",
              "      <th>48</th>\n",
              "      <td>NaN</td>\n",
              "      <td>25</td>\n",
              "      <td>50-59</td>\n",
              "      <td>Male</td>\n",
              "      <td>Toronto</td>\n",
              "      <td>Ontario</td>\n",
              "      <td>Canada</td>\n",
              "      <td>2020-03-06</td>\n",
              "      <td>2020-03-01</td>\n",
              "      <td>t</td>\n",
              "      <td>NaN</td>\n",
              "      <td>https://news.ontario.ca/mohltc/en/2020/03/onta...</td>\n",
              "    </tr>\n",
              "    <tr>\n",
              "      <th>50</th>\n",
              "      <td>NaN</td>\n",
              "      <td>3</td>\n",
              "      <td>Not Reported</td>\n",
              "      <td>Not Reported</td>\n",
              "      <td>Montérégie</td>\n",
              "      <td>Quebec</td>\n",
              "      <td>Canada</td>\n",
              "      <td>2020-03-06</td>\n",
              "      <td>2020-03-01</td>\n",
              "      <td>t</td>\n",
              "      <td>NaN</td>\n",
              "      <td>https://www.msss.gouv.qc.ca/ministere/salle-de...</td>\n",
              "    </tr>\n",
              "    <tr>\n",
              "      <th>52</th>\n",
              "      <td>NaN</td>\n",
              "      <td>28</td>\n",
              "      <td>60-69</td>\n",
              "      <td>Female</td>\n",
              "      <td>York</td>\n",
              "      <td>Ontario</td>\n",
              "      <td>Canada</td>\n",
              "      <td>2020-03-06</td>\n",
              "      <td>2020-03-01</td>\n",
              "      <td>t</td>\n",
              "      <td>NaN</td>\n",
              "      <td>https://news.ontario.ca/mohltc/en/2020/03/onta...</td>\n",
              "    </tr>\n",
              "    <tr>\n",
              "      <th>54</th>\n",
              "      <td>NaN</td>\n",
              "      <td>22</td>\n",
              "      <td>50-59</td>\n",
              "      <td>Male</td>\n",
              "      <td>Fraser</td>\n",
              "      <td>BC</td>\n",
              "      <td>Canada</td>\n",
              "      <td>2020-03-07</td>\n",
              "      <td>2020-03-01</td>\n",
              "      <td>t</td>\n",
              "      <td>NaN</td>\n",
              "      <td>https://news.gov.bc.ca/releases/2020HLTH0064-0...</td>\n",
              "    </tr>\n",
              "    <tr>\n",
              "      <th>56</th>\n",
              "      <td>NaN</td>\n",
              "      <td>24</td>\n",
              "      <td>60-69</td>\n",
              "      <td>Female</td>\n",
              "      <td>Fraser</td>\n",
              "      <td>BC</td>\n",
              "      <td>Canada</td>\n",
              "      <td>2020-03-07</td>\n",
              "      <td>2020-03-01</td>\n",
              "      <td>t</td>\n",
              "      <td>NaN</td>\n",
              "      <td>https://news.gov.bc.ca/releases/2020HLTH0064-0...</td>\n",
              "    </tr>\n",
              "    <tr>\n",
              "      <th>58</th>\n",
              "      <td>NaN</td>\n",
              "      <td>26</td>\n",
              "      <td>70-79</td>\n",
              "      <td>Female</td>\n",
              "      <td>Vancouver Coastal</td>\n",
              "      <td>BC</td>\n",
              "      <td>Canada</td>\n",
              "      <td>2020-03-07</td>\n",
              "      <td>2020-03-01</td>\n",
              "      <td>f</td>\n",
              "      <td>Close Contact</td>\n",
              "      <td>https://news.gov.bc.ca/releases/2020HLTH0064-0...</td>\n",
              "    </tr>\n",
              "    <tr>\n",
              "      <th>60</th>\n",
              "      <td>NaN</td>\n",
              "      <td>29</td>\n",
              "      <td>40-49</td>\n",
              "      <td>Female</td>\n",
              "      <td>Toronto</td>\n",
              "      <td>Ontario</td>\n",
              "      <td>Canada</td>\n",
              "      <td>2020-03-08</td>\n",
              "      <td>2020-03-08</td>\n",
              "      <td>t</td>\n",
              "      <td>NaN</td>\n",
              "      <td>https://news.ontario.ca/mohltc/en/2020/03/onta...</td>\n",
              "    </tr>\n",
              "    <tr>\n",
              "      <th>62</th>\n",
              "      <td>NaN</td>\n",
              "      <td>3</td>\n",
              "      <td>60-69</td>\n",
              "      <td>Male</td>\n",
              "      <td>Edmonton</td>\n",
              "      <td>Alberta</td>\n",
              "      <td>Canada</td>\n",
              "      <td>2020-03-08</td>\n",
              "      <td>2020-03-08</td>\n",
              "      <td>t</td>\n",
              "      <td>NaN</td>\n",
              "      <td>https://globalnews.ca/news/6647035/new-presump...</td>\n",
              "    </tr>\n",
              "    <tr>\n",
              "      <th>64</th>\n",
              "      <td>NaN</td>\n",
              "      <td>30</td>\n",
              "      <td>60-69</td>\n",
              "      <td>Female</td>\n",
              "      <td>Toronto</td>\n",
              "      <td>Ontario</td>\n",
              "      <td>Canada</td>\n",
              "      <td>2020-03-08</td>\n",
              "      <td>2020-03-08</td>\n",
              "      <td>t</td>\n",
              "      <td>NaN</td>\n",
              "      <td>https://news.ontario.ca/mohltc/en/2020/03/onta...</td>\n",
              "    </tr>\n",
              "    <tr>\n",
              "      <th>66</th>\n",
              "      <td>NaN</td>\n",
              "      <td>32</td>\n",
              "      <td>50-59</td>\n",
              "      <td>Male</td>\n",
              "      <td>Peel</td>\n",
              "      <td>Ontario</td>\n",
              "      <td>Canada</td>\n",
              "      <td>2020-03-08</td>\n",
              "      <td>2020-03-08</td>\n",
              "      <td>t</td>\n",
              "      <td>NaN</td>\n",
              "      <td>https://peelregion.ca/news/archiveitem.asp?yea...</td>\n",
              "    </tr>\n",
              "    <tr>\n",
              "      <th>68</th>\n",
              "      <td>NaN</td>\n",
              "      <td>34</td>\n",
              "      <td>70-79</td>\n",
              "      <td>Female</td>\n",
              "      <td>Toronto</td>\n",
              "      <td>Ontario</td>\n",
              "      <td>Canada</td>\n",
              "      <td>2020-03-09</td>\n",
              "      <td>2020-03-08</td>\n",
              "      <td>t</td>\n",
              "      <td>NaN</td>\n",
              "      <td>https://www.ontario.ca/page/2019-novel-coronav...</td>\n",
              "    </tr>\n",
              "    <tr>\n",
              "      <th>70</th>\n",
              "      <td>NaN</td>\n",
              "      <td>29</td>\n",
              "      <td>50-59</td>\n",
              "      <td>Male</td>\n",
              "      <td>Fraser</td>\n",
              "      <td>BC</td>\n",
              "      <td>Canada</td>\n",
              "      <td>2020-03-09</td>\n",
              "      <td>2020-03-08</td>\n",
              "      <td>f</td>\n",
              "      <td>Close Contact</td>\n",
              "      <td>https://news.gov.bc.ca/releases/2020HLTH0068-0...</td>\n",
              "    </tr>\n",
              "    <tr>\n",
              "      <th>72</th>\n",
              "      <td>NaN</td>\n",
              "      <td>31</td>\n",
              "      <td>50-59</td>\n",
              "      <td>Female</td>\n",
              "      <td>Vancouver Coastal</td>\n",
              "      <td>BC</td>\n",
              "      <td>Canada</td>\n",
              "      <td>2020-03-09</td>\n",
              "      <td>2020-03-08</td>\n",
              "      <td>t</td>\n",
              "      <td>NaN</td>\n",
              "      <td>https://news.gov.bc.ca/releases/2020HLTH0068-0...</td>\n",
              "    </tr>\n",
              "    <tr>\n",
              "      <th>74</th>\n",
              "      <td>NaN</td>\n",
              "      <td>5</td>\n",
              "      <td>70-79</td>\n",
              "      <td>Female</td>\n",
              "      <td>Edmonton</td>\n",
              "      <td>Alberta</td>\n",
              "      <td>Canada</td>\n",
              "      <td>2020-03-09</td>\n",
              "      <td>2020-03-08</td>\n",
              "      <td>t</td>\n",
              "      <td>NaN</td>\n",
              "      <td>https://www.alberta.ca/release.cfm?xID=6876985...</td>\n",
              "    </tr>\n",
              "    <tr>\n",
              "      <th>76</th>\n",
              "      <td>NaN</td>\n",
              "      <td>7</td>\n",
              "      <td>50-59</td>\n",
              "      <td>Female</td>\n",
              "      <td>Calgary</td>\n",
              "      <td>Alberta</td>\n",
              "      <td>Canada</td>\n",
              "      <td>2020-03-09</td>\n",
              "      <td>2020-03-08</td>\n",
              "      <td>t</td>\n",
              "      <td>NaN</td>\n",
              "      <td>https://www.alberta.ca/release.cfm?xID=6876985...</td>\n",
              "    </tr>\n",
              "    <tr>\n",
              "      <th>78</th>\n",
              "      <td>NaN</td>\n",
              "      <td>5</td>\n",
              "      <td>Not Reported</td>\n",
              "      <td>Male</td>\n",
              "      <td>Montréal</td>\n",
              "      <td>Quebec</td>\n",
              "      <td>Canada</td>\n",
              "      <td>2020-03-09</td>\n",
              "      <td>2020-03-08</td>\n",
              "      <td>t</td>\n",
              "      <td>NaN</td>\n",
              "      <td>https://www.msss.gouv.qc.ca/ministere/salle-de...</td>\n",
              "    </tr>\n",
              "    <tr>\n",
              "      <th>80</th>\n",
              "      <td>NaN</td>\n",
              "      <td>8</td>\n",
              "      <td>70-79</td>\n",
              "      <td>Male</td>\n",
              "      <td>Edmonton</td>\n",
              "      <td>Alberta</td>\n",
              "      <td>Canada</td>\n",
              "      <td>2020-03-09</td>\n",
              "      <td>2020-03-08</td>\n",
              "      <td>t</td>\n",
              "      <td>NaN</td>\n",
              "      <td>https://www.alberta.ca/release.cfm?xID=68785BC...</td>\n",
              "    </tr>\n",
              "    <tr>\n",
              "      <th>82</th>\n",
              "      <td>NaN</td>\n",
              "      <td>10</td>\n",
              "      <td>30-39</td>\n",
              "      <td>Female</td>\n",
              "      <td>Edmonton</td>\n",
              "      <td>Alberta</td>\n",
              "      <td>Canada</td>\n",
              "      <td>2020-03-09</td>\n",
              "      <td>2020-03-08</td>\n",
              "      <td>t</td>\n",
              "      <td>NaN</td>\n",
              "      <td>https://www.alberta.ca/release.cfm?xID=68785BC...</td>\n",
              "    </tr>\n",
              "    <tr>\n",
              "      <th>84</th>\n",
              "      <td>NaN</td>\n",
              "      <td>12</td>\n",
              "      <td>30-39</td>\n",
              "      <td>Female</td>\n",
              "      <td>Calgary</td>\n",
              "      <td>Alberta</td>\n",
              "      <td>Canada</td>\n",
              "      <td>2020-03-09</td>\n",
              "      <td>2020-03-08</td>\n",
              "      <td>t</td>\n",
              "      <td>NaN</td>\n",
              "      <td>https://www.alberta.ca/release.cfm?xID=68785BC...</td>\n",
              "    </tr>\n",
              "    <tr>\n",
              "      <th>86</th>\n",
              "      <td>NaN</td>\n",
              "      <td>14</td>\n",
              "      <td>40-49</td>\n",
              "      <td>Female</td>\n",
              "      <td>Calgary</td>\n",
              "      <td>Alberta</td>\n",
              "      <td>Canada</td>\n",
              "      <td>2020-03-09</td>\n",
              "      <td>2020-03-08</td>\n",
              "      <td>t</td>\n",
              "      <td>NaN</td>\n",
              "      <td>https://www.alberta.ca/release.cfm?xID=68785BC...</td>\n",
              "    </tr>\n",
              "    <tr>\n",
              "      <th>88</th>\n",
              "      <td>NaN</td>\n",
              "      <td>34</td>\n",
              "      <td>50-59</td>\n",
              "      <td>Female</td>\n",
              "      <td>Vancouver Coastal</td>\n",
              "      <td>BC</td>\n",
              "      <td>Canada</td>\n",
              "      <td>2020-03-10</td>\n",
              "      <td>2020-03-08</td>\n",
              "      <td>f</td>\n",
              "      <td>Close Contact</td>\n",
              "      <td>https://news.gov.bc.ca/releases/2020HLTH0072-0...</td>\n",
              "    </tr>\n",
              "    <tr>\n",
              "      <th>90</th>\n",
              "      <td>NaN</td>\n",
              "      <td>36</td>\n",
              "      <td>90-99</td>\n",
              "      <td>Male</td>\n",
              "      <td>Vancouver Coastal</td>\n",
              "      <td>BC</td>\n",
              "      <td>Canada</td>\n",
              "      <td>2020-03-10</td>\n",
              "      <td>2020-03-08</td>\n",
              "      <td>t</td>\n",
              "      <td>NaN</td>\n",
              "      <td>https://news.gov.bc.ca/releases/2020HLTH0072-0...</td>\n",
              "    </tr>\n",
              "    <tr>\n",
              "      <th>92</th>\n",
              "      <td>NaN</td>\n",
              "      <td>38</td>\n",
              "      <td>90-99</td>\n",
              "      <td>Male</td>\n",
              "      <td>Fraser</td>\n",
              "      <td>BC</td>\n",
              "      <td>Canada</td>\n",
              "      <td>2020-03-10</td>\n",
              "      <td>2020-03-08</td>\n",
              "      <td>f</td>\n",
              "      <td>Community</td>\n",
              "      <td>https://news.gov.bc.ca/releases/2020HLTH0072-0...</td>\n",
              "    </tr>\n",
              "    <tr>\n",
              "      <th>94</th>\n",
              "      <td>NaN</td>\n",
              "      <td>37</td>\n",
              "      <td>50-59</td>\n",
              "      <td>Male</td>\n",
              "      <td>Sudbury</td>\n",
              "      <td>Ontario</td>\n",
              "      <td>Canada</td>\n",
              "      <td>2020-03-10</td>\n",
              "      <td>2020-03-08</td>\n",
              "      <td>f</td>\n",
              "      <td>Community</td>\n",
              "      <td>https://www.phsd.ca/news/first-case-of-covid-1...</td>\n",
              "    </tr>\n",
              "    <tr>\n",
              "      <th>96</th>\n",
              "      <td>NaN</td>\n",
              "      <td>39</td>\n",
              "      <td>30-39</td>\n",
              "      <td>Male</td>\n",
              "      <td>Toronto</td>\n",
              "      <td>Ontario</td>\n",
              "      <td>Canada</td>\n",
              "      <td>2020-03-11</td>\n",
              "      <td>2020-03-08</td>\n",
              "      <td>t</td>\n",
              "      <td>NaN</td>\n",
              "      <td>https://www.ontario.ca/page/2019-novel-coronav...</td>\n",
              "    </tr>\n",
              "    <tr>\n",
              "      <th>98</th>\n",
              "      <td>NaN</td>\n",
              "      <td>41</td>\n",
              "      <td>30-39</td>\n",
              "      <td>Female</td>\n",
              "      <td>Halton</td>\n",
              "      <td>Ontario</td>\n",
              "      <td>Canada</td>\n",
              "      <td>2020-03-11</td>\n",
              "      <td>2020-03-08</td>\n",
              "      <td>t</td>\n",
              "      <td>NaN</td>\n",
              "      <td>[1] https://www.ontario.ca/page/2019-novel-cor...</td>\n",
              "    </tr>\n",
              "  </tbody>\n",
              "</table>\n",
              "</div>"
            ],
            "text/plain": [
              "    case_id  ...                                        case_source\n",
              "0       NaN  ...  (1) https://news.ontario.ca/mohltc/en/2020/01/...\n",
              "2       NaN  ...  https://news.gov.bc.ca/releases/2020HLTH0015-0...\n",
              "4       NaN  ...  https://news.gov.bc.ca/releases/2020HLTH0023-0...\n",
              "6       NaN  ...  https://news.gov.bc.ca/releases/2020HLTH0025-0...\n",
              "8       NaN  ...  (1) https://news.gov.bc.ca/releases/2020HLTH00...\n",
              "10      NaN  ...  (1) https://news.ontario.ca/mohltc/en/2020/02/...\n",
              "12      NaN  ...  (1) https://news.ontario.ca/mohltc/en/2020/02/...\n",
              "14      NaN  ...  https://news.ontario.ca/mohltc/en/2020/02/onta...\n",
              "16      NaN  ...  https://news.ontario.ca/mohltc/en/2020/02/onta...\n",
              "18      NaN  ...  https://news.ontario.ca/mohltc/en/2020/02/onta...\n",
              "20      NaN  ...  (1) https://news.ontario.ca/mohltc/en/2020/03/...\n",
              "22      NaN  ...  https://news.ontario.ca/mohltc/en/2020/03/onta...\n",
              "24      NaN  ...  https://toronto.ctvnews.ca/three-new-cases-of-...\n",
              "26      NaN  ...  https://toronto.ctvnews.ca/three-new-cases-of-...\n",
              "28      NaN  ...  (1) https://news.ontario.ca/mohltc/en/2020/03/...\n",
              "30      NaN  ...  https://news.gov.bc.ca/releases/2020HLTH0058-0...\n",
              "32      NaN  ...  https://news.gov.bc.ca/releases/2020HLTH0058-0...\n",
              "34      NaN  ...  (1) https://www.msss.gouv.qc.ca/ministere/sall...\n",
              "36      NaN  ...  https://news.ontario.ca/mohltc/en/2020/03/onta...\n",
              "38      NaN  ...  https://news.gov.bc.ca/releases/2020HLTH0062-0...\n",
              "40      NaN  ...  https://news.gov.bc.ca/releases/2020HLTH0062-0...\n",
              "42      NaN  ...  https://news.gov.bc.ca/releases/2020HLTH0062-0...\n",
              "44      NaN  ...  https://news.gov.bc.ca/releases/2020HLTH0062-0...\n",
              "46      NaN  ...  https://edmonton.ctvnews.ca/alberta-s-first-pr...\n",
              "48      NaN  ...  https://news.ontario.ca/mohltc/en/2020/03/onta...\n",
              "50      NaN  ...  https://www.msss.gouv.qc.ca/ministere/salle-de...\n",
              "52      NaN  ...  https://news.ontario.ca/mohltc/en/2020/03/onta...\n",
              "54      NaN  ...  https://news.gov.bc.ca/releases/2020HLTH0064-0...\n",
              "56      NaN  ...  https://news.gov.bc.ca/releases/2020HLTH0064-0...\n",
              "58      NaN  ...  https://news.gov.bc.ca/releases/2020HLTH0064-0...\n",
              "60      NaN  ...  https://news.ontario.ca/mohltc/en/2020/03/onta...\n",
              "62      NaN  ...  https://globalnews.ca/news/6647035/new-presump...\n",
              "64      NaN  ...  https://news.ontario.ca/mohltc/en/2020/03/onta...\n",
              "66      NaN  ...  https://peelregion.ca/news/archiveitem.asp?yea...\n",
              "68      NaN  ...  https://www.ontario.ca/page/2019-novel-coronav...\n",
              "70      NaN  ...  https://news.gov.bc.ca/releases/2020HLTH0068-0...\n",
              "72      NaN  ...  https://news.gov.bc.ca/releases/2020HLTH0068-0...\n",
              "74      NaN  ...  https://www.alberta.ca/release.cfm?xID=6876985...\n",
              "76      NaN  ...  https://www.alberta.ca/release.cfm?xID=6876985...\n",
              "78      NaN  ...  https://www.msss.gouv.qc.ca/ministere/salle-de...\n",
              "80      NaN  ...  https://www.alberta.ca/release.cfm?xID=68785BC...\n",
              "82      NaN  ...  https://www.alberta.ca/release.cfm?xID=68785BC...\n",
              "84      NaN  ...  https://www.alberta.ca/release.cfm?xID=68785BC...\n",
              "86      NaN  ...  https://www.alberta.ca/release.cfm?xID=68785BC...\n",
              "88      NaN  ...  https://news.gov.bc.ca/releases/2020HLTH0072-0...\n",
              "90      NaN  ...  https://news.gov.bc.ca/releases/2020HLTH0072-0...\n",
              "92      NaN  ...  https://news.gov.bc.ca/releases/2020HLTH0072-0...\n",
              "94      NaN  ...  https://www.phsd.ca/news/first-case-of-covid-1...\n",
              "96      NaN  ...  https://www.ontario.ca/page/2019-novel-coronav...\n",
              "98      NaN  ...  [1] https://www.ontario.ca/page/2019-novel-cor...\n",
              "\n",
              "[50 rows x 12 columns]"
            ]
          },
          "metadata": {
            "tags": []
          },
          "execution_count": 26
        }
      ]
    },
    {
      "cell_type": "markdown",
      "metadata": {
        "id": "rUk2j6CdyDz4"
      },
      "source": [
        "Contagem de registros."
      ]
    },
    {
      "cell_type": "code",
      "metadata": {
        "id": "ux5w4Nc_fAMM",
        "outputId": "ba79f075-6853-480f-9b06-6ce4dcd2d780",
        "colab": {
          "base_uri": "https://localhost:8080/",
          "height": 340
        }
      },
      "source": [
        "amostra.info()"
      ],
      "execution_count": null,
      "outputs": [
        {
          "output_type": "stream",
          "text": [
            "<class 'pandas.core.frame.DataFrame'>\n",
            "Int64Index: 50 entries, 0 to 98\n",
            "Data columns (total 12 columns):\n",
            " #   Column              Non-Null Count  Dtype  \n",
            "---  ------              --------------  -----  \n",
            " 0   case_id             0 non-null      float64\n",
            " 1   provincial_case_id  50 non-null     int64  \n",
            " 2   age                 50 non-null     object \n",
            " 3   sex                 50 non-null     object \n",
            " 4   health_region       50 non-null     object \n",
            " 5   province            50 non-null     object \n",
            " 6   country             50 non-null     object \n",
            " 7   date_report         50 non-null     object \n",
            " 8   report_week         50 non-null     object \n",
            " 9   has_travel_history  50 non-null     object \n",
            " 10  locally_acquired    10 non-null     object \n",
            " 11  case_source         50 non-null     object \n",
            "dtypes: float64(1), int64(1), object(10)\n",
            "memory usage: 5.1+ KB\n"
          ],
          "name": "stdout"
        }
      ]
    },
    {
      "cell_type": "code",
      "metadata": {
        "id": "G_kEfvWU7czl"
      },
      "source": [
        ""
      ],
      "execution_count": null,
      "outputs": []
    }
  ]
}