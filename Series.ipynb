{
  "nbformat": 4,
  "nbformat_minor": 0,
  "metadata": {
    "kernelspec": {
      "display_name": "Python 3",
      "language": "python",
      "name": "python3"
    },
    "language_info": {
      "codemirror_mode": {
        "name": "ipython",
        "version": 3
      },
      "file_extension": ".py",
      "mimetype": "text/x-python",
      "name": "python",
      "nbconvert_exporter": "python",
      "pygments_lexer": "ipython3",
      "version": "3.6.1"
    },
    "colab": {
      "name": "Series.ipynb",
      "provenance": []
    }
  },
  "cells": [
    {
      "cell_type": "markdown",
      "metadata": {
        "id": "Remk-RtCn9ah"
      },
      "source": [
        "# Series\n",
        "\n",
        "O primeiro tipo de dado que aprenderemos é a Serie. Vamos importar Pandas e explorar tal objeto.\n",
        "\n",
        "A Serie é muito semelhante a uma matriz NumPy (na verdade, ela é construída em cima do objeto de matriz NumPy). O que diferencia a matriz NumPy de uma Série, é que uma Serie pode ter rótulos de eixos, o que significa que pode ser indexado por um rótulo, em vez de apenas uma localização numérica. Também não precisa manter dados numéricos, ele pode conter qualquer objeto Python arbitrário.\n",
        "\n",
        "Vamos explorar este conceito através de alguns exemplos:"
      ]
    },
    {
      "cell_type": "code",
      "metadata": {
        "id": "DrLh3R0Bn9ak"
      },
      "source": [
        "import numpy as np\n",
        "import pandas as pd"
      ],
      "execution_count": null,
      "outputs": []
    },
    {
      "cell_type": "markdown",
      "metadata": {
        "id": "1EQh_HSln9at"
      },
      "source": [
        "### Criando uma Serie\n",
        "\n",
        "Você pode converter uma lista, numpy array ou dicionário para uma série:"
      ]
    },
    {
      "cell_type": "code",
      "metadata": {
        "id": "Cae8erw6n9au"
      },
      "source": [
        "labels = ['a','b','c']\n",
        "minha_lista = [10,20,30]\n",
        "arr = np.array([10,20,30])\n",
        "d = {'a':10,'b':20,'c':30}"
      ],
      "execution_count": null,
      "outputs": []
    },
    {
      "cell_type": "markdown",
      "metadata": {
        "id": "N_eknCmYn9a3"
      },
      "source": [
        "** Usando listas **"
      ]
    },
    {
      "cell_type": "code",
      "metadata": {
        "id": "WVCzqP55n9a5",
        "outputId": "cc4f5419-d830-4068-a116-f72de3a4872b"
      },
      "source": [
        "pd.Series(data=minha_lista)"
      ],
      "execution_count": null,
      "outputs": [
        {
          "output_type": "execute_result",
          "data": {
            "text/plain": [
              "0    10\n",
              "1    20\n",
              "2    30\n",
              "dtype: int64"
            ]
          },
          "metadata": {
            "tags": []
          },
          "execution_count": 3
        }
      ]
    },
    {
      "cell_type": "code",
      "metadata": {
        "id": "z2zhim5An9bE",
        "outputId": "92ce40bc-dee2-409f-d09a-fb8f42cc1e2e"
      },
      "source": [
        "pd.Series(data=minha_lista,index=labels)"
      ],
      "execution_count": null,
      "outputs": [
        {
          "output_type": "execute_result",
          "data": {
            "text/plain": [
              "a    10\n",
              "b    20\n",
              "c    30\n",
              "dtype: int64"
            ]
          },
          "metadata": {
            "tags": []
          },
          "execution_count": 4
        }
      ]
    },
    {
      "cell_type": "code",
      "metadata": {
        "id": "LFjzzwEnn9bP",
        "outputId": "f5cd7240-9f6a-4d2f-d6b4-b2f5b4b689b3"
      },
      "source": [
        "pd.Series(minha_lista,labels)"
      ],
      "execution_count": null,
      "outputs": [
        {
          "output_type": "execute_result",
          "data": {
            "text/plain": [
              "a    10\n",
              "b    20\n",
              "c    30\n",
              "dtype: int64"
            ]
          },
          "metadata": {
            "tags": []
          },
          "execution_count": 5
        }
      ]
    },
    {
      "cell_type": "markdown",
      "metadata": {
        "id": "ItXHpcPqn9ba"
      },
      "source": [
        "** NumPy Arrays **"
      ]
    },
    {
      "cell_type": "code",
      "metadata": {
        "id": "yllC2XRIn9bb",
        "outputId": "cf35bc9f-597f-4e1a-a290-58bad6fba073"
      },
      "source": [
        "pd.Series(arr)"
      ],
      "execution_count": null,
      "outputs": [
        {
          "output_type": "execute_result",
          "data": {
            "text/plain": [
              "0    10\n",
              "1    20\n",
              "2    30\n",
              "dtype: int32"
            ]
          },
          "metadata": {
            "tags": []
          },
          "execution_count": 6
        }
      ]
    },
    {
      "cell_type": "code",
      "metadata": {
        "id": "J8HsXxgAn9bh",
        "outputId": "c949fbe7-f37a-4f53-9599-717f9631c88f"
      },
      "source": [
        "pd.Series(arr,labels)"
      ],
      "execution_count": null,
      "outputs": [
        {
          "output_type": "execute_result",
          "data": {
            "text/plain": [
              "a    10\n",
              "b    20\n",
              "c    30\n",
              "dtype: int32"
            ]
          },
          "metadata": {
            "tags": []
          },
          "execution_count": 7
        }
      ]
    },
    {
      "cell_type": "markdown",
      "metadata": {
        "id": "FgMfHK11n9bn"
      },
      "source": [
        "** Dicionários **"
      ]
    },
    {
      "cell_type": "code",
      "metadata": {
        "id": "2mP8Ew_Un9bo",
        "outputId": "b0a63373-8655-43fb-e9f9-ff69e2553b8a"
      },
      "source": [
        "pd.Series(d)"
      ],
      "execution_count": null,
      "outputs": [
        {
          "output_type": "execute_result",
          "data": {
            "text/plain": [
              "a    10\n",
              "b    20\n",
              "c    30\n",
              "dtype: int64"
            ]
          },
          "metadata": {
            "tags": []
          },
          "execution_count": 8
        }
      ]
    },
    {
      "cell_type": "markdown",
      "metadata": {
        "id": "3lMOZtvBn9bs"
      },
      "source": [
        "### Dados nas Series\n",
        "\n",
        "Uma série de pandas pode conter uma variedade de tipos de objeto:"
      ]
    },
    {
      "cell_type": "code",
      "metadata": {
        "id": "hBi_pJYOn9bt",
        "outputId": "98865f18-3d33-454a-cc93-b560d58a44e0"
      },
      "source": [
        "pd.Series(data=labels)"
      ],
      "execution_count": null,
      "outputs": [
        {
          "output_type": "execute_result",
          "data": {
            "text/plain": [
              "0    a\n",
              "1    b\n",
              "2    c\n",
              "dtype: object"
            ]
          },
          "metadata": {
            "tags": []
          },
          "execution_count": 9
        }
      ]
    },
    {
      "cell_type": "code",
      "metadata": {
        "id": "DenA8o3zn9bz",
        "outputId": "7f144984-6699-4f4f-e740-bf19fe870564"
      },
      "source": [
        "# Mesmo funções (embora seja improvável que você use isso)\n",
        "pd.Series([sum,print,len])"
      ],
      "execution_count": null,
      "outputs": [
        {
          "output_type": "execute_result",
          "data": {
            "text/plain": [
              "0      <built-in function sum>\n",
              "1    <built-in function print>\n",
              "2      <built-in function len>\n",
              "dtype: object"
            ]
          },
          "metadata": {
            "tags": []
          },
          "execution_count": 10
        }
      ]
    },
    {
      "cell_type": "markdown",
      "metadata": {
        "id": "xLOD1yurn9b4"
      },
      "source": [
        "## Usando um Índice\n",
        "\n",
        "A chave para usar uma Serie é entender seu índice. O Pandas faz uso desses nomes ou números de índice, permitindo pesquisas rápidas de informações (funciona como uma tabela de hash ou dicionário).\n",
        "\n",
        "Vamos ver alguns exemplos de como pegar informações de uma Serie. Vamos criar duas Series, ser1 e ser2:"
      ]
    },
    {
      "cell_type": "code",
      "metadata": {
        "id": "iBkWxDgmn9b5"
      },
      "source": [
        "ser1 = pd.Series([1,2,3,4],index = ['EUA', 'Alemanha','USSR', 'Japão'])                                   "
      ],
      "execution_count": null,
      "outputs": []
    },
    {
      "cell_type": "code",
      "metadata": {
        "id": "nZfkwlHnn9cA",
        "outputId": "8b0f255b-bd6b-4232-d68a-1195010a81dc"
      },
      "source": [
        "ser1"
      ],
      "execution_count": null,
      "outputs": [
        {
          "output_type": "execute_result",
          "data": {
            "text/plain": [
              "EUA         1\n",
              "Alemanha    2\n",
              "USSR        3\n",
              "Japão       4\n",
              "dtype: int64"
            ]
          },
          "metadata": {
            "tags": []
          },
          "execution_count": 18
        }
      ]
    },
    {
      "cell_type": "code",
      "metadata": {
        "id": "vleRWXpdn9cF"
      },
      "source": [
        "ser2 = pd.Series([1,2,5,4],index = ['EUA', 'Alemanha','Italia', 'Japão'])                                   "
      ],
      "execution_count": null,
      "outputs": []
    },
    {
      "cell_type": "code",
      "metadata": {
        "id": "P1fa7ANLn9cJ",
        "outputId": "32818cd1-45c0-4b48-e9c1-dd556784efe3"
      },
      "source": [
        "ser2"
      ],
      "execution_count": null,
      "outputs": [
        {
          "output_type": "execute_result",
          "data": {
            "text/plain": [
              "EUA         1\n",
              "Alemanha    2\n",
              "Italia      5\n",
              "Japão       4\n",
              "dtype: int64"
            ]
          },
          "metadata": {
            "tags": []
          },
          "execution_count": 20
        }
      ]
    },
    {
      "cell_type": "code",
      "metadata": {
        "id": "8jR41w03n9cS",
        "outputId": "5dc1ec91-245c-4a53-c0fa-390342af6af5"
      },
      "source": [
        "ser1['EUA']"
      ],
      "execution_count": null,
      "outputs": [
        {
          "output_type": "execute_result",
          "data": {
            "text/plain": [
              "1"
            ]
          },
          "metadata": {
            "tags": []
          },
          "execution_count": 21
        }
      ]
    },
    {
      "cell_type": "markdown",
      "metadata": {
        "id": "Z9CRAPPsn9cW"
      },
      "source": [
        "As operações também são feitas com base no índice:"
      ]
    },
    {
      "cell_type": "code",
      "metadata": {
        "id": "OriE7FzHn9cW",
        "outputId": "12f38875-8469-4f4d-facf-3f139c9ef468"
      },
      "source": [
        "ser1 + ser2"
      ],
      "execution_count": null,
      "outputs": [
        {
          "output_type": "execute_result",
          "data": {
            "text/plain": [
              "Alemanha    4.0\n",
              "EUA         2.0\n",
              "Italia      NaN\n",
              "Japão       8.0\n",
              "USSR        NaN\n",
              "dtype: float64"
            ]
          },
          "metadata": {
            "tags": []
          },
          "execution_count": 22
        }
      ]
    },
    {
      "cell_type": "markdown",
      "metadata": {
        "id": "hUdYIBUdn9cd"
      },
      "source": [
        "Vamos parar aqui por enquanto e passar para a DataFrames, que expandirá o conceito da Serie!"
      ]
    }
  ]
}