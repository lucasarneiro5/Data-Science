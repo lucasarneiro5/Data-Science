{
  "nbformat": 4,
  "nbformat_minor": 0,
  "metadata": {
    "kernelspec": {
      "display_name": "Python 3",
      "language": "python",
      "name": "python3"
    },
    "language_info": {
      "codemirror_mode": {
        "name": "ipython",
        "version": 3
      },
      "file_extension": ".py",
      "mimetype": "text/x-python",
      "name": "python",
      "nbconvert_exporter": "python",
      "pygments_lexer": "ipython3",
      "version": "3.6.1"
    },
    "colab": {
      "name": "Exercícios Numpy.ipynb",
      "provenance": []
    }
  },
  "cells": [
    {
      "cell_type": "markdown",
      "metadata": {
        "id": "Rb0PRm8TsEvs"
      },
      "source": [
        "# Exercícios NumPy  \n",
        "\n",
        "Agora que aprendemos sobre NumPy, vamos testar seu conhecimento. Começaremos com algumas tarefas simples, para depois entrarmos nas perguntas mais complicadas."
      ]
    },
    {
      "cell_type": "markdown",
      "metadata": {
        "id": "nIcQ2cLksEv1"
      },
      "source": [
        "#### Importe NumPy como np"
      ]
    },
    {
      "cell_type": "code",
      "metadata": {
        "id": "znjadBuSsEwB"
      },
      "source": [
        "import numpy as np"
      ],
      "execution_count": null,
      "outputs": []
    },
    {
      "cell_type": "markdown",
      "metadata": {
        "id": "TSrqO6IcsEwz"
      },
      "source": [
        "#### Crie uma matriz de 10 zeros"
      ]
    },
    {
      "cell_type": "code",
      "metadata": {
        "id": "AwLvJRvFsEw3",
        "outputId": "a1cbead3-960d-40d1-e452-4c200bfe4e07",
        "colab": {
          "base_uri": "https://localhost:8080/",
          "height": 34
        }
      },
      "source": [
        "np.zeros(10)"
      ],
      "execution_count": null,
      "outputs": [
        {
          "output_type": "execute_result",
          "data": {
            "text/plain": [
              "array([0., 0., 0., 0., 0., 0., 0., 0., 0., 0.])"
            ]
          },
          "metadata": {
            "tags": []
          },
          "execution_count": 2
        }
      ]
    },
    {
      "cell_type": "markdown",
      "metadata": {
        "id": "F6EXZdKAsExk"
      },
      "source": [
        "#### Crie uma matriz de 10 ones"
      ]
    },
    {
      "cell_type": "code",
      "metadata": {
        "id": "joEBcG7qsExz",
        "outputId": "4b142094-e583-4722-e406-7832c89f9ace",
        "colab": {
          "base_uri": "https://localhost:8080/",
          "height": 34
        }
      },
      "source": [
        "np.ones(10)"
      ],
      "execution_count": null,
      "outputs": [
        {
          "output_type": "execute_result",
          "data": {
            "text/plain": [
              "array([1., 1., 1., 1., 1., 1., 1., 1., 1., 1.])"
            ]
          },
          "metadata": {
            "tags": []
          },
          "execution_count": 4
        }
      ]
    },
    {
      "cell_type": "markdown",
      "metadata": {
        "id": "yY20hwD4sEyK"
      },
      "source": [
        "#### Crie uma matriz de 10 cincos"
      ]
    },
    {
      "cell_type": "code",
      "metadata": {
        "id": "0sfNNLDysEyP",
        "outputId": "2f76a9a3-7a46-4f44-bb34-fedf368e4004",
        "colab": {
          "base_uri": "https://localhost:8080/",
          "height": 34
        }
      },
      "source": [
        "np.ones(10)*5\n",
        "#np.ones(10) + 4"
      ],
      "execution_count": null,
      "outputs": [
        {
          "output_type": "execute_result",
          "data": {
            "text/plain": [
              "array([5., 5., 5., 5., 5., 5., 5., 5., 5., 5.])"
            ]
          },
          "metadata": {
            "tags": []
          },
          "execution_count": 9
        }
      ]
    },
    {
      "cell_type": "markdown",
      "metadata": {
        "id": "68Ghg20PsEzL"
      },
      "source": [
        "#### Crie um array de inteiros de 10 até 50"
      ]
    },
    {
      "cell_type": "code",
      "metadata": {
        "id": "Y69Yl555sEzS",
        "outputId": "4e55f36d-86ad-42ab-c556-4bca650f06e9",
        "colab": {
          "base_uri": "https://localhost:8080/",
          "height": 69
        }
      },
      "source": [
        "np.arange(10, 51)"
      ],
      "execution_count": null,
      "outputs": [
        {
          "output_type": "execute_result",
          "data": {
            "text/plain": [
              "array([10, 11, 12, 13, 14, 15, 16, 17, 18, 19, 20, 21, 22, 23, 24, 25, 26,\n",
              "       27, 28, 29, 30, 31, 32, 33, 34, 35, 36, 37, 38, 39, 40, 41, 42, 43,\n",
              "       44, 45, 46, 47, 48, 49, 50])"
            ]
          },
          "metadata": {
            "tags": []
          },
          "execution_count": 11
        }
      ]
    },
    {
      "cell_type": "markdown",
      "metadata": {
        "id": "tzgxehEnsEzm"
      },
      "source": [
        "#### Crie um array dos numeros pares de 10 até 50"
      ]
    },
    {
      "cell_type": "code",
      "metadata": {
        "id": "Utpk1PwCsEzo",
        "outputId": "e88f75f0-62b7-4819-e59f-3defcf2a3740",
        "colab": {
          "base_uri": "https://localhost:8080/",
          "height": 52
        }
      },
      "source": [
        "np.arange(10, 51, 2)"
      ],
      "execution_count": null,
      "outputs": [
        {
          "output_type": "execute_result",
          "data": {
            "text/plain": [
              "array([10, 12, 14, 16, 18, 20, 22, 24, 26, 28, 30, 32, 34, 36, 38, 40, 42,\n",
              "       44, 46, 48, 50])"
            ]
          },
          "metadata": {
            "tags": []
          },
          "execution_count": 12
        }
      ]
    },
    {
      "cell_type": "markdown",
      "metadata": {
        "id": "TcO2N6_BsEz9"
      },
      "source": [
        "#### Criei uma matriz 3x3 com valores variando de 0 até 8"
      ]
    },
    {
      "cell_type": "code",
      "metadata": {
        "id": "Nu88YMqisE0I",
        "outputId": "052fcbe6-47cf-4b68-e35b-8fa30882acf1",
        "colab": {
          "base_uri": "https://localhost:8080/",
          "height": 68
        }
      },
      "source": [
        "arr = np.arange(0, 9).reshape(3,3)\n",
        "#arr = np.array(([0,1,2],[3,4,5],[6,7,8]))\n",
        "print(arr)"
      ],
      "execution_count": null,
      "outputs": [
        {
          "output_type": "stream",
          "text": [
            "[[0 1 2]\n",
            " [3 4 5]\n",
            " [6 7 8]]\n"
          ],
          "name": "stdout"
        }
      ]
    },
    {
      "cell_type": "markdown",
      "metadata": {
        "id": "KSruTLjisE0c"
      },
      "source": [
        "#### Crie uma matriz identidade 3x3"
      ]
    },
    {
      "cell_type": "code",
      "metadata": {
        "id": "NnhzE1U0sE0l",
        "outputId": "04af9bc4-d245-4b76-8d2f-553ab00cdf40",
        "colab": {
          "base_uri": "https://localhost:8080/",
          "height": 68
        }
      },
      "source": [
        "#arr3 = np.array(([1,0,0],[0,1,0],[0,1,0]))\n",
        "arr3 = np.eye(3)\n",
        "print(arr3)"
      ],
      "execution_count": null,
      "outputs": [
        {
          "output_type": "stream",
          "text": [
            "[[1. 0. 0.]\n",
            " [0. 1. 0.]\n",
            " [0. 0. 1.]]\n"
          ],
          "name": "stdout"
        }
      ]
    },
    {
      "cell_type": "markdown",
      "metadata": {
        "id": "bVFZzEpmsE0w"
      },
      "source": [
        "#### Use NumPy para gerar números aleatórios entre 0 e 1"
      ]
    },
    {
      "cell_type": "code",
      "metadata": {
        "id": "crmBKQN-sE0z",
        "outputId": "0dbe8e6c-478a-4d89-b310-6747bfaf9dd6",
        "colab": {
          "base_uri": "https://localhost:8080/",
          "height": 34
        }
      },
      "source": [
        "np.random.rand(1)"
      ],
      "execution_count": null,
      "outputs": [
        {
          "output_type": "execute_result",
          "data": {
            "text/plain": [
              "array([0.01376947])"
            ]
          },
          "metadata": {
            "tags": []
          },
          "execution_count": 13
        }
      ]
    },
    {
      "cell_type": "markdown",
      "metadata": {
        "id": "lPIC8nyzsE07"
      },
      "source": [
        "#### Use Numpy para gerar um array de 25 números aleatórios tirados de uma distribuição normal."
      ]
    },
    {
      "cell_type": "code",
      "metadata": {
        "id": "h_6KyZeJsE08",
        "outputId": "39d5117a-c1a0-4aa2-ea82-9365212587f4",
        "colab": {
          "base_uri": "https://localhost:8080/",
          "height": 102
        }
      },
      "source": [
        "np.random.randn(25)"
      ],
      "execution_count": null,
      "outputs": [
        {
          "output_type": "execute_result",
          "data": {
            "text/plain": [
              "array([ 0.34769771,  0.18787596, -0.18395281,  1.3518416 , -0.70988594,\n",
              "       -1.27883885,  0.14123091,  0.6249867 ,  0.59816829, -1.6694367 ,\n",
              "        1.2242473 , -1.75589116,  1.14615392, -0.79463214, -1.02945892,\n",
              "        1.07273335,  0.00862897, -1.33708261,  1.69670169,  0.07774372,\n",
              "        0.55615725, -0.61634322,  0.9585334 , -0.95989181,  0.09538947])"
            ]
          },
          "metadata": {
            "tags": []
          },
          "execution_count": 12
        }
      ]
    },
    {
      "cell_type": "markdown",
      "metadata": {
        "id": "dTd3hGL5sE1J"
      },
      "source": [
        "#### Crie a seguinte matriz:"
      ]
    },
    {
      "cell_type": "code",
      "metadata": {
        "id": "qlgtGvDwsE1L",
        "outputId": "05e21e51-905e-4334-e1f5-26b93c031f15",
        "colab": {
          "base_uri": "https://localhost:8080/",
          "height": 34
        }
      },
      "source": [
        "#np.linspace(0,10,100)\n",
        "np.arange(0,10) / 100"
      ],
      "execution_count": null,
      "outputs": [
        {
          "output_type": "execute_result",
          "data": {
            "text/plain": [
              "array([0.  , 0.01, 0.02, 0.03, 0.04, 0.05, 0.06, 0.07, 0.08, 0.09])"
            ]
          },
          "metadata": {
            "tags": []
          },
          "execution_count": 14
        }
      ]
    },
    {
      "cell_type": "markdown",
      "metadata": {
        "id": "O0QCmpn2sE1b"
      },
      "source": [
        "#### Crie um array de tamanho 20 igualmente espaçado entre 0 e 1."
      ]
    },
    {
      "cell_type": "code",
      "metadata": {
        "id": "3VoA1RiDsE1e",
        "outputId": "893f1194-64fa-4d32-e41e-75fbf22b79e0",
        "colab": {
          "base_uri": "https://localhost:8080/",
          "height": 85
        }
      },
      "source": [
        "arr = np.linspace(0,1,20)\n",
        "#arr = np.random.rand(4,5)\n",
        "print(arr)"
      ],
      "execution_count": null,
      "outputs": [
        {
          "output_type": "stream",
          "text": [
            "[0.         0.05263158 0.10526316 0.15789474 0.21052632 0.26315789\n",
            " 0.31578947 0.36842105 0.42105263 0.47368421 0.52631579 0.57894737\n",
            " 0.63157895 0.68421053 0.73684211 0.78947368 0.84210526 0.89473684\n",
            " 0.94736842 1.        ]\n"
          ],
          "name": "stdout"
        }
      ]
    },
    {
      "cell_type": "markdown",
      "metadata": {
        "id": "YfAtBSMosE1v"
      },
      "source": [
        "## Indexação Numpy e Seleção\n",
        "\n",
        "Agora você receberá algumas matrizes e será solicitado a replicar as saídas resultantes da matriz:"
      ]
    },
    {
      "cell_type": "code",
      "metadata": {
        "id": "1CZ07EKDsE1y",
        "outputId": "4ac4fd6e-e5cc-4d98-eeb2-026221136176",
        "colab": {
          "base_uri": "https://localhost:8080/",
          "height": 102
        }
      },
      "source": [
        "mat = np.arange(1,26).reshape(5,5)\n",
        "mat"
      ],
      "execution_count": null,
      "outputs": [
        {
          "output_type": "execute_result",
          "data": {
            "text/plain": [
              "array([[ 1,  2,  3,  4,  5],\n",
              "       [ 6,  7,  8,  9, 10],\n",
              "       [11, 12, 13, 14, 15],\n",
              "       [16, 17, 18, 19, 20],\n",
              "       [21, 22, 23, 24, 25]])"
            ]
          },
          "metadata": {
            "tags": []
          },
          "execution_count": 17
        }
      ]
    },
    {
      "cell_type": "code",
      "metadata": {
        "id": "Zftb3HshsE18",
        "outputId": "0eaad4f1-8878-4001-bfbe-729536f73e9d",
        "colab": {
          "base_uri": "https://localhost:8080/",
          "height": 68
        }
      },
      "source": [
        "# ESCREVE O CÓDIGO AQUI QUE REPRODICA A SAÍDA DA CÉLULA ABAIXO\n",
        "# SEJA CUIDADOSO PARA NÃO FUNCIONAR A CÉLULA ABAIXO, DE OUTRA FORMA, NÃO PODERÁ\n",
        "# PODE VER A SORTEZA MAIS QUALQUER\n",
        "mat[2:, 1:]"
      ],
      "execution_count": null,
      "outputs": [
        {
          "output_type": "execute_result",
          "data": {
            "text/plain": [
              "array([[12, 13, 14, 15],\n",
              "       [17, 18, 19, 20],\n",
              "       [22, 23, 24, 25]])"
            ]
          },
          "metadata": {
            "tags": []
          },
          "execution_count": 18
        }
      ]
    },
    {
      "cell_type": "code",
      "metadata": {
        "id": "W_RsShYjsE2F",
        "outputId": "b531c061-2b9a-4d9e-94ec-651c0f73c06d"
      },
      "source": [
        ""
      ],
      "execution_count": null,
      "outputs": [
        {
          "output_type": "execute_result",
          "data": {
            "text/plain": [
              "array([[12, 13, 14, 15],\n",
              "       [17, 18, 19, 20],\n",
              "       [22, 23, 24, 25]])"
            ]
          },
          "metadata": {
            "tags": []
          },
          "execution_count": 40
        }
      ]
    },
    {
      "cell_type": "code",
      "metadata": {
        "id": "hhEoQ8mYsE2Q"
      },
      "source": [
        "# ESCREVE O CÓDIGO AQUI QUE REPRODICA A SAÍDA DA CÉLULA ABAIXO\n",
        "# SEJA CUIDADOSO PARA NÃO FUNCIONAR A CÉLULA ABAIXO, DE OUTRA FORMA, NÃO PODERÁ\n",
        "# PODE VER A SORTEZA MAIS QUALQUER"
      ],
      "execution_count": null,
      "outputs": []
    },
    {
      "cell_type": "code",
      "metadata": {
        "id": "P2nGj-o7sE2f",
        "outputId": "a81a490b-f160-4184-d471-38ec500f0c8a",
        "colab": {
          "base_uri": "https://localhost:8080/",
          "height": 34
        }
      },
      "source": [
        "mat[:3, 1:2]"
      ],
      "execution_count": null,
      "outputs": [
        {
          "output_type": "execute_result",
          "data": {
            "text/plain": [
              "20"
            ]
          },
          "metadata": {
            "tags": []
          },
          "execution_count": 19
        }
      ]
    },
    {
      "cell_type": "code",
      "metadata": {
        "id": "M9jTlB_JsE2s",
        "outputId": "6b45ceaf-ecef-4031-c8be-19e12b49c7a7",
        "colab": {
          "base_uri": "https://localhost:8080/",
          "height": 68
        }
      },
      "source": [
        "# ESCREVE O CÓDIGO AQUI QUE REPRODICA A SAÍDA DA CÉLULA ABAIXO\n",
        "# SEJA CUIDADOSO PARA NÃO FUNCIONAR A CÉLULA ABAIXO, DE OUTRA FORMA, NÃO PODERÁ\n",
        "# PODE VER A SORTEZA MAIS QUALQUER\n",
        "mat[:3, 1:2] # Da linha 0 a 2."
      ],
      "execution_count": null,
      "outputs": [
        {
          "output_type": "execute_result",
          "data": {
            "text/plain": [
              "array([[ 2],\n",
              "       [ 7],\n",
              "       [12]])"
            ]
          },
          "metadata": {
            "tags": []
          },
          "execution_count": 21
        }
      ]
    },
    {
      "cell_type": "code",
      "metadata": {
        "id": "mwbjPQRMsE27",
        "outputId": "6a162659-62c5-400a-e317-368abc161d85"
      },
      "source": [
        ""
      ],
      "execution_count": null,
      "outputs": [
        {
          "output_type": "execute_result",
          "data": {
            "text/plain": [
              "array([[ 2],\n",
              "       [ 7],\n",
              "       [12]])"
            ]
          },
          "metadata": {
            "tags": []
          },
          "execution_count": 42
        }
      ]
    },
    {
      "cell_type": "code",
      "metadata": {
        "id": "tqZqtShPsE3D",
        "outputId": "83caefc1-9eba-4b2f-d29f-47d59a08254d",
        "colab": {
          "base_uri": "https://localhost:8080/",
          "height": 34
        }
      },
      "source": [
        "# ESCREVE O CÓDIGO AQUI QUE REPRODICA A SAÍDA DA CÉLULA ABAIXO\n",
        "# SEJA CUIDADOSO PARA NÃO FUNCIONAR A CÉLULA ABAIXO, DE OUTRA FORMA, NÃO PODERÁ\n",
        "# PODE VER A SORTEZA MAIS QUALQUER\n",
        "mat[-1,:]"
      ],
      "execution_count": null,
      "outputs": [
        {
          "output_type": "execute_result",
          "data": {
            "text/plain": [
              "array([21, 22, 23, 24, 25])"
            ]
          },
          "metadata": {
            "tags": []
          },
          "execution_count": 22
        }
      ]
    },
    {
      "cell_type": "code",
      "metadata": {
        "id": "2EmCXkMysE3P",
        "outputId": "1538c479-0467-4f04-c090-4741ec5d0cc1"
      },
      "source": [
        ""
      ],
      "execution_count": null,
      "outputs": [
        {
          "output_type": "execute_result",
          "data": {
            "text/plain": [
              "array([21, 22, 23, 24, 25])"
            ]
          },
          "metadata": {
            "tags": []
          },
          "execution_count": 46
        }
      ]
    },
    {
      "cell_type": "code",
      "metadata": {
        "id": "--VJ52ffsE3d",
        "outputId": "31f2a6c2-bd80-4b6c-f234-c866e2394221",
        "colab": {
          "base_uri": "https://localhost:8080/",
          "height": 51
        }
      },
      "source": [
        "# ESCREVE O CÓDIGO AQUI QUE REPRODICA A SAÍDA DA CÉLULA ABAIXO\n",
        "# SEJA CUIDADOSO PARA NÃO FUNCIONAR A CÉLULA ABAIXO, DE OUTRA FORMA, NÃO PODERÁ\n",
        "# PODE VER A SORTEZA MAIS QUALQUER\n",
        "mat[-2:, :] # Ou mat[3:, :]"
      ],
      "execution_count": null,
      "outputs": [
        {
          "output_type": "execute_result",
          "data": {
            "text/plain": [
              "array([[16, 17, 18, 19, 20],\n",
              "       [21, 22, 23, 24, 25]])"
            ]
          },
          "metadata": {
            "tags": []
          },
          "execution_count": 26
        }
      ]
    },
    {
      "cell_type": "code",
      "metadata": {
        "id": "-adW4CndsE3s",
        "outputId": "59444ea8-5450-4d49-f3ea-a0c04859948c"
      },
      "source": [
        ""
      ],
      "execution_count": null,
      "outputs": [
        {
          "output_type": "execute_result",
          "data": {
            "text/plain": [
              "array([[16, 17, 18, 19, 20],\n",
              "       [21, 22, 23, 24, 25]])"
            ]
          },
          "metadata": {
            "tags": []
          },
          "execution_count": 49
        }
      ]
    },
    {
      "cell_type": "markdown",
      "metadata": {
        "id": "Il7Xx9l_sE34"
      },
      "source": [
        "### Agora faça o seguinte"
      ]
    },
    {
      "cell_type": "markdown",
      "metadata": {
        "id": "Bat97tmvsE37"
      },
      "source": [
        "#### Obter a soma de todos os valores no \"mat\""
      ]
    },
    {
      "cell_type": "code",
      "metadata": {
        "id": "73dHcoRNsE39",
        "outputId": "48034e1a-c131-4e2f-91cc-c70d30e2964a",
        "colab": {
          "base_uri": "https://localhost:8080/",
          "height": 34
        }
      },
      "source": [
        "np.sum(mat)\n",
        "# mat.sum()"
      ],
      "execution_count": null,
      "outputs": [
        {
          "output_type": "execute_result",
          "data": {
            "text/plain": [
              "325"
            ]
          },
          "metadata": {
            "tags": []
          },
          "execution_count": 27
        }
      ]
    },
    {
      "cell_type": "markdown",
      "metadata": {
        "id": "RbaL5G1hsE4D"
      },
      "source": [
        "#### Obter o desvio padrão dos valores em mat"
      ]
    },
    {
      "cell_type": "code",
      "metadata": {
        "id": "CG2A_NajsE4F",
        "outputId": "8feeabbd-6cf1-4f34-fd3b-a3bbb4f25034",
        "colab": {
          "base_uri": "https://localhost:8080/",
          "height": 34
        }
      },
      "source": [
        "np.std(mat)"
      ],
      "execution_count": null,
      "outputs": [
        {
          "output_type": "execute_result",
          "data": {
            "text/plain": [
              "7.211102550927978"
            ]
          },
          "metadata": {
            "tags": []
          },
          "execution_count": 28
        }
      ]
    },
    {
      "cell_type": "markdown",
      "metadata": {
        "id": "E7bzwv4zsE4P"
      },
      "source": [
        "#### Obter a soma de todas as colunas em mat"
      ]
    },
    {
      "cell_type": "code",
      "metadata": {
        "id": "lHwGDtMDsE4Q",
        "outputId": "3e3f57e3-2241-4d7e-fc4a-e8d656c8d5dc",
        "colab": {
          "base_uri": "https://localhost:8080/",
          "height": 34
        }
      },
      "source": [
        "mat.sum(axis=0) # .sum(axis=0) é soma das colunas e axis=1 é soma das linhas"
      ],
      "execution_count": null,
      "outputs": [
        {
          "output_type": "execute_result",
          "data": {
            "text/plain": [
              "array([55, 60, 65, 70, 75])"
            ]
          },
          "metadata": {
            "tags": []
          },
          "execution_count": 29
        }
      ]
    },
    {
      "cell_type": "code",
      "metadata": {
        "id": "ZpeC7oeXf6tS"
      },
      "source": [
        ""
      ],
      "execution_count": null,
      "outputs": []
    }
  ]
}