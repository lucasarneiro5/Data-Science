{
  "nbformat": 4,
  "nbformat_minor": 0,
  "metadata": {
    "colab": {
      "name": "Análise de Dados - Banco 'kc_house_data.csv'",
      "provenance": [],
      "collapsed_sections": []
    },
    "kernelspec": {
      "name": "python3",
      "display_name": "Python 3"
    }
  },
  "cells": [
    {
      "cell_type": "markdown",
      "metadata": {
        "id": "jWZXFgWII0PV"
      },
      "source": [
        "# **Análise do banco de Dados 'kc_house_data.csv'**\n",
        "\n",
        "\n",
        "\n",
        "> Autor: Lucas Arneiro Vieira\n",
        "\n",
        "\n",
        "> Data: 05/03/2020\n",
        "\n",
        "\n",
        "\n",
        "> Curso: DataScience do Zero\n",
        "\n",
        "\n",
        "\n",
        "\n",
        "\n"
      ]
    },
    {
      "cell_type": "code",
      "metadata": {
        "id": "4h-G1aUSKPK7"
      },
      "source": [
        "import pandas as pd\n",
        "import numpy as np"
      ],
      "execution_count": null,
      "outputs": []
    },
    {
      "cell_type": "code",
      "metadata": {
        "id": "aQbNBeh3JjlT"
      },
      "source": [
        "# Calling dataset\n",
        "data = \"https://raw.githubusercontent.com/llSourcell/math_of_machine_learning/master/kc_house_data.csv\"\n",
        "df = pd.read_csv(data,  dtype = {\"Embarked\" : \"category\", \"Survived\": \"category\", \"Parch\": \"int32\"})"
      ],
      "execution_count": null,
      "outputs": []
    },
    {
      "cell_type": "markdown",
      "metadata": {
        "id": "CbVuiGVcYc-r"
      },
      "source": [
        "## **1) Using Dataframe:**"
      ]
    },
    {
      "cell_type": "markdown",
      "metadata": {
        "id": "QUmTrHa6MUBS"
      },
      "source": [
        "### A) How many lines in dataset?"
      ]
    },
    {
      "cell_type": "code",
      "metadata": {
        "id": "ys0AuTZ-Mtjq",
        "outputId": "cebc1e17-2326-4539-d639-bab89ce2304f",
        "colab": {
          "base_uri": "https://localhost:8080/",
          "height": 34
        }
      },
      "source": [
        "# 1ª Opcion\n",
        "len(df)"
      ],
      "execution_count": null,
      "outputs": [
        {
          "output_type": "execute_result",
          "data": {
            "text/plain": [
              "21613"
            ]
          },
          "metadata": {
            "tags": []
          },
          "execution_count": 29
        }
      ]
    },
    {
      "cell_type": "code",
      "metadata": {
        "id": "D9yUCXZEO259",
        "outputId": "6d9e407b-5116-4754-a74c-fe5eac83500b",
        "colab": {
          "base_uri": "https://localhost:8080/",
          "height": 391
        }
      },
      "source": [
        "# 2nd Option\n",
        "df.count()"
      ],
      "execution_count": null,
      "outputs": [
        {
          "output_type": "execute_result",
          "data": {
            "text/plain": [
              "id               21613\n",
              "date             21613\n",
              "price            21613\n",
              "bedrooms         21613\n",
              "bathrooms        21613\n",
              "sqft_living      21613\n",
              "sqft_lot         21613\n",
              "floors           21613\n",
              "waterfront       21613\n",
              "view             21613\n",
              "condition        21613\n",
              "grade            21613\n",
              "sqft_above       21613\n",
              "sqft_basement    21613\n",
              "yr_built         21613\n",
              "yr_renovated     21613\n",
              "zipcode          21613\n",
              "lat              21613\n",
              "long             21613\n",
              "sqft_living15    21613\n",
              "sqft_lot15       21613\n",
              "dtype: int64"
            ]
          },
          "metadata": {
            "tags": []
          },
          "execution_count": 30
        }
      ]
    },
    {
      "cell_type": "markdown",
      "metadata": {
        "id": "NMsl09JpPzAm"
      },
      "source": [
        "### B) Print data infos from your Dataframe"
      ]
    },
    {
      "cell_type": "code",
      "metadata": {
        "id": "OGtyhebKNSDH",
        "outputId": "0ba81a3e-fa06-4e77-9809-51f4ba7aa524",
        "colab": {
          "base_uri": "https://localhost:8080/",
          "height": 459
        }
      },
      "source": [
        "df.info()"
      ],
      "execution_count": null,
      "outputs": [
        {
          "output_type": "stream",
          "text": [
            "<class 'pandas.core.frame.DataFrame'>\n",
            "RangeIndex: 21613 entries, 0 to 21612\n",
            "Data columns (total 21 columns):\n",
            "id               21613 non-null int64\n",
            "date             21613 non-null object\n",
            "price            21613 non-null float64\n",
            "bedrooms         21613 non-null int64\n",
            "bathrooms        21613 non-null float64\n",
            "sqft_living      21613 non-null int64\n",
            "sqft_lot         21613 non-null int64\n",
            "floors           21613 non-null float64\n",
            "waterfront       21613 non-null int64\n",
            "view             21613 non-null int64\n",
            "condition        21613 non-null int64\n",
            "grade            21613 non-null int64\n",
            "sqft_above       21613 non-null int64\n",
            "sqft_basement    21613 non-null int64\n",
            "yr_built         21613 non-null int64\n",
            "yr_renovated     21613 non-null int64\n",
            "zipcode          21613 non-null int64\n",
            "lat              21613 non-null float64\n",
            "long             21613 non-null float64\n",
            "sqft_living15    21613 non-null int64\n",
            "sqft_lot15       21613 non-null int64\n",
            "dtypes: float64(5), int64(15), object(1)\n",
            "memory usage: 3.5+ MB\n"
          ],
          "name": "stdout"
        }
      ]
    },
    {
      "cell_type": "markdown",
      "metadata": {
        "id": "N5Zmw8zBQmCS"
      },
      "source": [
        "### C) Print columns names"
      ]
    },
    {
      "cell_type": "code",
      "metadata": {
        "id": "1D4itIHfNfD3",
        "outputId": "ff75cafe-f215-432d-f758-f3517e1064fa",
        "colab": {
          "base_uri": "https://localhost:8080/",
          "height": 102
        }
      },
      "source": [
        "df.columns"
      ],
      "execution_count": null,
      "outputs": [
        {
          "output_type": "execute_result",
          "data": {
            "text/plain": [
              "Index(['id', 'date', 'price', 'bedrooms', 'bathrooms', 'sqft_living',\n",
              "       'sqft_lot', 'floors', 'waterfront', 'view', 'condition', 'grade',\n",
              "       'sqft_above', 'sqft_basement', 'yr_built', 'yr_renovated', 'zipcode',\n",
              "       'lat', 'long', 'sqft_living15', 'sqft_lot15'],\n",
              "      dtype='object')"
            ]
          },
          "metadata": {
            "tags": []
          },
          "execution_count": 32
        }
      ]
    },
    {
      "cell_type": "markdown",
      "metadata": {
        "id": "GV4D9ju1Qc8s"
      },
      "source": [
        "### D) Print statistics columns from 'bedrooms'"
      ]
    },
    {
      "cell_type": "code",
      "metadata": {
        "id": "laWeadZMOBVE",
        "outputId": "05c0cdad-a9c2-4a92-9c5c-e7ff6793a890",
        "colab": {
          "base_uri": "https://localhost:8080/",
          "height": 170
        }
      },
      "source": [
        "df['bedrooms'].describe()"
      ],
      "execution_count": null,
      "outputs": [
        {
          "output_type": "execute_result",
          "data": {
            "text/plain": [
              "count    21613.000000\n",
              "mean         3.370842\n",
              "std          0.930062\n",
              "min          0.000000\n",
              "25%          3.000000\n",
              "50%          3.000000\n",
              "75%          4.000000\n",
              "max         33.000000\n",
              "Name: bedrooms, dtype: float64"
            ]
          },
          "metadata": {
            "tags": []
          },
          "execution_count": 33
        }
      ]
    },
    {
      "cell_type": "markdown",
      "metadata": {
        "id": "RTYVnj81RC7C"
      },
      "source": [
        "### E) Unique values from 'bedrooms'"
      ]
    },
    {
      "cell_type": "code",
      "metadata": {
        "id": "64VdSbl5Oi0m",
        "outputId": "b578fbae-060e-44f3-ee58-58bb7a274631",
        "colab": {
          "base_uri": "https://localhost:8080/",
          "height": 34
        }
      },
      "source": [
        "df['bedrooms'].unique()"
      ],
      "execution_count": null,
      "outputs": [
        {
          "output_type": "execute_result",
          "data": {
            "text/plain": [
              "array([ 3,  2,  4,  5,  1,  6,  7,  0,  8,  9, 11, 10, 33])"
            ]
          },
          "metadata": {
            "tags": []
          },
          "execution_count": 34
        }
      ]
    },
    {
      "cell_type": "markdown",
      "metadata": {
        "id": "t5NcqMdkXA39"
      },
      "source": [
        "### F) Mean value from 'bathrooms'\n",
        "\n"
      ]
    },
    {
      "cell_type": "code",
      "metadata": {
        "id": "lYx-tnI8OrIJ",
        "outputId": "50979ebe-472f-4c7c-abe8-fa92a07aba33",
        "colab": {
          "base_uri": "https://localhost:8080/",
          "height": 34
        }
      },
      "source": [
        "df['bedrooms'].mean()"
      ],
      "execution_count": null,
      "outputs": [
        {
          "output_type": "execute_result",
          "data": {
            "text/plain": [
              "3.37084162309721"
            ]
          },
          "metadata": {
            "tags": []
          },
          "execution_count": 35
        }
      ]
    },
    {
      "cell_type": "markdown",
      "metadata": {
        "id": "o_qS4lfYZD3k"
      },
      "source": [
        "## **2) How many null values?**"
      ]
    },
    {
      "cell_type": "code",
      "metadata": {
        "id": "3KgYIoiiOyv5",
        "outputId": "425600a3-4ce0-4c43-e0d8-8947a2761f36",
        "colab": {
          "base_uri": "https://localhost:8080/",
          "height": 391
        }
      },
      "source": [
        "df.notnull().count()"
      ],
      "execution_count": null,
      "outputs": [
        {
          "output_type": "execute_result",
          "data": {
            "text/plain": [
              "id               21613\n",
              "date             21613\n",
              "price            21613\n",
              "bedrooms         21613\n",
              "bathrooms        21613\n",
              "sqft_living      21613\n",
              "sqft_lot         21613\n",
              "floors           21613\n",
              "waterfront       21613\n",
              "view             21613\n",
              "condition        21613\n",
              "grade            21613\n",
              "sqft_above       21613\n",
              "sqft_basement    21613\n",
              "yr_built         21613\n",
              "yr_renovated     21613\n",
              "zipcode          21613\n",
              "lat              21613\n",
              "long             21613\n",
              "sqft_living15    21613\n",
              "sqft_lot15       21613\n",
              "dtype: int64"
            ]
          },
          "metadata": {
            "tags": []
          },
          "execution_count": 36
        }
      ]
    },
    {
      "cell_type": "code",
      "metadata": {
        "id": "Qy-oi7AfjRq4",
        "outputId": "630dc402-15ab-4671-b738-1b5ec552a29a",
        "colab": {
          "base_uri": "https://localhost:8080/",
          "height": 391
        }
      },
      "source": [
        "df.isnull().count()"
      ],
      "execution_count": null,
      "outputs": [
        {
          "output_type": "execute_result",
          "data": {
            "text/plain": [
              "id               21613\n",
              "date             21613\n",
              "price            21613\n",
              "bedrooms         21613\n",
              "bathrooms        21613\n",
              "sqft_living      21613\n",
              "sqft_lot         21613\n",
              "floors           21613\n",
              "waterfront       21613\n",
              "view             21613\n",
              "condition        21613\n",
              "grade            21613\n",
              "sqft_above       21613\n",
              "sqft_basement    21613\n",
              "yr_built         21613\n",
              "yr_renovated     21613\n",
              "zipcode          21613\n",
              "lat              21613\n",
              "long             21613\n",
              "sqft_living15    21613\n",
              "sqft_lot15       21613\n",
              "dtype: int64"
            ]
          },
          "metadata": {
            "tags": []
          },
          "execution_count": 37
        }
      ]
    },
    {
      "cell_type": "markdown",
      "metadata": {
        "id": "QtQmMO7kbPWX"
      },
      "source": [
        "## **3) Remove all missing values?**"
      ]
    },
    {
      "cell_type": "code",
      "metadata": {
        "id": "XZKsiqISbp1b"
      },
      "source": [
        "df.dropna(inplace=True)"
      ],
      "execution_count": null,
      "outputs": []
    },
    {
      "cell_type": "markdown",
      "metadata": {
        "id": "zW5xnFrecy__"
      },
      "source": [
        "## **4) Replace '1' on missing values in 'bedrooms':**"
      ]
    },
    {
      "cell_type": "code",
      "metadata": {
        "id": "mRFh8Yo7c0hl"
      },
      "source": [
        "df['bedrooms'].fillna(1, inplace=True)"
      ],
      "execution_count": null,
      "outputs": []
    },
    {
      "cell_type": "markdown",
      "metadata": {
        "id": "8qemTGG0Hxla"
      },
      "source": [
        "## **5) Do :**"
      ]
    },
    {
      "cell_type": "markdown",
      "metadata": {
        "id": "Gbx2IjtVH-C5"
      },
      "source": [
        "### A) Return all apartaments with 'bathrooms' > 1:"
      ]
    },
    {
      "cell_type": "code",
      "metadata": {
        "id": "uCPUTDqRIHCv",
        "outputId": "3715a47b-90fa-4e45-ccd5-578b8afc1bc3",
        "colab": {
          "base_uri": "https://localhost:8080/",
          "height": 439
        }
      },
      "source": [
        "df.loc[(df['bathrooms']>1)]"
      ],
      "execution_count": null,
      "outputs": [
        {
          "output_type": "execute_result",
          "data": {
            "text/html": [
              "<div>\n",
              "<style scoped>\n",
              "    .dataframe tbody tr th:only-of-type {\n",
              "        vertical-align: middle;\n",
              "    }\n",
              "\n",
              "    .dataframe tbody tr th {\n",
              "        vertical-align: top;\n",
              "    }\n",
              "\n",
              "    .dataframe thead th {\n",
              "        text-align: right;\n",
              "    }\n",
              "</style>\n",
              "<table border=\"1\" class=\"dataframe\">\n",
              "  <thead>\n",
              "    <tr style=\"text-align: right;\">\n",
              "      <th></th>\n",
              "      <th>id</th>\n",
              "      <th>date</th>\n",
              "      <th>price</th>\n",
              "      <th>bedrooms</th>\n",
              "      <th>bathrooms</th>\n",
              "      <th>sqft_living</th>\n",
              "      <th>sqft_lot</th>\n",
              "      <th>floors</th>\n",
              "      <th>waterfront</th>\n",
              "      <th>view</th>\n",
              "      <th>condition</th>\n",
              "      <th>grade</th>\n",
              "      <th>sqft_above</th>\n",
              "      <th>sqft_basement</th>\n",
              "      <th>yr_built</th>\n",
              "      <th>yr_renovated</th>\n",
              "      <th>zipcode</th>\n",
              "      <th>lat</th>\n",
              "      <th>long</th>\n",
              "      <th>sqft_living15</th>\n",
              "      <th>sqft_lot15</th>\n",
              "    </tr>\n",
              "  </thead>\n",
              "  <tbody>\n",
              "    <tr>\n",
              "      <th>1</th>\n",
              "      <td>6414100192</td>\n",
              "      <td>20141209T000000</td>\n",
              "      <td>538000.0</td>\n",
              "      <td>3</td>\n",
              "      <td>2.25</td>\n",
              "      <td>2570</td>\n",
              "      <td>7242</td>\n",
              "      <td>2.0</td>\n",
              "      <td>0</td>\n",
              "      <td>0</td>\n",
              "      <td>3</td>\n",
              "      <td>7</td>\n",
              "      <td>2170</td>\n",
              "      <td>400</td>\n",
              "      <td>1951</td>\n",
              "      <td>1991</td>\n",
              "      <td>98125</td>\n",
              "      <td>47.7210</td>\n",
              "      <td>-122.319</td>\n",
              "      <td>1690</td>\n",
              "      <td>7639</td>\n",
              "    </tr>\n",
              "    <tr>\n",
              "      <th>3</th>\n",
              "      <td>2487200875</td>\n",
              "      <td>20141209T000000</td>\n",
              "      <td>604000.0</td>\n",
              "      <td>4</td>\n",
              "      <td>3.00</td>\n",
              "      <td>1960</td>\n",
              "      <td>5000</td>\n",
              "      <td>1.0</td>\n",
              "      <td>0</td>\n",
              "      <td>0</td>\n",
              "      <td>5</td>\n",
              "      <td>7</td>\n",
              "      <td>1050</td>\n",
              "      <td>910</td>\n",
              "      <td>1965</td>\n",
              "      <td>0</td>\n",
              "      <td>98136</td>\n",
              "      <td>47.5208</td>\n",
              "      <td>-122.393</td>\n",
              "      <td>1360</td>\n",
              "      <td>5000</td>\n",
              "    </tr>\n",
              "    <tr>\n",
              "      <th>4</th>\n",
              "      <td>1954400510</td>\n",
              "      <td>20150218T000000</td>\n",
              "      <td>510000.0</td>\n",
              "      <td>3</td>\n",
              "      <td>2.00</td>\n",
              "      <td>1680</td>\n",
              "      <td>8080</td>\n",
              "      <td>1.0</td>\n",
              "      <td>0</td>\n",
              "      <td>0</td>\n",
              "      <td>3</td>\n",
              "      <td>8</td>\n",
              "      <td>1680</td>\n",
              "      <td>0</td>\n",
              "      <td>1987</td>\n",
              "      <td>0</td>\n",
              "      <td>98074</td>\n",
              "      <td>47.6168</td>\n",
              "      <td>-122.045</td>\n",
              "      <td>1800</td>\n",
              "      <td>7503</td>\n",
              "    </tr>\n",
              "    <tr>\n",
              "      <th>5</th>\n",
              "      <td>7237550310</td>\n",
              "      <td>20140512T000000</td>\n",
              "      <td>1225000.0</td>\n",
              "      <td>4</td>\n",
              "      <td>4.50</td>\n",
              "      <td>5420</td>\n",
              "      <td>101930</td>\n",
              "      <td>1.0</td>\n",
              "      <td>0</td>\n",
              "      <td>0</td>\n",
              "      <td>3</td>\n",
              "      <td>11</td>\n",
              "      <td>3890</td>\n",
              "      <td>1530</td>\n",
              "      <td>2001</td>\n",
              "      <td>0</td>\n",
              "      <td>98053</td>\n",
              "      <td>47.6561</td>\n",
              "      <td>-122.005</td>\n",
              "      <td>4760</td>\n",
              "      <td>101930</td>\n",
              "    </tr>\n",
              "    <tr>\n",
              "      <th>6</th>\n",
              "      <td>1321400060</td>\n",
              "      <td>20140627T000000</td>\n",
              "      <td>257500.0</td>\n",
              "      <td>3</td>\n",
              "      <td>2.25</td>\n",
              "      <td>1715</td>\n",
              "      <td>6819</td>\n",
              "      <td>2.0</td>\n",
              "      <td>0</td>\n",
              "      <td>0</td>\n",
              "      <td>3</td>\n",
              "      <td>7</td>\n",
              "      <td>1715</td>\n",
              "      <td>0</td>\n",
              "      <td>1995</td>\n",
              "      <td>0</td>\n",
              "      <td>98003</td>\n",
              "      <td>47.3097</td>\n",
              "      <td>-122.327</td>\n",
              "      <td>2238</td>\n",
              "      <td>6819</td>\n",
              "    </tr>\n",
              "    <tr>\n",
              "      <th>...</th>\n",
              "      <td>...</td>\n",
              "      <td>...</td>\n",
              "      <td>...</td>\n",
              "      <td>...</td>\n",
              "      <td>...</td>\n",
              "      <td>...</td>\n",
              "      <td>...</td>\n",
              "      <td>...</td>\n",
              "      <td>...</td>\n",
              "      <td>...</td>\n",
              "      <td>...</td>\n",
              "      <td>...</td>\n",
              "      <td>...</td>\n",
              "      <td>...</td>\n",
              "      <td>...</td>\n",
              "      <td>...</td>\n",
              "      <td>...</td>\n",
              "      <td>...</td>\n",
              "      <td>...</td>\n",
              "      <td>...</td>\n",
              "      <td>...</td>\n",
              "    </tr>\n",
              "    <tr>\n",
              "      <th>21606</th>\n",
              "      <td>7936000429</td>\n",
              "      <td>20150326T000000</td>\n",
              "      <td>1007500.0</td>\n",
              "      <td>4</td>\n",
              "      <td>3.50</td>\n",
              "      <td>3510</td>\n",
              "      <td>7200</td>\n",
              "      <td>2.0</td>\n",
              "      <td>0</td>\n",
              "      <td>0</td>\n",
              "      <td>3</td>\n",
              "      <td>9</td>\n",
              "      <td>2600</td>\n",
              "      <td>910</td>\n",
              "      <td>2009</td>\n",
              "      <td>0</td>\n",
              "      <td>98136</td>\n",
              "      <td>47.5537</td>\n",
              "      <td>-122.398</td>\n",
              "      <td>2050</td>\n",
              "      <td>6200</td>\n",
              "    </tr>\n",
              "    <tr>\n",
              "      <th>21607</th>\n",
              "      <td>2997800021</td>\n",
              "      <td>20150219T000000</td>\n",
              "      <td>475000.0</td>\n",
              "      <td>3</td>\n",
              "      <td>2.50</td>\n",
              "      <td>1310</td>\n",
              "      <td>1294</td>\n",
              "      <td>2.0</td>\n",
              "      <td>0</td>\n",
              "      <td>0</td>\n",
              "      <td>3</td>\n",
              "      <td>8</td>\n",
              "      <td>1180</td>\n",
              "      <td>130</td>\n",
              "      <td>2008</td>\n",
              "      <td>0</td>\n",
              "      <td>98116</td>\n",
              "      <td>47.5773</td>\n",
              "      <td>-122.409</td>\n",
              "      <td>1330</td>\n",
              "      <td>1265</td>\n",
              "    </tr>\n",
              "    <tr>\n",
              "      <th>21608</th>\n",
              "      <td>263000018</td>\n",
              "      <td>20140521T000000</td>\n",
              "      <td>360000.0</td>\n",
              "      <td>3</td>\n",
              "      <td>2.50</td>\n",
              "      <td>1530</td>\n",
              "      <td>1131</td>\n",
              "      <td>3.0</td>\n",
              "      <td>0</td>\n",
              "      <td>0</td>\n",
              "      <td>3</td>\n",
              "      <td>8</td>\n",
              "      <td>1530</td>\n",
              "      <td>0</td>\n",
              "      <td>2009</td>\n",
              "      <td>0</td>\n",
              "      <td>98103</td>\n",
              "      <td>47.6993</td>\n",
              "      <td>-122.346</td>\n",
              "      <td>1530</td>\n",
              "      <td>1509</td>\n",
              "    </tr>\n",
              "    <tr>\n",
              "      <th>21609</th>\n",
              "      <td>6600060120</td>\n",
              "      <td>20150223T000000</td>\n",
              "      <td>400000.0</td>\n",
              "      <td>4</td>\n",
              "      <td>2.50</td>\n",
              "      <td>2310</td>\n",
              "      <td>5813</td>\n",
              "      <td>2.0</td>\n",
              "      <td>0</td>\n",
              "      <td>0</td>\n",
              "      <td>3</td>\n",
              "      <td>8</td>\n",
              "      <td>2310</td>\n",
              "      <td>0</td>\n",
              "      <td>2014</td>\n",
              "      <td>0</td>\n",
              "      <td>98146</td>\n",
              "      <td>47.5107</td>\n",
              "      <td>-122.362</td>\n",
              "      <td>1830</td>\n",
              "      <td>7200</td>\n",
              "    </tr>\n",
              "    <tr>\n",
              "      <th>21611</th>\n",
              "      <td>291310100</td>\n",
              "      <td>20150116T000000</td>\n",
              "      <td>400000.0</td>\n",
              "      <td>3</td>\n",
              "      <td>2.50</td>\n",
              "      <td>1600</td>\n",
              "      <td>2388</td>\n",
              "      <td>2.0</td>\n",
              "      <td>0</td>\n",
              "      <td>0</td>\n",
              "      <td>3</td>\n",
              "      <td>8</td>\n",
              "      <td>1600</td>\n",
              "      <td>0</td>\n",
              "      <td>2004</td>\n",
              "      <td>0</td>\n",
              "      <td>98027</td>\n",
              "      <td>47.5345</td>\n",
              "      <td>-122.069</td>\n",
              "      <td>1410</td>\n",
              "      <td>1287</td>\n",
              "    </tr>\n",
              "  </tbody>\n",
              "</table>\n",
              "<p>17675 rows × 21 columns</p>\n",
              "</div>"
            ],
            "text/plain": [
              "               id             date  ...  sqft_living15  sqft_lot15\n",
              "1      6414100192  20141209T000000  ...           1690        7639\n",
              "3      2487200875  20141209T000000  ...           1360        5000\n",
              "4      1954400510  20150218T000000  ...           1800        7503\n",
              "5      7237550310  20140512T000000  ...           4760      101930\n",
              "6      1321400060  20140627T000000  ...           2238        6819\n",
              "...           ...              ...  ...            ...         ...\n",
              "21606  7936000429  20150326T000000  ...           2050        6200\n",
              "21607  2997800021  20150219T000000  ...           1330        1265\n",
              "21608   263000018  20140521T000000  ...           1530        1509\n",
              "21609  6600060120  20150223T000000  ...           1830        7200\n",
              "21611   291310100  20150116T000000  ...           1410        1287\n",
              "\n",
              "[17675 rows x 21 columns]"
            ]
          },
          "metadata": {
            "tags": []
          },
          "execution_count": 40
        }
      ]
    },
    {
      "cell_type": "code",
      "metadata": {
        "id": "oh8ic99QKu9o",
        "outputId": "bb13bf68-72eb-43af-bf7b-a051d443078d",
        "colab": {
          "base_uri": "https://localhost:8080/",
          "height": 34
        }
      },
      "source": [
        "# Number of apartaments with bathrooms > 1\n",
        "len(df.loc[(df['bathrooms']>1)])"
      ],
      "execution_count": null,
      "outputs": [
        {
          "output_type": "execute_result",
          "data": {
            "text/plain": [
              "17675"
            ]
          },
          "metadata": {
            "tags": []
          },
          "execution_count": 41
        }
      ]
    },
    {
      "cell_type": "markdown",
      "metadata": {
        "id": "3MZPDC6FL-JR"
      },
      "source": [
        "### B) Return all apartaments with 'bedrooms' = 4:"
      ]
    },
    {
      "cell_type": "code",
      "metadata": {
        "id": "xNJTYn7xML2Z",
        "outputId": "79e58dee-2a3b-41b6-d4e0-450b2e32b6f0",
        "colab": {
          "base_uri": "https://localhost:8080/",
          "height": 439
        }
      },
      "source": [
        "df.loc[(df['bedrooms'] == 4)]"
      ],
      "execution_count": null,
      "outputs": [
        {
          "output_type": "execute_result",
          "data": {
            "text/html": [
              "<div>\n",
              "<style scoped>\n",
              "    .dataframe tbody tr th:only-of-type {\n",
              "        vertical-align: middle;\n",
              "    }\n",
              "\n",
              "    .dataframe tbody tr th {\n",
              "        vertical-align: top;\n",
              "    }\n",
              "\n",
              "    .dataframe thead th {\n",
              "        text-align: right;\n",
              "    }\n",
              "</style>\n",
              "<table border=\"1\" class=\"dataframe\">\n",
              "  <thead>\n",
              "    <tr style=\"text-align: right;\">\n",
              "      <th></th>\n",
              "      <th>id</th>\n",
              "      <th>date</th>\n",
              "      <th>price</th>\n",
              "      <th>bedrooms</th>\n",
              "      <th>bathrooms</th>\n",
              "      <th>sqft_living</th>\n",
              "      <th>sqft_lot</th>\n",
              "      <th>floors</th>\n",
              "      <th>waterfront</th>\n",
              "      <th>view</th>\n",
              "      <th>condition</th>\n",
              "      <th>grade</th>\n",
              "      <th>sqft_above</th>\n",
              "      <th>sqft_basement</th>\n",
              "      <th>yr_built</th>\n",
              "      <th>yr_renovated</th>\n",
              "      <th>zipcode</th>\n",
              "      <th>lat</th>\n",
              "      <th>long</th>\n",
              "      <th>sqft_living15</th>\n",
              "      <th>sqft_lot15</th>\n",
              "    </tr>\n",
              "  </thead>\n",
              "  <tbody>\n",
              "    <tr>\n",
              "      <th>3</th>\n",
              "      <td>2487200875</td>\n",
              "      <td>20141209T000000</td>\n",
              "      <td>604000.0</td>\n",
              "      <td>4</td>\n",
              "      <td>3.00</td>\n",
              "      <td>1960</td>\n",
              "      <td>5000</td>\n",
              "      <td>1.0</td>\n",
              "      <td>0</td>\n",
              "      <td>0</td>\n",
              "      <td>5</td>\n",
              "      <td>7</td>\n",
              "      <td>1050</td>\n",
              "      <td>910</td>\n",
              "      <td>1965</td>\n",
              "      <td>0</td>\n",
              "      <td>98136</td>\n",
              "      <td>47.5208</td>\n",
              "      <td>-122.393</td>\n",
              "      <td>1360</td>\n",
              "      <td>5000</td>\n",
              "    </tr>\n",
              "    <tr>\n",
              "      <th>5</th>\n",
              "      <td>7237550310</td>\n",
              "      <td>20140512T000000</td>\n",
              "      <td>1225000.0</td>\n",
              "      <td>4</td>\n",
              "      <td>4.50</td>\n",
              "      <td>5420</td>\n",
              "      <td>101930</td>\n",
              "      <td>1.0</td>\n",
              "      <td>0</td>\n",
              "      <td>0</td>\n",
              "      <td>3</td>\n",
              "      <td>11</td>\n",
              "      <td>3890</td>\n",
              "      <td>1530</td>\n",
              "      <td>2001</td>\n",
              "      <td>0</td>\n",
              "      <td>98053</td>\n",
              "      <td>47.6561</td>\n",
              "      <td>-122.005</td>\n",
              "      <td>4760</td>\n",
              "      <td>101930</td>\n",
              "    </tr>\n",
              "    <tr>\n",
              "      <th>15</th>\n",
              "      <td>9297300055</td>\n",
              "      <td>20150124T000000</td>\n",
              "      <td>650000.0</td>\n",
              "      <td>4</td>\n",
              "      <td>3.00</td>\n",
              "      <td>2950</td>\n",
              "      <td>5000</td>\n",
              "      <td>2.0</td>\n",
              "      <td>0</td>\n",
              "      <td>3</td>\n",
              "      <td>3</td>\n",
              "      <td>9</td>\n",
              "      <td>1980</td>\n",
              "      <td>970</td>\n",
              "      <td>1979</td>\n",
              "      <td>0</td>\n",
              "      <td>98126</td>\n",
              "      <td>47.5714</td>\n",
              "      <td>-122.375</td>\n",
              "      <td>2140</td>\n",
              "      <td>4000</td>\n",
              "    </tr>\n",
              "    <tr>\n",
              "      <th>17</th>\n",
              "      <td>6865200140</td>\n",
              "      <td>20140529T000000</td>\n",
              "      <td>485000.0</td>\n",
              "      <td>4</td>\n",
              "      <td>1.00</td>\n",
              "      <td>1600</td>\n",
              "      <td>4300</td>\n",
              "      <td>1.5</td>\n",
              "      <td>0</td>\n",
              "      <td>0</td>\n",
              "      <td>4</td>\n",
              "      <td>7</td>\n",
              "      <td>1600</td>\n",
              "      <td>0</td>\n",
              "      <td>1916</td>\n",
              "      <td>0</td>\n",
              "      <td>98103</td>\n",
              "      <td>47.6648</td>\n",
              "      <td>-122.343</td>\n",
              "      <td>1610</td>\n",
              "      <td>4300</td>\n",
              "    </tr>\n",
              "    <tr>\n",
              "      <th>20</th>\n",
              "      <td>6300500875</td>\n",
              "      <td>20140514T000000</td>\n",
              "      <td>385000.0</td>\n",
              "      <td>4</td>\n",
              "      <td>1.75</td>\n",
              "      <td>1620</td>\n",
              "      <td>4980</td>\n",
              "      <td>1.0</td>\n",
              "      <td>0</td>\n",
              "      <td>0</td>\n",
              "      <td>4</td>\n",
              "      <td>7</td>\n",
              "      <td>860</td>\n",
              "      <td>760</td>\n",
              "      <td>1947</td>\n",
              "      <td>0</td>\n",
              "      <td>98133</td>\n",
              "      <td>47.7025</td>\n",
              "      <td>-122.341</td>\n",
              "      <td>1400</td>\n",
              "      <td>4980</td>\n",
              "    </tr>\n",
              "    <tr>\n",
              "      <th>...</th>\n",
              "      <td>...</td>\n",
              "      <td>...</td>\n",
              "      <td>...</td>\n",
              "      <td>...</td>\n",
              "      <td>...</td>\n",
              "      <td>...</td>\n",
              "      <td>...</td>\n",
              "      <td>...</td>\n",
              "      <td>...</td>\n",
              "      <td>...</td>\n",
              "      <td>...</td>\n",
              "      <td>...</td>\n",
              "      <td>...</td>\n",
              "      <td>...</td>\n",
              "      <td>...</td>\n",
              "      <td>...</td>\n",
              "      <td>...</td>\n",
              "      <td>...</td>\n",
              "      <td>...</td>\n",
              "      <td>...</td>\n",
              "      <td>...</td>\n",
              "    </tr>\n",
              "    <tr>\n",
              "      <th>21598</th>\n",
              "      <td>8956200760</td>\n",
              "      <td>20141013T000000</td>\n",
              "      <td>541800.0</td>\n",
              "      <td>4</td>\n",
              "      <td>2.50</td>\n",
              "      <td>3118</td>\n",
              "      <td>7866</td>\n",
              "      <td>2.0</td>\n",
              "      <td>0</td>\n",
              "      <td>2</td>\n",
              "      <td>3</td>\n",
              "      <td>9</td>\n",
              "      <td>3118</td>\n",
              "      <td>0</td>\n",
              "      <td>2014</td>\n",
              "      <td>0</td>\n",
              "      <td>98001</td>\n",
              "      <td>47.2931</td>\n",
              "      <td>-122.264</td>\n",
              "      <td>2673</td>\n",
              "      <td>6500</td>\n",
              "    </tr>\n",
              "    <tr>\n",
              "      <th>21599</th>\n",
              "      <td>7202300110</td>\n",
              "      <td>20140915T000000</td>\n",
              "      <td>810000.0</td>\n",
              "      <td>4</td>\n",
              "      <td>3.00</td>\n",
              "      <td>3990</td>\n",
              "      <td>7838</td>\n",
              "      <td>2.0</td>\n",
              "      <td>0</td>\n",
              "      <td>0</td>\n",
              "      <td>3</td>\n",
              "      <td>9</td>\n",
              "      <td>3990</td>\n",
              "      <td>0</td>\n",
              "      <td>2003</td>\n",
              "      <td>0</td>\n",
              "      <td>98053</td>\n",
              "      <td>47.6857</td>\n",
              "      <td>-122.046</td>\n",
              "      <td>3370</td>\n",
              "      <td>6814</td>\n",
              "    </tr>\n",
              "    <tr>\n",
              "      <th>21605</th>\n",
              "      <td>3448900210</td>\n",
              "      <td>20141014T000000</td>\n",
              "      <td>610685.0</td>\n",
              "      <td>4</td>\n",
              "      <td>2.50</td>\n",
              "      <td>2520</td>\n",
              "      <td>6023</td>\n",
              "      <td>2.0</td>\n",
              "      <td>0</td>\n",
              "      <td>0</td>\n",
              "      <td>3</td>\n",
              "      <td>9</td>\n",
              "      <td>2520</td>\n",
              "      <td>0</td>\n",
              "      <td>2014</td>\n",
              "      <td>0</td>\n",
              "      <td>98056</td>\n",
              "      <td>47.5137</td>\n",
              "      <td>-122.167</td>\n",
              "      <td>2520</td>\n",
              "      <td>6023</td>\n",
              "    </tr>\n",
              "    <tr>\n",
              "      <th>21606</th>\n",
              "      <td>7936000429</td>\n",
              "      <td>20150326T000000</td>\n",
              "      <td>1007500.0</td>\n",
              "      <td>4</td>\n",
              "      <td>3.50</td>\n",
              "      <td>3510</td>\n",
              "      <td>7200</td>\n",
              "      <td>2.0</td>\n",
              "      <td>0</td>\n",
              "      <td>0</td>\n",
              "      <td>3</td>\n",
              "      <td>9</td>\n",
              "      <td>2600</td>\n",
              "      <td>910</td>\n",
              "      <td>2009</td>\n",
              "      <td>0</td>\n",
              "      <td>98136</td>\n",
              "      <td>47.5537</td>\n",
              "      <td>-122.398</td>\n",
              "      <td>2050</td>\n",
              "      <td>6200</td>\n",
              "    </tr>\n",
              "    <tr>\n",
              "      <th>21609</th>\n",
              "      <td>6600060120</td>\n",
              "      <td>20150223T000000</td>\n",
              "      <td>400000.0</td>\n",
              "      <td>4</td>\n",
              "      <td>2.50</td>\n",
              "      <td>2310</td>\n",
              "      <td>5813</td>\n",
              "      <td>2.0</td>\n",
              "      <td>0</td>\n",
              "      <td>0</td>\n",
              "      <td>3</td>\n",
              "      <td>8</td>\n",
              "      <td>2310</td>\n",
              "      <td>0</td>\n",
              "      <td>2014</td>\n",
              "      <td>0</td>\n",
              "      <td>98146</td>\n",
              "      <td>47.5107</td>\n",
              "      <td>-122.362</td>\n",
              "      <td>1830</td>\n",
              "      <td>7200</td>\n",
              "    </tr>\n",
              "  </tbody>\n",
              "</table>\n",
              "<p>6882 rows × 21 columns</p>\n",
              "</div>"
            ],
            "text/plain": [
              "               id             date  ...  sqft_living15  sqft_lot15\n",
              "3      2487200875  20141209T000000  ...           1360        5000\n",
              "5      7237550310  20140512T000000  ...           4760      101930\n",
              "15     9297300055  20150124T000000  ...           2140        4000\n",
              "17     6865200140  20140529T000000  ...           1610        4300\n",
              "20     6300500875  20140514T000000  ...           1400        4980\n",
              "...           ...              ...  ...            ...         ...\n",
              "21598  8956200760  20141013T000000  ...           2673        6500\n",
              "21599  7202300110  20140915T000000  ...           3370        6814\n",
              "21605  3448900210  20141014T000000  ...           2520        6023\n",
              "21606  7936000429  20150326T000000  ...           2050        6200\n",
              "21609  6600060120  20150223T000000  ...           1830        7200\n",
              "\n",
              "[6882 rows x 21 columns]"
            ]
          },
          "metadata": {
            "tags": []
          },
          "execution_count": 42
        }
      ]
    },
    {
      "cell_type": "code",
      "metadata": {
        "id": "D72nruw9MXrU",
        "outputId": "b580f72c-2b9d-4eea-a3a5-febbbfc40fcc",
        "colab": {
          "base_uri": "https://localhost:8080/",
          "height": 34
        }
      },
      "source": [
        "# Number of apartaments with bedrooms = 4\n",
        "len(df.loc[(df['bedrooms'] == 4)]) # or df.loc[(df['bedrooms'] ==4)].count()"
      ],
      "execution_count": null,
      "outputs": [
        {
          "output_type": "execute_result",
          "data": {
            "text/plain": [
              "6882"
            ]
          },
          "metadata": {
            "tags": []
          },
          "execution_count": 43
        }
      ]
    },
    {
      "cell_type": "markdown",
      "metadata": {
        "id": "H3h_NaBA2e08"
      },
      "source": [
        "### C) Order 'price' column in descending order"
      ]
    },
    {
      "cell_type": "code",
      "metadata": {
        "id": "QTPyaA9t4GQ8",
        "outputId": "a8fd0749-6477-4a82-a049-37dc28462638",
        "colab": {
          "base_uri": "https://localhost:8080/",
          "height": 439
        }
      },
      "source": [
        "df.sort_values(by='price', ascending=False)"
      ],
      "execution_count": null,
      "outputs": [
        {
          "output_type": "execute_result",
          "data": {
            "text/html": [
              "<div>\n",
              "<style scoped>\n",
              "    .dataframe tbody tr th:only-of-type {\n",
              "        vertical-align: middle;\n",
              "    }\n",
              "\n",
              "    .dataframe tbody tr th {\n",
              "        vertical-align: top;\n",
              "    }\n",
              "\n",
              "    .dataframe thead th {\n",
              "        text-align: right;\n",
              "    }\n",
              "</style>\n",
              "<table border=\"1\" class=\"dataframe\">\n",
              "  <thead>\n",
              "    <tr style=\"text-align: right;\">\n",
              "      <th></th>\n",
              "      <th>id</th>\n",
              "      <th>date</th>\n",
              "      <th>price</th>\n",
              "      <th>bedrooms</th>\n",
              "      <th>bathrooms</th>\n",
              "      <th>sqft_living</th>\n",
              "      <th>sqft_lot</th>\n",
              "      <th>floors</th>\n",
              "      <th>waterfront</th>\n",
              "      <th>view</th>\n",
              "      <th>condition</th>\n",
              "      <th>grade</th>\n",
              "      <th>sqft_above</th>\n",
              "      <th>sqft_basement</th>\n",
              "      <th>yr_built</th>\n",
              "      <th>yr_renovated</th>\n",
              "      <th>zipcode</th>\n",
              "      <th>lat</th>\n",
              "      <th>long</th>\n",
              "      <th>sqft_living15</th>\n",
              "      <th>sqft_lot15</th>\n",
              "    </tr>\n",
              "  </thead>\n",
              "  <tbody>\n",
              "    <tr>\n",
              "      <th>7252</th>\n",
              "      <td>6762700020</td>\n",
              "      <td>20141013T000000</td>\n",
              "      <td>7700000.0</td>\n",
              "      <td>6</td>\n",
              "      <td>8.00</td>\n",
              "      <td>12050</td>\n",
              "      <td>27600</td>\n",
              "      <td>2.5</td>\n",
              "      <td>0</td>\n",
              "      <td>3</td>\n",
              "      <td>4</td>\n",
              "      <td>13</td>\n",
              "      <td>8570</td>\n",
              "      <td>3480</td>\n",
              "      <td>1910</td>\n",
              "      <td>1987</td>\n",
              "      <td>98102</td>\n",
              "      <td>47.6298</td>\n",
              "      <td>-122.323</td>\n",
              "      <td>3940</td>\n",
              "      <td>8800</td>\n",
              "    </tr>\n",
              "    <tr>\n",
              "      <th>3914</th>\n",
              "      <td>9808700762</td>\n",
              "      <td>20140611T000000</td>\n",
              "      <td>7062500.0</td>\n",
              "      <td>5</td>\n",
              "      <td>4.50</td>\n",
              "      <td>10040</td>\n",
              "      <td>37325</td>\n",
              "      <td>2.0</td>\n",
              "      <td>1</td>\n",
              "      <td>2</td>\n",
              "      <td>3</td>\n",
              "      <td>11</td>\n",
              "      <td>7680</td>\n",
              "      <td>2360</td>\n",
              "      <td>1940</td>\n",
              "      <td>2001</td>\n",
              "      <td>98004</td>\n",
              "      <td>47.6500</td>\n",
              "      <td>-122.214</td>\n",
              "      <td>3930</td>\n",
              "      <td>25449</td>\n",
              "    </tr>\n",
              "    <tr>\n",
              "      <th>9254</th>\n",
              "      <td>9208900037</td>\n",
              "      <td>20140919T000000</td>\n",
              "      <td>6885000.0</td>\n",
              "      <td>6</td>\n",
              "      <td>7.75</td>\n",
              "      <td>9890</td>\n",
              "      <td>31374</td>\n",
              "      <td>2.0</td>\n",
              "      <td>0</td>\n",
              "      <td>4</td>\n",
              "      <td>3</td>\n",
              "      <td>13</td>\n",
              "      <td>8860</td>\n",
              "      <td>1030</td>\n",
              "      <td>2001</td>\n",
              "      <td>0</td>\n",
              "      <td>98039</td>\n",
              "      <td>47.6305</td>\n",
              "      <td>-122.240</td>\n",
              "      <td>4540</td>\n",
              "      <td>42730</td>\n",
              "    </tr>\n",
              "    <tr>\n",
              "      <th>4411</th>\n",
              "      <td>2470100110</td>\n",
              "      <td>20140804T000000</td>\n",
              "      <td>5570000.0</td>\n",
              "      <td>5</td>\n",
              "      <td>5.75</td>\n",
              "      <td>9200</td>\n",
              "      <td>35069</td>\n",
              "      <td>2.0</td>\n",
              "      <td>0</td>\n",
              "      <td>0</td>\n",
              "      <td>3</td>\n",
              "      <td>13</td>\n",
              "      <td>6200</td>\n",
              "      <td>3000</td>\n",
              "      <td>2001</td>\n",
              "      <td>0</td>\n",
              "      <td>98039</td>\n",
              "      <td>47.6289</td>\n",
              "      <td>-122.233</td>\n",
              "      <td>3560</td>\n",
              "      <td>24345</td>\n",
              "    </tr>\n",
              "    <tr>\n",
              "      <th>1448</th>\n",
              "      <td>8907500070</td>\n",
              "      <td>20150413T000000</td>\n",
              "      <td>5350000.0</td>\n",
              "      <td>5</td>\n",
              "      <td>5.00</td>\n",
              "      <td>8000</td>\n",
              "      <td>23985</td>\n",
              "      <td>2.0</td>\n",
              "      <td>0</td>\n",
              "      <td>4</td>\n",
              "      <td>3</td>\n",
              "      <td>12</td>\n",
              "      <td>6720</td>\n",
              "      <td>1280</td>\n",
              "      <td>2009</td>\n",
              "      <td>0</td>\n",
              "      <td>98004</td>\n",
              "      <td>47.6232</td>\n",
              "      <td>-122.220</td>\n",
              "      <td>4600</td>\n",
              "      <td>21750</td>\n",
              "    </tr>\n",
              "    <tr>\n",
              "      <th>...</th>\n",
              "      <td>...</td>\n",
              "      <td>...</td>\n",
              "      <td>...</td>\n",
              "      <td>...</td>\n",
              "      <td>...</td>\n",
              "      <td>...</td>\n",
              "      <td>...</td>\n",
              "      <td>...</td>\n",
              "      <td>...</td>\n",
              "      <td>...</td>\n",
              "      <td>...</td>\n",
              "      <td>...</td>\n",
              "      <td>...</td>\n",
              "      <td>...</td>\n",
              "      <td>...</td>\n",
              "      <td>...</td>\n",
              "      <td>...</td>\n",
              "      <td>...</td>\n",
              "      <td>...</td>\n",
              "      <td>...</td>\n",
              "      <td>...</td>\n",
              "    </tr>\n",
              "    <tr>\n",
              "      <th>8274</th>\n",
              "      <td>3883800011</td>\n",
              "      <td>20141105T000000</td>\n",
              "      <td>82000.0</td>\n",
              "      <td>3</td>\n",
              "      <td>1.00</td>\n",
              "      <td>860</td>\n",
              "      <td>10426</td>\n",
              "      <td>1.0</td>\n",
              "      <td>0</td>\n",
              "      <td>0</td>\n",
              "      <td>3</td>\n",
              "      <td>6</td>\n",
              "      <td>860</td>\n",
              "      <td>0</td>\n",
              "      <td>1954</td>\n",
              "      <td>0</td>\n",
              "      <td>98146</td>\n",
              "      <td>47.4987</td>\n",
              "      <td>-122.341</td>\n",
              "      <td>1140</td>\n",
              "      <td>11250</td>\n",
              "    </tr>\n",
              "    <tr>\n",
              "      <th>16198</th>\n",
              "      <td>3028200080</td>\n",
              "      <td>20150324T000000</td>\n",
              "      <td>81000.0</td>\n",
              "      <td>2</td>\n",
              "      <td>1.00</td>\n",
              "      <td>730</td>\n",
              "      <td>9975</td>\n",
              "      <td>1.0</td>\n",
              "      <td>0</td>\n",
              "      <td>0</td>\n",
              "      <td>1</td>\n",
              "      <td>5</td>\n",
              "      <td>730</td>\n",
              "      <td>0</td>\n",
              "      <td>1943</td>\n",
              "      <td>0</td>\n",
              "      <td>98168</td>\n",
              "      <td>47.4808</td>\n",
              "      <td>-122.315</td>\n",
              "      <td>860</td>\n",
              "      <td>9000</td>\n",
              "    </tr>\n",
              "    <tr>\n",
              "      <th>465</th>\n",
              "      <td>8658300340</td>\n",
              "      <td>20140523T000000</td>\n",
              "      <td>80000.0</td>\n",
              "      <td>1</td>\n",
              "      <td>0.75</td>\n",
              "      <td>430</td>\n",
              "      <td>5050</td>\n",
              "      <td>1.0</td>\n",
              "      <td>0</td>\n",
              "      <td>0</td>\n",
              "      <td>2</td>\n",
              "      <td>4</td>\n",
              "      <td>430</td>\n",
              "      <td>0</td>\n",
              "      <td>1912</td>\n",
              "      <td>0</td>\n",
              "      <td>98014</td>\n",
              "      <td>47.6499</td>\n",
              "      <td>-121.909</td>\n",
              "      <td>1200</td>\n",
              "      <td>7500</td>\n",
              "    </tr>\n",
              "    <tr>\n",
              "      <th>15293</th>\n",
              "      <td>40000362</td>\n",
              "      <td>20140506T000000</td>\n",
              "      <td>78000.0</td>\n",
              "      <td>2</td>\n",
              "      <td>1.00</td>\n",
              "      <td>780</td>\n",
              "      <td>16344</td>\n",
              "      <td>1.0</td>\n",
              "      <td>0</td>\n",
              "      <td>0</td>\n",
              "      <td>1</td>\n",
              "      <td>5</td>\n",
              "      <td>780</td>\n",
              "      <td>0</td>\n",
              "      <td>1942</td>\n",
              "      <td>0</td>\n",
              "      <td>98168</td>\n",
              "      <td>47.4739</td>\n",
              "      <td>-122.280</td>\n",
              "      <td>1700</td>\n",
              "      <td>10387</td>\n",
              "    </tr>\n",
              "    <tr>\n",
              "      <th>1149</th>\n",
              "      <td>3421079032</td>\n",
              "      <td>20150217T000000</td>\n",
              "      <td>75000.0</td>\n",
              "      <td>1</td>\n",
              "      <td>0.00</td>\n",
              "      <td>670</td>\n",
              "      <td>43377</td>\n",
              "      <td>1.0</td>\n",
              "      <td>0</td>\n",
              "      <td>0</td>\n",
              "      <td>3</td>\n",
              "      <td>3</td>\n",
              "      <td>670</td>\n",
              "      <td>0</td>\n",
              "      <td>1966</td>\n",
              "      <td>0</td>\n",
              "      <td>98022</td>\n",
              "      <td>47.2638</td>\n",
              "      <td>-121.906</td>\n",
              "      <td>1160</td>\n",
              "      <td>42882</td>\n",
              "    </tr>\n",
              "  </tbody>\n",
              "</table>\n",
              "<p>21613 rows × 21 columns</p>\n",
              "</div>"
            ],
            "text/plain": [
              "               id             date  ...  sqft_living15  sqft_lot15\n",
              "7252   6762700020  20141013T000000  ...           3940        8800\n",
              "3914   9808700762  20140611T000000  ...           3930       25449\n",
              "9254   9208900037  20140919T000000  ...           4540       42730\n",
              "4411   2470100110  20140804T000000  ...           3560       24345\n",
              "1448   8907500070  20150413T000000  ...           4600       21750\n",
              "...           ...              ...  ...            ...         ...\n",
              "8274   3883800011  20141105T000000  ...           1140       11250\n",
              "16198  3028200080  20150324T000000  ...            860        9000\n",
              "465    8658300340  20140523T000000  ...           1200        7500\n",
              "15293    40000362  20140506T000000  ...           1700       10387\n",
              "1149   3421079032  20150217T000000  ...           1160       42882\n",
              "\n",
              "[21613 rows x 21 columns]"
            ]
          },
          "metadata": {
            "tags": []
          },
          "execution_count": 44
        }
      ]
    },
    {
      "cell_type": "markdown",
      "metadata": {
        "id": "zGwnlm6q5xiD"
      },
      "source": [
        "### D) Organize number of rooms x size of the rooms"
      ]
    },
    {
      "cell_type": "code",
      "metadata": {
        "id": "aagIM6015t9L",
        "outputId": "9ab43322-6a22-4c22-e947-29e20cbacee9",
        "colab": {
          "base_uri": "https://localhost:8080/",
          "height": 255
        }
      },
      "source": [
        "pd.value_counts(df['bedrooms'])"
      ],
      "execution_count": null,
      "outputs": [
        {
          "output_type": "execute_result",
          "data": {
            "text/plain": [
              "3     9824\n",
              "4     6882\n",
              "2     2760\n",
              "5     1601\n",
              "6      272\n",
              "1      199\n",
              "7       38\n",
              "8       13\n",
              "0       13\n",
              "9        6\n",
              "10       3\n",
              "11       1\n",
              "33       1\n",
              "Name: bedrooms, dtype: int64"
            ]
          },
          "metadata": {
            "tags": []
          },
          "execution_count": 45
        }
      ]
    },
    {
      "cell_type": "markdown",
      "metadata": {
        "id": "JsiEpaKG6hsX"
      },
      "source": [
        "## **6) Build a column called 'comodos' that is the sum with 'bathrooms' and 'bedroom' :**"
      ]
    },
    {
      "cell_type": "code",
      "metadata": {
        "id": "1elYGmJJ6ysb"
      },
      "source": [
        "df['comodos'] = (df['bathrooms'] + df['bedrooms'])"
      ],
      "execution_count": null,
      "outputs": []
    },
    {
      "cell_type": "markdown",
      "metadata": {
        "id": "ET1lx9HB-fh0"
      },
      "source": [
        "## **7) Visualize a histogram graph with real estate's price :**"
      ]
    },
    {
      "cell_type": "code",
      "metadata": {
        "id": "HW9yZaPv-zHs"
      },
      "source": [
        "import matplotlib.pyplot as plt"
      ],
      "execution_count": null,
      "outputs": []
    },
    {
      "cell_type": "code",
      "metadata": {
        "id": "tjJNP8ahG2DV",
        "outputId": "2a00efda-8aa2-4430-965c-55ae46580077",
        "colab": {
          "base_uri": "https://localhost:8080/",
          "height": 284
        }
      },
      "source": [
        "df['price'].plot()"
      ],
      "execution_count": null,
      "outputs": [
        {
          "output_type": "execute_result",
          "data": {
            "text/plain": [
              "<matplotlib.axes._subplots.AxesSubplot at 0x7f7d7b6d7550>"
            ]
          },
          "metadata": {
            "tags": []
          },
          "execution_count": 49
        },
        {
          "output_type": "display_data",
          "data": {
            "image/png": "[encoded data removed]",
            "text/plain": [
              "<Figure size 432x288 with 1 Axes>"
            ]
          },
          "metadata": {
            "tags": []
          }
        }
      ]
    },
    {
      "cell_type": "markdown",
      "metadata": {
        "id": "fEGLw55JHprs"
      },
      "source": [
        "## **8) Using dispersion format, show 'bathrooms' and 'price' :**"
      ]
    },
    {
      "cell_type": "code",
      "metadata": {
        "id": "fxZFNw98HlfF",
        "outputId": "102abaad-8d7d-4cc2-ade6-1f80c1035b21",
        "colab": {
          "base_uri": "https://localhost:8080/",
          "height": 312
        }
      },
      "source": [
        "df.plot(x='bedrooms',y='price',kind='scatter', title='Bedrooms x Price', color='r')"
      ],
      "execution_count": null,
      "outputs": [
        {
          "output_type": "execute_result",
          "data": {
            "text/plain": [
              "<matplotlib.axes._subplots.AxesSubplot at 0x7f7d7b1b25c0>"
            ]
          },
          "metadata": {
            "tags": []
          },
          "execution_count": 50
        },
        {
          "output_type": "display_data",
          "data": {
            "image/png": "[encoded data removed]",
            "text/plain": [
              "<Figure size 432x288 with 1 Axes>"
            ]
          },
          "metadata": {
            "tags": []
          }
        }
      ]
    },
    {
      "cell_type": "markdown",
      "metadata": {
        "id": "Gw3-mZFMJHNG"
      },
      "source": [
        " **9) Generate an Excel spread sheet from this Dataframe:**"
      ]
    },
    {
      "cell_type": "code",
      "metadata": {
        "id": "SrqS6izJJLmH",
        "outputId": "4ea9663f-7ef9-400f-90c4-01a00d2f557e",
        "colab": {
          "base_uri": "https://localhost:8080/",
          "height": 306
        }
      },
      "source": [
        "df.to_excel('datasets/planilha_house.xls', index=False)"
      ],
      "execution_count": null,
      "outputs": [
        {
          "output_type": "error",
          "ename": "FileNotFoundError",
          "evalue": "ignored",
          "traceback": [
            "\u001b[0;31m---------------------------------------------------------------------------\u001b[0m",
            "\u001b[0;31mFileNotFoundError\u001b[0m                         Traceback (most recent call last)",
            "\u001b[0;32m<ipython-input-52-1b0552e76790>\u001b[0m in \u001b[0;36m<module>\u001b[0;34m()\u001b[0m\n\u001b[0;32m----> 1\u001b[0;31m \u001b[0mdf\u001b[0m\u001b[0;34m.\u001b[0m\u001b[0mto_excel\u001b[0m\u001b[0;34m(\u001b[0m\u001b[0;34m'datasets/planilha_house.xls'\u001b[0m\u001b[0;34m,\u001b[0m \u001b[0mindex\u001b[0m\u001b[0;34m=\u001b[0m\u001b[0;32mFalse\u001b[0m\u001b[0;34m)\u001b[0m\u001b[0;34m\u001b[0m\u001b[0;34m\u001b[0m\u001b[0m\n\u001b[0m",
            "\u001b[0;32m/usr/local/lib/python3.6/dist-packages/pandas/core/generic.py\u001b[0m in \u001b[0;36mto_excel\u001b[0;34m(self, excel_writer, sheet_name, na_rep, float_format, columns, header, index, index_label, startrow, startcol, engine, merge_cells, encoding, inf_rep, verbose, freeze_panes)\u001b[0m\n\u001b[1;32m   2254\u001b[0m             \u001b[0mstartcol\u001b[0m\u001b[0;34m=\u001b[0m\u001b[0mstartcol\u001b[0m\u001b[0;34m,\u001b[0m\u001b[0;34m\u001b[0m\u001b[0;34m\u001b[0m\u001b[0m\n\u001b[1;32m   2255\u001b[0m             \u001b[0mfreeze_panes\u001b[0m\u001b[0;34m=\u001b[0m\u001b[0mfreeze_panes\u001b[0m\u001b[0;34m,\u001b[0m\u001b[0;34m\u001b[0m\u001b[0;34m\u001b[0m\u001b[0m\n\u001b[0;32m-> 2256\u001b[0;31m             \u001b[0mengine\u001b[0m\u001b[0;34m=\u001b[0m\u001b[0mengine\u001b[0m\u001b[0;34m,\u001b[0m\u001b[0;34m\u001b[0m\u001b[0;34m\u001b[0m\u001b[0m\n\u001b[0m\u001b[1;32m   2257\u001b[0m         )\n\u001b[1;32m   2258\u001b[0m \u001b[0;34m\u001b[0m\u001b[0m\n",
            "\u001b[0;32m/usr/local/lib/python3.6/dist-packages/pandas/io/formats/excel.py\u001b[0m in \u001b[0;36mwrite\u001b[0;34m(self, writer, sheet_name, startrow, startcol, freeze_panes, engine)\u001b[0m\n\u001b[1;32m    740\u001b[0m         )\n\u001b[1;32m    741\u001b[0m         \u001b[0;32mif\u001b[0m \u001b[0mneed_save\u001b[0m\u001b[0;34m:\u001b[0m\u001b[0;34m\u001b[0m\u001b[0;34m\u001b[0m\u001b[0m\n\u001b[0;32m--> 742\u001b[0;31m             \u001b[0mwriter\u001b[0m\u001b[0;34m.\u001b[0m\u001b[0msave\u001b[0m\u001b[0;34m(\u001b[0m\u001b[0;34m)\u001b[0m\u001b[0;34m\u001b[0m\u001b[0;34m\u001b[0m\u001b[0m\n\u001b[0m",
            "\u001b[0;32m/usr/local/lib/python3.6/dist-packages/pandas/io/excel/_xlwt.py\u001b[0m in \u001b[0;36msave\u001b[0;34m(self)\u001b[0m\n\u001b[1;32m     30\u001b[0m         \u001b[0mSave\u001b[0m \u001b[0mworkbook\u001b[0m \u001b[0mto\u001b[0m \u001b[0mdisk\u001b[0m\u001b[0;34m.\u001b[0m\u001b[0;34m\u001b[0m\u001b[0;34m\u001b[0m\u001b[0m\n\u001b[1;32m     31\u001b[0m         \"\"\"\n\u001b[0;32m---> 32\u001b[0;31m         \u001b[0;32mreturn\u001b[0m \u001b[0mself\u001b[0m\u001b[0;34m.\u001b[0m\u001b[0mbook\u001b[0m\u001b[0;34m.\u001b[0m\u001b[0msave\u001b[0m\u001b[0;34m(\u001b[0m\u001b[0mself\u001b[0m\u001b[0;34m.\u001b[0m\u001b[0mpath\u001b[0m\u001b[0;34m)\u001b[0m\u001b[0;34m\u001b[0m\u001b[0;34m\u001b[0m\u001b[0m\n\u001b[0m\u001b[1;32m     33\u001b[0m \u001b[0;34m\u001b[0m\u001b[0m\n\u001b[1;32m     34\u001b[0m     def write_cells(\n",
            "\u001b[0;32m/usr/local/lib/python3.6/dist-packages/xlwt/Workbook.py\u001b[0m in \u001b[0;36msave\u001b[0;34m(self, filename_or_stream)\u001b[0m\n\u001b[1;32m    708\u001b[0m \u001b[0;34m\u001b[0m\u001b[0m\n\u001b[1;32m    709\u001b[0m         \u001b[0mdoc\u001b[0m \u001b[0;34m=\u001b[0m \u001b[0mCompoundDoc\u001b[0m\u001b[0;34m.\u001b[0m\u001b[0mXlsDoc\u001b[0m\u001b[0;34m(\u001b[0m\u001b[0;34m)\u001b[0m\u001b[0;34m\u001b[0m\u001b[0;34m\u001b[0m\u001b[0m\n\u001b[0;32m--> 710\u001b[0;31m         \u001b[0mdoc\u001b[0m\u001b[0;34m.\u001b[0m\u001b[0msave\u001b[0m\u001b[0;34m(\u001b[0m\u001b[0mfilename_or_stream\u001b[0m\u001b[0;34m,\u001b[0m \u001b[0mself\u001b[0m\u001b[0;34m.\u001b[0m\u001b[0mget_biff_data\u001b[0m\u001b[0;34m(\u001b[0m\u001b[0;34m)\u001b[0m\u001b[0;34m)\u001b[0m\u001b[0;34m\u001b[0m\u001b[0;34m\u001b[0m\u001b[0m\n\u001b[0m\u001b[1;32m    711\u001b[0m \u001b[0;34m\u001b[0m\u001b[0m\n\u001b[1;32m    712\u001b[0m \u001b[0;34m\u001b[0m\u001b[0m\n",
            "\u001b[0;32m/usr/local/lib/python3.6/dist-packages/xlwt/CompoundDoc.py\u001b[0m in \u001b[0;36msave\u001b[0;34m(self, file_name_or_filelike_obj, stream)\u001b[0m\n\u001b[1;32m    260\u001b[0m         \u001b[0mwe_own_it\u001b[0m \u001b[0;34m=\u001b[0m \u001b[0;32mnot\u001b[0m \u001b[0mhasattr\u001b[0m\u001b[0;34m(\u001b[0m\u001b[0mf\u001b[0m\u001b[0;34m,\u001b[0m \u001b[0;34m'write'\u001b[0m\u001b[0;34m)\u001b[0m\u001b[0;34m\u001b[0m\u001b[0;34m\u001b[0m\u001b[0m\n\u001b[1;32m    261\u001b[0m         \u001b[0;32mif\u001b[0m \u001b[0mwe_own_it\u001b[0m\u001b[0;34m:\u001b[0m\u001b[0;34m\u001b[0m\u001b[0;34m\u001b[0m\u001b[0m\n\u001b[0;32m--> 262\u001b[0;31m             \u001b[0mf\u001b[0m \u001b[0;34m=\u001b[0m \u001b[0mopen\u001b[0m\u001b[0;34m(\u001b[0m\u001b[0mfile_name_or_filelike_obj\u001b[0m\u001b[0;34m,\u001b[0m \u001b[0;34m'w+b'\u001b[0m\u001b[0;34m)\u001b[0m\u001b[0;34m\u001b[0m\u001b[0;34m\u001b[0m\u001b[0m\n\u001b[0m\u001b[1;32m    263\u001b[0m         \u001b[0mf\u001b[0m\u001b[0;34m.\u001b[0m\u001b[0mwrite\u001b[0m\u001b[0;34m(\u001b[0m\u001b[0mself\u001b[0m\u001b[0;34m.\u001b[0m\u001b[0mheader\u001b[0m\u001b[0;34m)\u001b[0m\u001b[0;34m\u001b[0m\u001b[0;34m\u001b[0m\u001b[0m\n\u001b[1;32m    264\u001b[0m         \u001b[0mf\u001b[0m\u001b[0;34m.\u001b[0m\u001b[0mwrite\u001b[0m\u001b[0;34m(\u001b[0m\u001b[0mself\u001b[0m\u001b[0;34m.\u001b[0m\u001b[0mpacked_MSAT_1st\u001b[0m\u001b[0;34m)\u001b[0m\u001b[0;34m\u001b[0m\u001b[0;34m\u001b[0m\u001b[0m\n",
            "\u001b[0;31mFileNotFoundError\u001b[0m: [Errno 2] No such file or directory: 'datasets/planilha_house.xls'"
          ]
        }
      ]
    },
    {
      "cell_type": "code",
      "metadata": {
        "id": "1nW6IleHJVmo"
      },
      "source": [
        ""
      ],
      "execution_count": null,
      "outputs": []
    }
  ]
}